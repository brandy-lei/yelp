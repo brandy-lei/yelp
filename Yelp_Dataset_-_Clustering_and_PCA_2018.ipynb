{
 "cells": [
  {
   "cell_type": "markdown",
   "metadata": {},
   "source": [
    "# Yelp Data Challenge - Clustering and PCA\n",
    "\n",
    "BitTiger DS501\n",
    "\n",
    "Jun 2017"
   ]
  },
  {
   "cell_type": "code",
   "execution_count": 3,
   "metadata": {
    "collapsed": true
   },
   "outputs": [],
   "source": [
    "import pandas as pd\n",
    "import numpy as np\n",
    "import matplotlib.pyplot as plt\n",
    "% matplotlib inline\n",
    "plt.style.use(\"ggplot\")"
   ]
  },
  {
   "cell_type": "code",
   "execution_count": 4,
   "metadata": {
    "collapsed": true
   },
   "outputs": [],
   "source": [
    "df = pd.read_csv('last_2_years_restaurant_reviews_from_else.csv')"
   ]
  },
  {
   "cell_type": "code",
   "execution_count": 5,
   "metadata": {},
   "outputs": [
    {
     "data": {
      "text/html": [
       "<div>\n",
       "<style>\n",
       "    .dataframe thead tr:only-child th {\n",
       "        text-align: right;\n",
       "    }\n",
       "\n",
       "    .dataframe thead th {\n",
       "        text-align: left;\n",
       "    }\n",
       "\n",
       "    .dataframe tbody tr th {\n",
       "        vertical-align: top;\n",
       "    }\n",
       "</style>\n",
       "<table border=\"1\" class=\"dataframe\">\n",
       "  <thead>\n",
       "    <tr style=\"text-align: right;\">\n",
       "      <th></th>\n",
       "      <th>business_id</th>\n",
       "      <th>name</th>\n",
       "      <th>categories</th>\n",
       "      <th>avg_stars</th>\n",
       "      <th>cool</th>\n",
       "      <th>date</th>\n",
       "      <th>funny</th>\n",
       "      <th>review_id</th>\n",
       "      <th>stars</th>\n",
       "      <th>text</th>\n",
       "      <th>useful</th>\n",
       "      <th>user_id</th>\n",
       "    </tr>\n",
       "  </thead>\n",
       "  <tbody>\n",
       "    <tr>\n",
       "      <th>0</th>\n",
       "      <td>--9e1ONYQuAa-CB_Rrw7Tw</td>\n",
       "      <td>Delmonico Steakhouse</td>\n",
       "      <td>['Steakhouses', 'Cajun/Creole', 'Restaurants']</td>\n",
       "      <td>4.0</td>\n",
       "      <td>1</td>\n",
       "      <td>2016-05-17</td>\n",
       "      <td>0</td>\n",
       "      <td>0Qc1THNHSapDL7cv-ZzW5g</td>\n",
       "      <td>5</td>\n",
       "      <td>What can I say.. Wowzers! Probably one of the ...</td>\n",
       "      <td>0</td>\n",
       "      <td>4LxKRRIikhr65GfPDW626w</td>\n",
       "    </tr>\n",
       "    <tr>\n",
       "      <th>1</th>\n",
       "      <td>--9e1ONYQuAa-CB_Rrw7Tw</td>\n",
       "      <td>Delmonico Steakhouse</td>\n",
       "      <td>['Steakhouses', 'Cajun/Creole', 'Restaurants']</td>\n",
       "      <td>4.0</td>\n",
       "      <td>0</td>\n",
       "      <td>2017-01-20</td>\n",
       "      <td>0</td>\n",
       "      <td>L8lo5SKXfZRlbn1bpPiC9w</td>\n",
       "      <td>5</td>\n",
       "      <td>Went here for guys weekend. Unbelievable. Ravi...</td>\n",
       "      <td>0</td>\n",
       "      <td>nT8zgjoc-PbdBoQsFEXFLw</td>\n",
       "    </tr>\n",
       "    <tr>\n",
       "      <th>2</th>\n",
       "      <td>--9e1ONYQuAa-CB_Rrw7Tw</td>\n",
       "      <td>Delmonico Steakhouse</td>\n",
       "      <td>['Steakhouses', 'Cajun/Creole', 'Restaurants']</td>\n",
       "      <td>4.0</td>\n",
       "      <td>52</td>\n",
       "      <td>2016-09-25</td>\n",
       "      <td>30</td>\n",
       "      <td>6eUT3IwwWPP3CZkAhxqOIw</td>\n",
       "      <td>5</td>\n",
       "      <td>One word my friends: tableside!!! Yes, tablesi...</td>\n",
       "      <td>56</td>\n",
       "      <td>7RlyCglsIzhBn081inwvcg</td>\n",
       "    </tr>\n",
       "    <tr>\n",
       "      <th>3</th>\n",
       "      <td>--9e1ONYQuAa-CB_Rrw7Tw</td>\n",
       "      <td>Delmonico Steakhouse</td>\n",
       "      <td>['Steakhouses', 'Cajun/Creole', 'Restaurants']</td>\n",
       "      <td>4.0</td>\n",
       "      <td>1</td>\n",
       "      <td>2017-02-12</td>\n",
       "      <td>0</td>\n",
       "      <td>3cnTdE45VrsS0o4cVhfGog</td>\n",
       "      <td>3</td>\n",
       "      <td>Located inside my favorite hotel Venetian, Del...</td>\n",
       "      <td>1</td>\n",
       "      <td>rOIrilMC7VFwFVBeQNiKMw</td>\n",
       "    </tr>\n",
       "    <tr>\n",
       "      <th>4</th>\n",
       "      <td>--9e1ONYQuAa-CB_Rrw7Tw</td>\n",
       "      <td>Delmonico Steakhouse</td>\n",
       "      <td>['Steakhouses', 'Cajun/Creole', 'Restaurants']</td>\n",
       "      <td>4.0</td>\n",
       "      <td>0</td>\n",
       "      <td>2016-10-30</td>\n",
       "      <td>0</td>\n",
       "      <td>tYrSbjX3QgZGBZuQ3n8g6w</td>\n",
       "      <td>5</td>\n",
       "      <td>After the most incredible service, delicious m...</td>\n",
       "      <td>2</td>\n",
       "      <td>PiWlV_UC_-SXqyxQM9fAtw</td>\n",
       "    </tr>\n",
       "  </tbody>\n",
       "</table>\n",
       "</div>"
      ],
      "text/plain": [
       "              business_id                  name  \\\n",
       "0  --9e1ONYQuAa-CB_Rrw7Tw  Delmonico Steakhouse   \n",
       "1  --9e1ONYQuAa-CB_Rrw7Tw  Delmonico Steakhouse   \n",
       "2  --9e1ONYQuAa-CB_Rrw7Tw  Delmonico Steakhouse   \n",
       "3  --9e1ONYQuAa-CB_Rrw7Tw  Delmonico Steakhouse   \n",
       "4  --9e1ONYQuAa-CB_Rrw7Tw  Delmonico Steakhouse   \n",
       "\n",
       "                                       categories  avg_stars  cool  \\\n",
       "0  ['Steakhouses', 'Cajun/Creole', 'Restaurants']        4.0     1   \n",
       "1  ['Steakhouses', 'Cajun/Creole', 'Restaurants']        4.0     0   \n",
       "2  ['Steakhouses', 'Cajun/Creole', 'Restaurants']        4.0    52   \n",
       "3  ['Steakhouses', 'Cajun/Creole', 'Restaurants']        4.0     1   \n",
       "4  ['Steakhouses', 'Cajun/Creole', 'Restaurants']        4.0     0   \n",
       "\n",
       "         date  funny               review_id  stars  \\\n",
       "0  2016-05-17      0  0Qc1THNHSapDL7cv-ZzW5g      5   \n",
       "1  2017-01-20      0  L8lo5SKXfZRlbn1bpPiC9w      5   \n",
       "2  2016-09-25     30  6eUT3IwwWPP3CZkAhxqOIw      5   \n",
       "3  2017-02-12      0  3cnTdE45VrsS0o4cVhfGog      3   \n",
       "4  2016-10-30      0  tYrSbjX3QgZGBZuQ3n8g6w      5   \n",
       "\n",
       "                                                text  useful  \\\n",
       "0  What can I say.. Wowzers! Probably one of the ...       0   \n",
       "1  Went here for guys weekend. Unbelievable. Ravi...       0   \n",
       "2  One word my friends: tableside!!! Yes, tablesi...      56   \n",
       "3  Located inside my favorite hotel Venetian, Del...       1   \n",
       "4  After the most incredible service, delicious m...       2   \n",
       "\n",
       "                  user_id  \n",
       "0  4LxKRRIikhr65GfPDW626w  \n",
       "1  nT8zgjoc-PbdBoQsFEXFLw  \n",
       "2  7RlyCglsIzhBn081inwvcg  \n",
       "3  rOIrilMC7VFwFVBeQNiKMw  \n",
       "4  PiWlV_UC_-SXqyxQM9fAtw  "
      ]
     },
     "execution_count": 5,
     "metadata": {},
     "output_type": "execute_result"
    }
   ],
   "source": [
    "df.head()"
   ]
  },
  {
   "cell_type": "markdown",
   "metadata": {},
   "source": [
    "## 1. Cluster the review text data for all the restaurants"
   ]
  },
  {
   "cell_type": "markdown",
   "metadata": {},
   "source": [
    "### Define your feature variables, here is the text of the review"
   ]
  },
  {
   "cell_type": "code",
   "execution_count": 3,
   "metadata": {
    "collapsed": true
   },
   "outputs": [],
   "source": [
    "# Take the values of the column that contains review text data, save to a variable named \"documents\"\n",
    "documents=df['text'].values"
   ]
  },
  {
   "cell_type": "markdown",
   "metadata": {},
   "source": [
    "### Define your target variable (any categorical variable that may be meaningful)"
   ]
  },
  {
   "cell_type": "markdown",
   "metadata": {},
   "source": [
    "#### For example, I am interested in perfect (5 stars) and imperfect (1-4 stars) rating"
   ]
  },
  {
   "cell_type": "code",
   "execution_count": 4,
   "metadata": {
    "collapsed": true
   },
   "outputs": [],
   "source": [
    "# Make a column and take the values, save to a variable named \"target\"\n",
    "df['target']=df['stars']>4\n"
   ]
  },
  {
   "cell_type": "code",
   "execution_count": 5,
   "metadata": {
    "collapsed": true
   },
   "outputs": [],
   "source": [
    "target=df['target'].values.astype(int)"
   ]
  },
  {
   "cell_type": "code",
   "execution_count": 6,
   "metadata": {},
   "outputs": [
    {
     "data": {
      "text/plain": [
       "array([ True,  True,  True, False,  True,  True, False, False,  True, False], dtype=bool)"
      ]
     },
     "execution_count": 6,
     "metadata": {},
     "output_type": "execute_result"
    }
   ],
   "source": [
    "target[:10]"
   ]
  },
  {
   "cell_type": "markdown",
   "metadata": {},
   "source": [
    "#### You may want to look at the statistic of the target variable"
   ]
  },
  {
   "cell_type": "code",
   "execution_count": 7,
   "metadata": {},
   "outputs": [
    {
     "data": {
      "text/plain": [
       "(0.45747874965725255, 0.49818866232511694)"
      ]
     },
     "execution_count": 7,
     "metadata": {},
     "output_type": "execute_result"
    }
   ],
   "source": [
    "# To be implemented\n",
    "target.mean(), target.std()"
   ]
  },
  {
   "cell_type": "markdown",
   "metadata": {},
   "source": [
    "### Create training dataset and test dataset"
   ]
  },
  {
   "cell_type": "code",
   "execution_count": 8,
   "metadata": {},
   "outputs": [
    {
     "name": "stderr",
     "output_type": "stream",
     "text": [
      "C:\\Users\\Lei Lei\\Anaconda2\\lib\\site-packages\\sklearn\\cross_validation.py:44: DeprecationWarning: This module was deprecated in version 0.18 in favor of the model_selection module into which all the refactored classes and functions are moved. Also note that the interface of the new CV iterators are different from that of this module. This module will be removed in 0.20.\n",
      "  \"This module will be removed in 0.20.\", DeprecationWarning)\n"
     ]
    }
   ],
   "source": [
    "from sklearn.cross_validation import train_test_split"
   ]
  },
  {
   "cell_type": "code",
   "execution_count": 9,
   "metadata": {
    "collapsed": true
   },
   "outputs": [],
   "source": [
    "# documents is your X, target is your y\n",
    "# Now split the data to training set and test set\n",
    "# You may want to start with a big \"test_size\", since large training set can easily crash your laptop.\n",
    "\n",
    "document_train, document_test, target_train, target_test=train_test_split(documents, target, test_size=0.95, random_state=42)"
   ]
  },
  {
   "cell_type": "code",
   "execution_count": 10,
   "metadata": {},
   "outputs": [
    {
     "data": {
      "text/plain": [
       "21882"
      ]
     },
     "execution_count": 10,
     "metadata": {},
     "output_type": "execute_result"
    }
   ],
   "source": [
    "document_train.size"
   ]
  },
  {
   "cell_type": "markdown",
   "metadata": {},
   "source": [
    "### Get NLP representation of the documents\n",
    "\n",
    "#### Fit TfidfVectorizer with training data only, then tranform all the data to tf-idf"
   ]
  },
  {
   "cell_type": "code",
   "execution_count": 11,
   "metadata": {
    "collapsed": true
   },
   "outputs": [],
   "source": [
    "from sklearn.feature_extraction.text import TfidfVectorizer"
   ]
  },
  {
   "cell_type": "code",
   "execution_count": 12,
   "metadata": {
    "collapsed": true
   },
   "outputs": [],
   "source": [
    "# Create TfidfVectorizer, and name it vectorizer, choose a reasonable max_features, e.g. 1000\n",
    "vectors=TfidfVectorizer(stop_words='english', max_features=1000)"
   ]
  },
  {
   "cell_type": "code",
   "execution_count": 13,
   "metadata": {
    "collapsed": true
   },
   "outputs": [],
   "source": [
    "# Train the model with your training data\n",
    "vectors_train=vectors.fit_transform(document_train).toarray()"
   ]
  },
  {
   "cell_type": "code",
   "execution_count": 36,
   "metadata": {},
   "outputs": [
    {
     "data": {
      "text/plain": [
       "[u'00',\n",
       " u'10',\n",
       " u'100',\n",
       " u'11',\n",
       " u'12',\n",
       " u'15',\n",
       " u'16',\n",
       " u'18',\n",
       " u'20',\n",
       " u'24',\n",
       " u'25',\n",
       " u'30',\n",
       " u'40',\n",
       " u'45',\n",
       " u'50',\n",
       " u'95',\n",
       " u'99',\n",
       " u'able',\n",
       " u'absolutely',\n",
       " u'accommodating',\n",
       " u'actually',\n",
       " u'add',\n",
       " u'added',\n",
       " u'affordable',\n",
       " u'afternoon',\n",
       " u'ago',\n",
       " u'ahead',\n",
       " u'al',\n",
       " u'amazing',\n",
       " u'ambiance',\n",
       " u'ambience',\n",
       " u'american',\n",
       " u'appetizer',\n",
       " u'appetizers',\n",
       " u'apple',\n",
       " u'area',\n",
       " u'aren',\n",
       " u'arrived',\n",
       " u'asada',\n",
       " u'asian',\n",
       " u'ask',\n",
       " u'asked',\n",
       " u'asking',\n",
       " u'ate',\n",
       " u'atmosphere',\n",
       " u'attention',\n",
       " u'attentive',\n",
       " u'attitude',\n",
       " u'authentic',\n",
       " u'available',\n",
       " u'average',\n",
       " u'avocado',\n",
       " u'avoid',\n",
       " u'away',\n",
       " u'awesome',\n",
       " u'awful',\n",
       " u'ayce',\n",
       " u'bacon',\n",
       " u'bad',\n",
       " u'bag',\n",
       " u'baked',\n",
       " u'banana',\n",
       " u'bar',\n",
       " u'barely',\n",
       " u'bartender',\n",
       " u'bartenders',\n",
       " u'based',\n",
       " u'basic',\n",
       " u'basically',\n",
       " u'bathroom',\n",
       " u'bbq',\n",
       " u'bean',\n",
       " u'beans',\n",
       " u'beautiful',\n",
       " u'beef',\n",
       " u'beer',\n",
       " u'beers',\n",
       " u'believe',\n",
       " u'bellagio',\n",
       " u'belly',\n",
       " u'benedict',\n",
       " u'best',\n",
       " u'better',\n",
       " u'big',\n",
       " u'birthday',\n",
       " u'bit',\n",
       " u'bite',\n",
       " u'black',\n",
       " u'bland',\n",
       " u'blue',\n",
       " u'boba',\n",
       " u'bomb',\n",
       " u'bone',\n",
       " u'bottle',\n",
       " u'bowl',\n",
       " u'bowls',\n",
       " u'box',\n",
       " u'boyfriend',\n",
       " u'bread',\n",
       " u'break',\n",
       " u'breakfast',\n",
       " u'bring',\n",
       " u'brisket',\n",
       " u'broth',\n",
       " u'brought',\n",
       " u'brown',\n",
       " u'brunch',\n",
       " u'buffet',\n",
       " u'buffets',\n",
       " u'bun',\n",
       " u'burger',\n",
       " u'burgers',\n",
       " u'burnt',\n",
       " u'burrito',\n",
       " u'business',\n",
       " u'busy',\n",
       " u'butter',\n",
       " u'buy',\n",
       " u'caesar',\n",
       " u'cafe',\n",
       " u'cake',\n",
       " u'calamari',\n",
       " u'california',\n",
       " u'called',\n",
       " u'came',\n",
       " u'card',\n",
       " u'care',\n",
       " u'carne',\n",
       " u'case',\n",
       " u'cashier',\n",
       " u'casino',\n",
       " u'casual',\n",
       " u'cause',\n",
       " u'center',\n",
       " u'certainly',\n",
       " u'chance',\n",
       " u'change',\n",
       " u'changed',\n",
       " u'charge',\n",
       " u'charged',\n",
       " u'cheap',\n",
       " u'check',\n",
       " u'checked',\n",
       " u'checking',\n",
       " u'cheese',\n",
       " u'cheesecake',\n",
       " u'chef',\n",
       " u'chefs',\n",
       " u'chewy',\n",
       " u'chicken',\n",
       " u'chili',\n",
       " u'chinese',\n",
       " u'chipotle',\n",
       " u'chips',\n",
       " u'chocolate',\n",
       " u'choice',\n",
       " u'choices',\n",
       " u'choose',\n",
       " u'chose',\n",
       " u'city',\n",
       " u'classic',\n",
       " u'clean',\n",
       " u'close',\n",
       " u'closed',\n",
       " u'club',\n",
       " u'cocktail',\n",
       " u'cocktails',\n",
       " u'coconut',\n",
       " u'coffee',\n",
       " u'cold',\n",
       " u'combination',\n",
       " u'combo',\n",
       " u'come',\n",
       " u'comes',\n",
       " u'comfortable',\n",
       " u'coming',\n",
       " u'compared',\n",
       " u'complain',\n",
       " u'complaint',\n",
       " u'completely',\n",
       " u'complimentary',\n",
       " u'considering',\n",
       " u'cook',\n",
       " u'cooked',\n",
       " u'cooking',\n",
       " u'cool',\n",
       " u'corn',\n",
       " u'corner',\n",
       " u'cost',\n",
       " u'couldn',\n",
       " u'counter',\n",
       " u'couple',\n",
       " u'course',\n",
       " u'crab',\n",
       " u'craving',\n",
       " u'crazy',\n",
       " u'cream',\n",
       " u'creamy',\n",
       " u'crepe',\n",
       " u'crisp',\n",
       " u'crispy',\n",
       " u'crowded',\n",
       " u'crunchy',\n",
       " u'crust',\n",
       " u'cuisine',\n",
       " u'cup',\n",
       " u'curry',\n",
       " u'customer',\n",
       " u'customers',\n",
       " u'cut',\n",
       " u'cute',\n",
       " u'damn',\n",
       " u'dark',\n",
       " u'date',\n",
       " u'daughter',\n",
       " u'day',\n",
       " u'days',\n",
       " u'deal',\n",
       " u'decent',\n",
       " u'decided',\n",
       " u'decor',\n",
       " u'deep',\n",
       " u'definitely',\n",
       " u'delicious',\n",
       " u'delish',\n",
       " u'delivered',\n",
       " u'delivery',\n",
       " u'desert',\n",
       " u'despite',\n",
       " u'dessert',\n",
       " u'desserts',\n",
       " u'did',\n",
       " u'didn',\n",
       " u'die',\n",
       " u'different',\n",
       " u'dim',\n",
       " u'dine',\n",
       " u'dining',\n",
       " u'dinner',\n",
       " u'dip',\n",
       " u'dirty',\n",
       " u'disappoint',\n",
       " u'disappointed',\n",
       " u'disappointing',\n",
       " u'disappointment',\n",
       " u'disgusting',\n",
       " u'dish',\n",
       " u'dishes',\n",
       " u'does',\n",
       " u'doesn',\n",
       " u'dog',\n",
       " u'doing',\n",
       " u'don',\n",
       " u'dont',\n",
       " u'donuts',\n",
       " u'door',\n",
       " u'double',\n",
       " u'downtown',\n",
       " u'dressing',\n",
       " u'drink',\n",
       " u'drinks',\n",
       " u'drive',\n",
       " u'dry',\n",
       " u'duck',\n",
       " u'early',\n",
       " u'easily',\n",
       " u'easy',\n",
       " u'eat',\n",
       " u'eaten',\n",
       " u'eating',\n",
       " u'egg',\n",
       " u'eggs',\n",
       " u'employee',\n",
       " u'employees',\n",
       " u'end',\n",
       " u'ended',\n",
       " u'enjoy',\n",
       " u'enjoyed',\n",
       " u'entire',\n",
       " u'entree',\n",
       " u'entrees',\n",
       " u'environment',\n",
       " u'especially',\n",
       " u'establishment',\n",
       " u'evening',\n",
       " u'exactly',\n",
       " u'excellent',\n",
       " u'exceptional',\n",
       " u'excited',\n",
       " u'expect',\n",
       " u'expectations',\n",
       " u'expected',\n",
       " u'expecting',\n",
       " u'expensive',\n",
       " u'experience',\n",
       " u'explained',\n",
       " u'extra',\n",
       " u'extremely',\n",
       " u'eye',\n",
       " u'fabulous',\n",
       " u'face',\n",
       " u'fact',\n",
       " u'fair',\n",
       " u'fairly',\n",
       " u'family',\n",
       " u'fan',\n",
       " u'fancy',\n",
       " u'fantastic',\n",
       " u'far',\n",
       " u'fast',\n",
       " u'fat',\n",
       " u'favorite',\n",
       " u'favorites',\n",
       " u'feel',\n",
       " u'feeling',\n",
       " u'felt',\n",
       " u'filet',\n",
       " u'filled',\n",
       " u'filling',\n",
       " u'finally',\n",
       " u'fine',\n",
       " u'finish',\n",
       " u'finished',\n",
       " u'fish',\n",
       " u'fix',\n",
       " u'flavor',\n",
       " u'flavorful',\n",
       " u'flavors',\n",
       " u'floor',\n",
       " u'food',\n",
       " u'foods',\n",
       " u'forever',\n",
       " u'forget',\n",
       " u'forgot',\n",
       " u'forward',\n",
       " u'free',\n",
       " u'french',\n",
       " u'fresh',\n",
       " u'friday',\n",
       " u'fried',\n",
       " u'friend',\n",
       " u'friendly',\n",
       " u'friends',\n",
       " u'fries',\n",
       " u'frozen',\n",
       " u'fruit',\n",
       " u'fun',\n",
       " u'game',\n",
       " u'garlic',\n",
       " u'gave',\n",
       " u'gem',\n",
       " u'generous',\n",
       " u'gets',\n",
       " u'getting',\n",
       " u'girl',\n",
       " u'girlfriend',\n",
       " u'given',\n",
       " u'giving',\n",
       " u'glad',\n",
       " u'glass',\n",
       " u'gluten',\n",
       " u'goes',\n",
       " u'going',\n",
       " u'gone',\n",
       " u'good',\n",
       " u'got',\n",
       " u'grab',\n",
       " u'grand',\n",
       " u'gravy',\n",
       " u'greasy',\n",
       " u'great',\n",
       " u'green',\n",
       " u'greeted',\n",
       " u'grill',\n",
       " u'grilled',\n",
       " u'group',\n",
       " u'guacamole',\n",
       " u'guess',\n",
       " u'guests',\n",
       " u'guy',\n",
       " u'guys',\n",
       " u'half',\n",
       " u'hand',\n",
       " u'hands',\n",
       " u'happened',\n",
       " u'happy',\n",
       " u'hard',\n",
       " u'hash',\n",
       " u'hate',\n",
       " u'haven',\n",
       " u'having',\n",
       " u'hawaiian',\n",
       " u'head',\n",
       " u'healthy',\n",
       " u'hear',\n",
       " u'heard',\n",
       " u'heat',\n",
       " u'heavy',\n",
       " u'help',\n",
       " u'helped',\n",
       " u'helpful',\n",
       " u'hidden',\n",
       " u'high',\n",
       " u'highly',\n",
       " u'hit',\n",
       " u'home',\n",
       " u'homemade',\n",
       " u'honestly',\n",
       " u'honey',\n",
       " u'hope',\n",
       " u'horrible',\n",
       " u'host',\n",
       " u'hostess',\n",
       " u'hot',\n",
       " u'hotel',\n",
       " u'hour',\n",
       " u'hours',\n",
       " u'house',\n",
       " u'hubby',\n",
       " u'huge',\n",
       " u'hummus',\n",
       " u'hungry',\n",
       " u'husband',\n",
       " u'ice',\n",
       " u'iced',\n",
       " u'idea',\n",
       " u'im',\n",
       " u'immediately',\n",
       " u'impressed',\n",
       " u'included',\n",
       " u'including',\n",
       " u'incredible',\n",
       " u'incredibly',\n",
       " u'indian',\n",
       " u'ingredients',\n",
       " u'inside',\n",
       " u'instead',\n",
       " u'interesting',\n",
       " u'isn',\n",
       " u'issue',\n",
       " u'italian',\n",
       " u'item',\n",
       " u'items',\n",
       " u'japanese',\n",
       " u'job',\n",
       " u'joint',\n",
       " u'juice',\n",
       " u'juicy',\n",
       " u'just',\n",
       " u'kept',\n",
       " u'kick',\n",
       " u'kids',\n",
       " u'kind',\n",
       " u'kinda',\n",
       " u'kitchen',\n",
       " u'knew',\n",
       " u'know',\n",
       " u'korean',\n",
       " u'la',\n",
       " u'lack',\n",
       " u'lady',\n",
       " u'lamb',\n",
       " u'large',\n",
       " u'las',\n",
       " u'late',\n",
       " u'later',\n",
       " u'leave',\n",
       " u'leaving',\n",
       " u'left',\n",
       " u'legs',\n",
       " u'lemon',\n",
       " u'let',\n",
       " u'lettuce',\n",
       " u'level',\n",
       " u'life',\n",
       " u'light',\n",
       " u'like',\n",
       " u'liked',\n",
       " u'limited',\n",
       " u'line',\n",
       " u'lines',\n",
       " u'list',\n",
       " u'literally',\n",
       " u'little',\n",
       " u'live',\n",
       " u'll',\n",
       " u'lobster',\n",
       " u'local',\n",
       " u'located',\n",
       " u'location',\n",
       " u'locations',\n",
       " u'lol',\n",
       " u'long',\n",
       " u'longer',\n",
       " u'look',\n",
       " u'looked',\n",
       " u'looking',\n",
       " u'looks',\n",
       " u'lost',\n",
       " u'lot',\n",
       " u'lots',\n",
       " u'loud',\n",
       " u'love',\n",
       " u'loved',\n",
       " u'lovely',\n",
       " u'low',\n",
       " u'lunch',\n",
       " u'mac',\n",
       " u'main',\n",
       " u'make',\n",
       " u'makes',\n",
       " u'making',\n",
       " u'mall',\n",
       " u'man',\n",
       " u'management',\n",
       " u'manager',\n",
       " u'mango',\n",
       " u'margarita',\n",
       " u'mashed',\n",
       " u'matter',\n",
       " u'maybe',\n",
       " u'mayo',\n",
       " u'meal',\n",
       " u'meals',\n",
       " u'mean',\n",
       " u'meat',\n",
       " u'meatballs',\n",
       " u'meats',\n",
       " u'mediocre',\n",
       " u'medium',\n",
       " u'mention',\n",
       " u'menu',\n",
       " u'mexican',\n",
       " u'mgm',\n",
       " u'middle',\n",
       " u'milk',\n",
       " u'min',\n",
       " u'mind',\n",
       " u'mins',\n",
       " u'minute',\n",
       " u'minutes',\n",
       " u'miso',\n",
       " u'miss',\n",
       " u'missing',\n",
       " u'mistake',\n",
       " u'mix',\n",
       " u'mixed',\n",
       " u'modern',\n",
       " u'moist',\n",
       " u'mom',\n",
       " u'money',\n",
       " u'month',\n",
       " u'months',\n",
       " u'morning',\n",
       " u'mouth',\n",
       " u'moved',\n",
       " u'multiple',\n",
       " u'mushroom',\n",
       " u'mushrooms',\n",
       " u'music',\n",
       " u'nachos',\n",
       " u'near',\n",
       " u'need',\n",
       " u'needed',\n",
       " u'needs',\n",
       " u'new',\n",
       " u'nice',\n",
       " u'nicely',\n",
       " u'night',\n",
       " u'nigiri',\n",
       " u'non',\n",
       " u'noodle',\n",
       " u'noodles',\n",
       " u'normal',\n",
       " u'normally',\n",
       " u'notch',\n",
       " u'note',\n",
       " u'noticed',\n",
       " u'number',\n",
       " u'obviously',\n",
       " u'offer',\n",
       " u'offered',\n",
       " u'oh',\n",
       " u'oil',\n",
       " u'ok',\n",
       " u'okay',\n",
       " u'old',\n",
       " u'omg',\n",
       " u'ones',\n",
       " u'onion',\n",
       " u'onions',\n",
       " u'online',\n",
       " u'open',\n",
       " u'opened',\n",
       " u'opinion',\n",
       " u'option',\n",
       " u'options',\n",
       " u'orange',\n",
       " u'order',\n",
       " u'ordered',\n",
       " u'ordering',\n",
       " u'orders',\n",
       " u'original',\n",
       " u'outside',\n",
       " u'outstanding',\n",
       " u'overall',\n",
       " u'overly',\n",
       " u'overpriced',\n",
       " u'owner',\n",
       " u'owners',\n",
       " u'oysters',\n",
       " u'packed',\n",
       " u'pad',\n",
       " u'paid',\n",
       " u'pancakes',\n",
       " u'par',\n",
       " u'parking',\n",
       " u'party',\n",
       " u'pass',\n",
       " u'past',\n",
       " u'pasta',\n",
       " u'patio',\n",
       " u'pay',\n",
       " u'paying',\n",
       " u'people',\n",
       " u'pepper',\n",
       " u'peppers',\n",
       " u'perfect',\n",
       " u'perfection',\n",
       " u'perfectly',\n",
       " u'person',\n",
       " u'personal',\n",
       " u'personally',\n",
       " u'phenomenal',\n",
       " u'pho',\n",
       " u'phone',\n",
       " u'pick',\n",
       " u'picked',\n",
       " u'pie',\n",
       " u'piece',\n",
       " u'pieces',\n",
       " u'pizza',\n",
       " u'pizzas',\n",
       " u'place',\n",
       " u'placed',\n",
       " u'places',\n",
       " u'plain',\n",
       " u'plate',\n",
       " u'plates',\n",
       " u'platter',\n",
       " u'play',\n",
       " u'playing',\n",
       " u'pleasant',\n",
       " u'plenty',\n",
       " u'plus',\n",
       " u'pm',\n",
       " u'point',\n",
       " u'poke',\n",
       " u'polite',\n",
       " u'poor',\n",
       " u'popular',\n",
       " u'pork',\n",
       " u'portion',\n",
       " u'portions',\n",
       " u'pot',\n",
       " u'potato',\n",
       " u'potatoes',\n",
       " u'prefer',\n",
       " u'prepared',\n",
       " u'presentation',\n",
       " u'pretty',\n",
       " u'price',\n",
       " u'priced',\n",
       " u'prices',\n",
       " u'pricey',\n",
       " u'pricing',\n",
       " u'prime',\n",
       " u'probably',\n",
       " u'problem',\n",
       " u'professional',\n",
       " u'pudding',\n",
       " u'pulled',\n",
       " u'quality',\n",
       " u'quick',\n",
       " u'quickly',\n",
       " u'quite',\n",
       " u'ramen',\n",
       " u'rare',\n",
       " u'rating',\n",
       " u'raw',\n",
       " u'read',\n",
       " u'ready',\n",
       " u'real',\n",
       " u'really',\n",
       " u'reason',\n",
       " u'reasonable',\n",
       " u'received',\n",
       " u'recently',\n",
       " u'recommend',\n",
       " u'recommendations',\n",
       " u'recommended',\n",
       " u'red',\n",
       " u'refills',\n",
       " u'refreshing',\n",
       " u'regular',\n",
       " u'remember',\n",
       " u'reservation',\n",
       " u'reservations',\n",
       " u'rest',\n",
       " u'restaurant',\n",
       " u'restaurants',\n",
       " u'return',\n",
       " u'returning',\n",
       " u'review',\n",
       " u'reviews',\n",
       " u'rib',\n",
       " u'ribeye',\n",
       " u'ribs',\n",
       " u'rice',\n",
       " u'rich',\n",
       " u'ridiculous',\n",
       " u'right',\n",
       " u'roast',\n",
       " u'roasted',\n",
       " u'rock',\n",
       " u'roll',\n",
       " u'rolls',\n",
       " u'room',\n",
       " u'rude',\n",
       " u'run',\n",
       " u'sad',\n",
       " u'said',\n",
       " u'salad',\n",
       " u'salads',\n",
       " u'salmon',\n",
       " u'salsa',\n",
       " u'salt',\n",
       " u'salty',\n",
       " u'sandwich',\n",
       " u'sandwiches',\n",
       " u'sashimi',\n",
       " u'sat',\n",
       " u'satisfied',\n",
       " u'saturday',\n",
       " u'sauce',\n",
       " u'sauces',\n",
       " u'sausage',\n",
       " u'save',\n",
       " u'savory',\n",
       " u'saw',\n",
       " u'say',\n",
       " u'saying',\n",
       " u'says',\n",
       " u'scallops',\n",
       " u'sea',\n",
       " u'seafood',\n",
       " u'seasoned',\n",
       " u'seasoning',\n",
       " u'seat',\n",
       " u'seated',\n",
       " u'seating',\n",
       " u'seats',\n",
       " u'second',\n",
       " u'section',\n",
       " u'seeing',\n",
       " u'seen',\n",
       " u'selection',\n",
       " u'seriously',\n",
       " u'serve',\n",
       " u'served',\n",
       " u'server',\n",
       " u'servers',\n",
       " u'service',\n",
       " u'serving',\n",
       " u'set',\n",
       " u'shack',\n",
       " u'shake',\n",
       " u'share',\n",
       " u'shared',\n",
       " u'shop',\n",
       " u'short',\n",
       " u'shot',\n",
       " u'showed',\n",
       " u'shrimp',\n",
       " u'sides',\n",
       " u'sign',\n",
       " u'similar',\n",
       " u'simple',\n",
       " u'simply',\n",
       " u'single',\n",
       " u'sit',\n",
       " u'sitting',\n",
       " u'size',\n",
       " u'slice',\n",
       " u'slices',\n",
       " u'sliders',\n",
       " u'slightly',\n",
       " u'slow',\n",
       " u'small',\n",
       " u'smaller',\n",
       " u'smile',\n",
       " u'soda',\n",
       " u'soft',\n",
       " u'soggy',\n",
       " u'solid',\n",
       " u'son',\n",
       " u'soon',\n",
       " u'sorry',\n",
       " u'soup',\n",
       " u'sour',\n",
       " u'soy',\n",
       " u'space',\n",
       " u'special',\n",
       " u'specials',\n",
       " u'spectacular',\n",
       " u'spend',\n",
       " u'spent',\n",
       " u'spice',\n",
       " u'spicy',\n",
       " u'spinach',\n",
       " u'split',\n",
       " u'spot',\n",
       " u'spots',\n",
       " u'spring',\n",
       " u'staff',\n",
       " u'stand',\n",
       " u'standard',\n",
       " u'star',\n",
       " u'stars',\n",
       " u'start',\n",
       " u'started',\n",
       " u'station',\n",
       " u'stay',\n",
       " u'stayed',\n",
       " u'staying',\n",
       " u'steak',\n",
       " u'steakhouse',\n",
       " u'steaks',\n",
       " u'stick',\n",
       " u'stop',\n",
       " u'stopped',\n",
       " u'store',\n",
       " u'strawberry',\n",
       " u'street',\n",
       " u'strip',\n",
       " u'strong',\n",
       " u'stuff',\n",
       " u'stuffed',\n",
       " u'style',\n",
       " u'sugar',\n",
       " u'suggest',\n",
       " u'sum',\n",
       " u'sunday',\n",
       " u'super',\n",
       " u'supposed',\n",
       " u'sure',\n",
       " u'surprise',\n",
       " u'surprised',\n",
       " u'sushi',\n",
       " u'sweet',\n",
       " u'table',\n",
       " u'tables',\n",
       " u'taco',\n",
       " u'tacos',\n",
       " u'taken',\n",
       " u'takes',\n",
       " u'taking',\n",
       " u'talk',\n",
       " u'talking',\n",
       " u'taste',\n",
       " u'tasted',\n",
       " u'tastes',\n",
       " u'tasting',\n",
       " u'tasty',\n",
       " u'tea',\n",
       " u'tell',\n",
       " u'tempura',\n",
       " u'tender',\n",
       " u'teriyaki',\n",
       " u'terrible',\n",
       " u'texture',\n",
       " u'thai',\n",
       " u'thank',\n",
       " u'thanks',\n",
       " u'thing',\n",
       " u'things',\n",
       " u'think',\n",
       " u'thinking',\n",
       " u'thought',\n",
       " u'time',\n",
       " u'times',\n",
       " u'tiny',\n",
       " u'tip',\n",
       " u'toast',\n",
       " u'today',\n",
       " u'tofu',\n",
       " u'told',\n",
       " u'tomato',\n",
       " u'tomatoes',\n",
       " u'tonight',\n",
       " u'took',\n",
       " u'topped',\n",
       " u'toppings',\n",
       " u'total',\n",
       " u'totally',\n",
       " u'touch',\n",
       " u'tough',\n",
       " u'town',\n",
       " u'traditional',\n",
       " u'treat',\n",
       " u'tried',\n",
       " u'trip',\n",
       " u'true',\n",
       " u'truffle',\n",
       " u'truly',\n",
       " u'try',\n",
       " u'trying',\n",
       " u'tuna',\n",
       " u'turkey',\n",
       " u'turned',\n",
       " u'twice',\n",
       " u'type',\n",
       " u'typical',\n",
       " u'understand',\n",
       " u'unfortunately',\n",
       " u'unique',\n",
       " u'unless',\n",
       " u'use',\n",
       " u'used',\n",
       " u'usual',\n",
       " u'usually',\n",
       " u'value',\n",
       " u'variety',\n",
       " u've',\n",
       " u'vegan',\n",
       " u'vegas',\n",
       " u'vegetables',\n",
       " u'vegetarian',\n",
       " u'veggie',\n",
       " u'veggies',\n",
       " u'vibe',\n",
       " u'view',\n",
       " u'visit',\n",
       " u'visited',\n",
       " u'visiting',\n",
       " u'waffle',\n",
       " u'waffles',\n",
       " u'wait',\n",
       " u'waited',\n",
       " u'waiter',\n",
       " u'waiters',\n",
       " u'waiting',\n",
       " u'waitress',\n",
       " u'walk',\n",
       " u'walked',\n",
       " u'walking',\n",
       " u'wall',\n",
       " u'want',\n",
       " u'wanted',\n",
       " u'warm',\n",
       " u'wasn',\n",
       " u'waste',\n",
       " u'watch',\n",
       " u'watching',\n",
       " u'water',\n",
       " u'way',\n",
       " u'week',\n",
       " u'weekend',\n",
       " u'weird',\n",
       " u'welcoming',\n",
       " u'went',\n",
       " u'weren',\n",
       " u'white',\n",
       " u'wife',\n",
       " u'window',\n",
       " u'wine',\n",
       " u'wings',\n",
       " u'wish',\n",
       " u'won',\n",
       " u'wonderful',\n",
       " u'work',\n",
       " u'workers',\n",
       " u'working',\n",
       " u'world',\n",
       " u'worse',\n",
       " u'worst',\n",
       " u'worth',\n",
       " u'wouldn',\n",
       " u'wow',\n",
       " u'wrap',\n",
       " u'write',\n",
       " u'wrong',\n",
       " u'year',\n",
       " u'years',\n",
       " u'yelp',\n",
       " u'yes',\n",
       " u'york',\n",
       " u'young',\n",
       " u'yum',\n",
       " u'yummy']"
      ]
     },
     "execution_count": 36,
     "metadata": {},
     "output_type": "execute_result"
    }
   ],
   "source": [
    "# Get the vocab of your tfidf\n",
    "words=vectors.get_feature_names()"
   ]
  },
  {
   "cell_type": "code",
   "execution_count": 14,
   "metadata": {
    "collapsed": true
   },
   "outputs": [],
   "source": [
    "# Use the trained model to transform all the reviews\n",
    "vectors_documents=vectors.transform(documents).toarray()"
   ]
  },
  {
   "cell_type": "markdown",
   "metadata": {},
   "source": [
    "### Cluster reviews with KMeans"
   ]
  },
  {
   "cell_type": "markdown",
   "metadata": {},
   "source": [
    "#### Fit k-means clustering with the training vectors and apply it on all the data"
   ]
  },
  {
   "cell_type": "code",
   "execution_count": 15,
   "metadata": {},
   "outputs": [
    {
     "data": {
      "text/plain": [
       "KMeans(algorithm='auto', copy_x=True, init='k-means++', max_iter=300,\n",
       "    n_clusters=8, n_init=10, n_jobs=1, precompute_distances='auto',\n",
       "    random_state=None, tol=0.0001, verbose=0)"
      ]
     },
     "execution_count": 15,
     "metadata": {},
     "output_type": "execute_result"
    }
   ],
   "source": [
    "# To be implemented\n",
    "from sklearn.cluster import KMeans\n",
    "kmeans=KMeans()\n",
    "kmeans.fit(vectors_train)"
   ]
  },
  {
   "cell_type": "markdown",
   "metadata": {},
   "source": [
    "#### Make predictions on all your data"
   ]
  },
  {
   "cell_type": "code",
   "execution_count": null,
   "metadata": {
    "collapsed": true
   },
   "outputs": [],
   "source": [
    "# To be implemented\n",
    "assigned_clusters=kmeans.predict(vectors_documents)"
   ]
  },
  {
   "cell_type": "markdown",
   "metadata": {},
   "source": [
    "#### Inspect the centroids\n",
    "To find out what \"topics\" Kmeans has discovered we must inspect the centroids. Print out the centroids of the Kmeans clustering.\n",
    "\n",
    "   These centroids are simply a bunch of vectors.  To make any sense of them we need to map these vectors back into our 'word space'.  Think of each feature/dimension of the centroid vector as representing the \"average\" review or the average occurances of words for that cluster.\n",
    "   \n",
    "   Each Dimension represents a Word, if that dimension has high average value, means high occurances"
   ]
  },
  {
   "cell_type": "code",
   "execution_count": null,
   "metadata": {
    "collapsed": true
   },
   "outputs": [],
   "source": [
    "# To be implemented\n",
    "pass"
   ]
  },
  {
   "cell_type": "markdown",
   "metadata": {},
   "source": [
    "#### Find the top 10 features for each cluster.\n",
    "For topics we are only really interested in the most present words, i.e. features/dimensions with the greatest representation in the centroid.  Print out the top ten words for each centroid.\n",
    "\n",
    "* Sort each centroid vector to find the top 10 features\n",
    "* Go back to your vectorizer object to find out what words each of these features corresponds to.\n"
   ]
  },
  {
   "cell_type": "code",
   "execution_count": null,
   "metadata": {
    "collapsed": true
   },
   "outputs": [],
   "source": [
    "# To be implemented\n",
    "print ('cluster centers:')\n",
    "print (kmeans.cluster_centers_.shape)\n",
    "\n",
    "n_feat=10\n",
    "top_centroids=kmeans.cluster_centers_.argsort()[:,-1:-n_feat:-1]"
   ]
  },
  {
   "cell_type": "code",
   "execution_count": null,
   "metadata": {
    "collapsed": true
   },
   "outputs": [],
   "source": [
    "print ('top features for each cluster:')\n",
    "\n",
    "for num, centroid in enumerate(top_centroids):\n",
    "    print ('{}:{}' .format(num, ','.join(words[i] for i in centroid)))"
   ]
  },
  {
   "cell_type": "markdown",
   "metadata": {},
   "source": [
    "#### Try different k\n",
    "If you set k == to a different number, how does the top features change?"
   ]
  },
  {
   "cell_type": "code",
   "execution_count": null,
   "metadata": {
    "collapsed": true
   },
   "outputs": [],
   "source": [
    "# To be implemented\n",
    "kmeans=KMeans(n_clusters=6)\n",
    "kmeans.fit(vectors_train)"
   ]
  },
  {
   "cell_type": "code",
   "execution_count": null,
   "metadata": {
    "collapsed": true
   },
   "outputs": [],
   "source": [
    "# predict al documents\n",
    "\n",
    "assigned_clusters=kmeans.predict(vectors_documents)\n",
    "\n",
    "# select top 10 features for each centroids\n",
    "n_feat=10\n",
    "top_centroids=kmeans.cluster_centers_.argsort()[:,-1:-n_feat:-1]\n",
    "\n",
    "print ('top features for each cluster')\n",
    "for num, centroid in enumerate(top_centroids):\n",
    "    print('{}: {}'.format(num, ','.join(words[i] for i in centroid)))"
   ]
  },
  {
   "cell_type": "markdown",
   "metadata": {},
   "source": [
    "#### Print out the rating and review of a random sample of the reviews assigned to each cluster to get a sense of the cluster."
   ]
  },
  {
   "cell_type": "code",
   "execution_count": null,
   "metadata": {
    "collapsed": true
   },
   "outputs": [],
   "source": [
    "# To be implemented\n",
    "for i in range(kmeans.n_clusters):\n",
    "    cluster=np.arange(0,vectors_documents.shape[0])[assigned_cluster=i] # index of cluster\n",
    "    sample_reviews=np.random.choice(cluster, 2,replace=False)\n",
    "    print ('='*10)\n",
    "    print ('Cluster {}.format(i)')\n",
    "    for review_index in sample_reviews:\n",
    "        print df.ix[review_index]['stars'],\n",
    "        print df.ix[review_index]['text']"
   ]
  },
  {
   "cell_type": "markdown",
   "metadata": {},
   "source": [
    "## 2. Cluster all the reviews of the most reviewed restaurant\n",
    "Let's find the most reviewed restaurant and analyze its reviews"
   ]
  },
  {
   "cell_type": "code",
   "execution_count": null,
   "metadata": {
    "collapsed": true
   },
   "outputs": [],
   "source": [
    "# Find the business who got most reviews, get your filtered df, name it df_top_restaurant\n",
    "\n",
    "most_reviewed_restaurant=df['business_id'].value_counts().index[0]\n",
    "\n",
    "# select rows of most reviewed restaurant\n",
    "# .copy() is deep copy, when we change df_top_res,  the orginal df wouldn't be affected\n",
    "\n",
    "df_top_restaurant=df[df['business_id']==most_reviewed_restaurant].copy().reset_index()\n",
    "df_top_restaurant.head()"
   ]
  },
  {
   "cell_type": "markdown",
   "metadata": {},
   "source": [
    "We can also load restaurant profile information from the business dataset (optional)"
   ]
  },
  {
   "cell_type": "code",
   "execution_count": null,
   "metadata": {
    "collapsed": true
   },
   "outputs": [],
   "source": [
    "# Load business dataset (optional)\n",
    "# Take a look at the most reviewed restaurant's profile (optional)\n",
    "\n",
    "import json as js\n",
    "import pandas as pd\n",
    "\n",
    "with open('sample_data/business.json') as f:\n",
    "    df_business=pd.DataFrame(json.loads(line) for line in f)"
   ]
  },
  {
   "cell_type": "code",
   "execution_count": null,
   "metadata": {
    "collapsed": true
   },
   "outputs": [],
   "source": [
    "df_business[df_business['business_id']==most_reviewed_restaurant]"
   ]
  },
  {
   "cell_type": "code",
   "execution_count": null,
   "metadata": {
    "collapsed": true
   },
   "outputs": [],
   "source": [
    "df_business[df_business['business_id']==most_reviewed_restaurant]['categories'].values\n",
    "df_business[df_business['business_id']==most_reviewed_restaurant]['attributes'].values "
   ]
  },
  {
   "cell_type": "markdown",
   "metadata": {},
   "source": [
    "### Vectorize the text feature"
   ]
  },
  {
   "cell_type": "code",
   "execution_count": null,
   "metadata": {
    "collapsed": true
   },
   "outputs": [],
   "source": [
    "# Take the values of the column that contains review text data, save to a variable named \"documents_top_restaurant\"\n",
    "documents_top_restaurants=df_top_restaurant['text'].values\n",
    "\n",
    "documents_top_restaurants[:3]"
   ]
  },
  {
   "cell_type": "markdown",
   "metadata": {},
   "source": [
    "### Define your target variable (for later classification use)"
   ]
  },
  {
   "cell_type": "markdown",
   "metadata": {},
   "source": [
    "#### Again, we look at perfect (5 stars) and imperfect (1-4 stars) rating"
   ]
  },
  {
   "cell_type": "code",
   "execution_count": null,
   "metadata": {
    "collapsed": true
   },
   "outputs": [],
   "source": [
    "# To be implemented\n",
    "\n",
    "df_top_restaurant['target']=df_top_restaurant['stars']>4\n",
    "target_top_restaurants=df_top_restaurant['target'].values.astype(int)\n",
    "target_top_restaurants"
   ]
  },
  {
   "cell_type": "markdown",
   "metadata": {},
   "source": [
    "#### Check the statistic of the target variable"
   ]
  },
  {
   "cell_type": "code",
   "execution_count": null,
   "metadata": {
    "collapsed": true
   },
   "outputs": [],
   "source": [
    "# To be implemented\n",
    "target_top_restaurants.mean()"
   ]
  },
  {
   "cell_type": "code",
   "execution_count": null,
   "metadata": {
    "collapsed": true
   },
   "outputs": [],
   "source": [
    "documents_top_restaurants.shape, target_top_restaurants.shape"
   ]
  },
  {
   "cell_type": "markdown",
   "metadata": {},
   "source": [
    "### Create training dataset and test dataset"
   ]
  },
  {
   "cell_type": "code",
   "execution_count": null,
   "metadata": {
    "collapsed": true
   },
   "outputs": [],
   "source": [
    "from sklearn.cross_validation import train_test_split"
   ]
  },
  {
   "cell_type": "code",
   "execution_count": null,
   "metadata": {
    "collapsed": true
   },
   "outputs": [],
   "source": [
    "# documents_top_restaurant is your X, target_top_restaurant is your y\n",
    "# Now split the data to training set and test set\n",
    "# Now your data is smaller, you can use a typical \"test_size\", e.g. 0.3-0.7\n",
    "documetns_top_restaurants_train,target_top_restaurants_train, documetns_top_restaurants_test,target_top_restaurants_test=train_test_split(\n",
    "    documents_top_restaurants,target_top_restaurants, test_size=0.4, random_state=42)"
   ]
  },
  {
   "cell_type": "markdown",
   "metadata": {},
   "source": [
    "### Get NLP representation of the documents"
   ]
  },
  {
   "cell_type": "code",
   "execution_count": null,
   "metadata": {
    "collapsed": true
   },
   "outputs": [],
   "source": [
    "from sklearn.feature_extraction.text import TfidfVectorizer"
   ]
  },
  {
   "cell_type": "code",
   "execution_count": null,
   "metadata": {
    "collapsed": true
   },
   "outputs": [],
   "source": [
    "# Create TfidfVectorizer, and name it vectorizer\n",
    "vectorizer=TfidfVectorizer(stop_words='english', max_features=1000)"
   ]
  },
  {
   "cell_type": "code",
   "execution_count": null,
   "metadata": {
    "collapsed": true
   },
   "outputs": [],
   "source": [
    "# Train the model with your training data\n",
    "vectors_train=vectorizer.fit_transform(documetns_top_restaurants_train).toarray()"
   ]
  },
  {
   "cell_type": "code",
   "execution_count": null,
   "metadata": {
    "collapsed": true
   },
   "outputs": [],
   "source": [
    "# Get the vocab of your tfidf\n",
    "words=vectorizer.get_feature_names()"
   ]
  },
  {
   "cell_type": "code",
   "execution_count": null,
   "metadata": {
    "collapsed": true
   },
   "outputs": [],
   "source": [
    "# Use the trained model to transform the test data\n",
    "vectors_test=vectorizer.transform(documetns_top_restaurants_test).toarray()"
   ]
  },
  {
   "cell_type": "code",
   "execution_count": null,
   "metadata": {
    "collapsed": true
   },
   "outputs": [],
   "source": [
    "# Use the trained model to transform all the data\n",
    "vectors_documents_top_restaurants=vectorizer.transform(documents_top_restaurants).toarray()"
   ]
  },
  {
   "cell_type": "markdown",
   "metadata": {},
   "source": [
    "### Cluster reviews with KMeans"
   ]
  },
  {
   "cell_type": "markdown",
   "metadata": {},
   "source": [
    "#### Fit k-means clustering on the training vectors and make predictions on all data"
   ]
  },
  {
   "cell_type": "code",
   "execution_count": null,
   "metadata": {
    "collapsed": true
   },
   "outputs": [],
   "source": [
    "# To be implemented\n",
    "from sklearn.cluster import KMeans\n",
    "kmeans=KMeans(n_cluster=5)\n",
    "kmeans.fit(vectors_train)"
   ]
  },
  {
   "cell_type": "markdown",
   "metadata": {},
   "source": [
    "#### Make predictions on all your data"
   ]
  },
  {
   "cell_type": "code",
   "execution_count": null,
   "metadata": {
    "collapsed": true
   },
   "outputs": [],
   "source": [
    "# To be implemented\n",
    "assigned_clusters=kmeans.predict(vectors_documents_top_restaurants)"
   ]
  },
  {
   "cell_type": "markdown",
   "metadata": {},
   "source": [
    "#### Inspect the centroids"
   ]
  },
  {
   "cell_type": "code",
   "execution_count": null,
   "metadata": {
    "collapsed": true
   },
   "outputs": [],
   "source": [
    "# To be implemented\n",
    "print ('cluster centers:')\n",
    "print (kmeans.cluster_centers_.shape)"
   ]
  },
  {
   "cell_type": "markdown",
   "metadata": {},
   "source": [
    "#### Find the top 10 features for each cluster."
   ]
  },
  {
   "cell_type": "code",
   "execution_count": null,
   "metadata": {
    "collapsed": true
   },
   "outputs": [],
   "source": [
    "# To be implemented\n",
    "n_feat=10\n",
    "top_centroid=kmeans.cluster_centers_.argsort()[:,-1:-n_feat:-1]\n",
    "\n",
    "for n,centroid in enumerate(top_centroid):\n",
    "    print ('{},{}'.format(n,','.join(words[i] for i in centroid)))"
   ]
  },
  {
   "cell_type": "markdown",
   "metadata": {},
   "source": [
    "#### Print out the rating and review of a random sample of the reviews assigned to each cluster to get a sense of the cluster."
   ]
  },
  {
   "cell_type": "code",
   "execution_count": null,
   "metadata": {
    "collapsed": true
   },
   "outputs": [],
   "source": [
    "# To be implemented\n",
    "for i in range(kmeans.n_clusters):\n",
    "    cluster=np.arange(0,vectors_document.shape[0])[assigned_cluster=i]\n",
    "    sample_reviews=np.random.choice(cluster,2,replace=False)\n",
    "    print('='*10)\n",
    "    print('Cluster {}'.format(i))\n",
    "    for review_index in sample_reviews:\n",
    "        print df.ix[review_index]['stars'],\n",
    "        print df.ix[review_index]['text']"
   ]
  },
  {
   "cell_type": "code",
   "execution_count": null,
   "metadata": {
    "collapsed": true
   },
   "outputs": [],
   "source": [
    "# try this one\n",
    "\n",
    "for i in range(kmeans.n_clusters):\n",
    "    cluster=df.index[assigned_cluster=i]\n",
    "    sample_reviews=np.random.choice(cluster,2,replace=False)\n",
    "    print('='*10)\n",
    "    print('Cluster {}'.format(i))\n",
    "    for review_index in sample_reviews:\n",
    "        print df.ix[review_index]['stars'],\n",
    "        print df.ix[review_index]['text']"
   ]
  },
  {
   "cell_type": "markdown",
   "metadata": {},
   "source": [
    "## 3. Use PCA to reduce dimensionality"
   ]
  },
  {
   "cell_type": "markdown",
   "metadata": {},
   "source": [
    "### Stardardize features\n",
    "Your X_train and X_test"
   ]
  },
  {
   "cell_type": "code",
   "execution_count": null,
   "metadata": {
    "collapsed": true
   },
   "outputs": [],
   "source": [
    "# vectors_train: most_review data\n",
    "from sklearn.preprocessing import StandardScaler\n",
    "\n",
    "scaler=StandardScaler()\n",
    "# To be implemented\n",
    "x_train_scaled=scaler(vector_train)\n",
    "x_test_scaled=scaler(vector_test)\n"
   ]
  },
  {
   "cell_type": "markdown",
   "metadata": {},
   "source": [
    "### Use PCA to transform data (train and test) and get princial components"
   ]
  },
  {
   "cell_type": "code",
   "execution_count": null,
   "metadata": {
    "collapsed": true
   },
   "outputs": [],
   "source": [
    "from sklearn.decomposition import PCA\n",
    "\n",
    "# Let's pick a n_components\n",
    "n_columns = 50\n",
    "pca=PCA(n_components=n_columns)\n",
    "# To be implemented\n",
    "x_train_pca=pca.fit_transform(x_train_scaled)\n",
    "x_test_pca=pca.transform(x_test_scaled)\n"
   ]
  },
  {
   "cell_type": "code",
   "execution_count": null,
   "metadata": {
    "collapsed": true
   },
   "outputs": [],
   "source": [
    "x_train_pca.shape,x_test_pca.shape"
   ]
  },
  {
   "cell_type": "markdown",
   "metadata": {},
   "source": [
    "### See how much (and how much percentage of) variance the principal components explain"
   ]
  },
  {
   "cell_type": "code",
   "execution_count": null,
   "metadata": {
    "collapsed": true
   },
   "outputs": [],
   "source": [
    "# To be implemented\n",
    "print (pca.explained_variance_[:10])"
   ]
  },
  {
   "cell_type": "code",
   "execution_count": null,
   "metadata": {
    "collapsed": true
   },
   "outputs": [],
   "source": [
    "# To be implemented\n",
    "print (pca.explained_variance_ratio_[:10])"
   ]
  },
  {
   "cell_type": "markdown",
   "metadata": {},
   "source": [
    "### Viz: plot proportion of variance explained with top principal components\n",
    "\n",
    "For clear display, you may start with plotting <=20 principal components"
   ]
  },
  {
   "cell_type": "code",
   "execution_count": null,
   "metadata": {
    "collapsed": true
   },
   "outputs": [],
   "source": [
    "# To be implemented\n",
    "n_col_to_display=20\n",
    "pca_range=np.arange(n_col_to_display)+1\n",
    "pca_name = ['pca_%s' % i for i in pca_range]\n",
    "plt.figure (figsize(10,10))\n",
    "plt.bar(pca_name,\n",
    "       pca.explained_variance_[:n_col_to_display,align='center']\n",
    "xticks =plt.xticks(pca_range,pca_name,rotation=90)\n",
    "plt.ylabel('variance explained')\n",
    "plt.show()"
   ]
  },
  {
   "cell_type": "markdown",
   "metadata": {},
   "source": [
    "## Classifying positive/negative review with PCA preprocessing"
   ]
  },
  {
   "cell_type": "markdown",
   "metadata": {},
   "source": [
    "### Logistic Regression Classifier\n",
    "#### Use standardized tf-idf vectors as features"
   ]
  },
  {
   "cell_type": "code",
   "execution_count": null,
   "metadata": {
    "collapsed": true
   },
   "outputs": [],
   "source": [
    "x_train_scaled.shape,target_top_restaurants_train.shape"
   ]
  },
  {
   "cell_type": "code",
   "execution_count": null,
   "metadata": {
    "collapsed": true
   },
   "outputs": [],
   "source": [
    "x_train_pca.shape,target_top_restaurants_train.shape"
   ]
  },
  {
   "cell_type": "code",
   "execution_count": null,
   "metadata": {
    "collapsed": true
   },
   "outputs": [],
   "source": [
    "# Build a Logistic Regression Classifier, train with standardized tf-idf vectors\n",
    "\n",
    "from sklearn.linear_model import LogisticRegression\n",
    "\n",
    "# To be implemented\n",
    "lrc_model=LogisticRegression()\n",
    "lrc_model.fit(x_train_scaled,target_top_restaurants_train)\n"
   ]
  },
  {
   "cell_type": "code",
   "execution_count": null,
   "metadata": {
    "collapsed": true
   },
   "outputs": [],
   "source": [
    "# Get score for training set\n",
    "lrc_model.score(x_train_scaled,target_top_restaurants_train)"
   ]
  },
  {
   "cell_type": "code",
   "execution_count": null,
   "metadata": {
    "collapsed": true,
    "scrolled": true
   },
   "outputs": [],
   "source": [
    "# Get score for test set\n",
    "lrc_model.score(x_test_scaled,target_top_restaurants_test)"
   ]
  },
  {
   "cell_type": "markdown",
   "metadata": {},
   "source": [
    "#### Use (Stardardized + PCA) tf-idf vectors as features"
   ]
  },
  {
   "cell_type": "code",
   "execution_count": null,
   "metadata": {
    "collapsed": true
   },
   "outputs": [],
   "source": [
    "# Build a Logistic Regression Classifier, train with PCA tranformed X\n",
    "\n",
    "from sklearn.linear_model import LogisticRegression\n",
    "\n",
    "# To be implemented\n",
    "lrc_model=LogisticRegression()\n",
    "lrc_model.fit(x_train_pca,target_top_restaurants_train)"
   ]
  },
  {
   "cell_type": "code",
   "execution_count": null,
   "metadata": {
    "collapsed": true
   },
   "outputs": [],
   "source": [
    "# Get score for training set\n",
    "lrc_model.score(x_train_pca,target_top_restaurants_train)"
   ]
  },
  {
   "cell_type": "code",
   "execution_count": null,
   "metadata": {
    "collapsed": true
   },
   "outputs": [],
   "source": [
    "# Get score for test set, REMEMBER to use PCA-transformed X!\n",
    "lrc_model.score(x_test_pca,target_top_restaurants_test)"
   ]
  },
  {
   "cell_type": "markdown",
   "metadata": {},
   "source": [
    "#### Q: What do you see from the training score and the test score? How do you compare the results from PCA and non-PCA preprocessing?"
   ]
  },
  {
   "cell_type": "markdown",
   "metadata": {},
   "source": [
    "A: (insert your comments here) overfitting"
   ]
  },
  {
   "cell_type": "markdown",
   "metadata": {},
   "source": [
    "#### You can plot the coefficients against principal components\n"
   ]
  },
  {
   "cell_type": "code",
   "execution_count": null,
   "metadata": {
    "collapsed": true
   },
   "outputs": [],
   "source": [
    "# To be implemented\n",
    "pca_range=np.arange(pca.n_components_)+1\n",
    "pca_name =['pca_%s' % i for i in pca_range]\n"
   ]
  },
  {
   "cell_type": "markdown",
   "metadata": {},
   "source": [
    "### Random Forest Classifier\n",
    "#### Use standardized tf-idf vectors as features"
   ]
  },
  {
   "cell_type": "code",
   "execution_count": null,
   "metadata": {
    "collapsed": true
   },
   "outputs": [],
   "source": [
    "# Build a Random Forest Classifier\n",
    "\n",
    "from sklearn.ensemble import RandomForestClassifier\n",
    "\n",
    "# To be implemented\n",
    "rd_model=RandomForestClassifier(max_depth=None, n_estimators=20, min_samples_leaf=3,random_state=42)\n",
    "rd_model.fit(x_train_scaled,target_top_restaurants_train)"
   ]
  },
  {
   "cell_type": "code",
   "execution_count": null,
   "metadata": {
    "collapsed": true
   },
   "outputs": [],
   "source": [
    "# Get score for training set\n",
    "rd_model.score(x_train_scaled,target_top_restaurants_train)"
   ]
  },
  {
   "cell_type": "code",
   "execution_count": null,
   "metadata": {
    "collapsed": true,
    "scrolled": true
   },
   "outputs": [],
   "source": [
    "# Get score for test set\n",
    "rd_model.score(x_test_scaled,target_top_restaurants_test)"
   ]
  },
  {
   "cell_type": "markdown",
   "metadata": {},
   "source": [
    "#### Use (Stardardized + PCA) tf-idf vectors as features"
   ]
  },
  {
   "cell_type": "code",
   "execution_count": null,
   "metadata": {
    "collapsed": true
   },
   "outputs": [],
   "source": [
    "# Build a Random Forest Classifier\n",
    "\n",
    "from sklearn.ensemble import RandomForestClassifier\n",
    "\n",
    "# To be implemented\n",
    "rd_model=RandomForestClassifier(max_depth=None, n_estimators=20, min_samples_leaf=3,random_state=42)\n",
    "rd_model.fit(x_train_pca,target_top_restaurants_train)"
   ]
  },
  {
   "cell_type": "code",
   "execution_count": null,
   "metadata": {
    "collapsed": true
   },
   "outputs": [],
   "source": [
    "# Get score for training set\n",
    "rd_model.score(x_train_pca,target_top_restaurants_train)"
   ]
  },
  {
   "cell_type": "code",
   "execution_count": null,
   "metadata": {
    "collapsed": true
   },
   "outputs": [],
   "source": [
    "# Get score for test set, REMEMBER to use PCA-transformed X!\n",
    "rd_model.score(x_test_pca,target_top_restaurants_test)"
   ]
  },
  {
   "cell_type": "markdown",
   "metadata": {},
   "source": [
    "#### Q: What do you see from the training result and the test result?"
   ]
  },
  {
   "cell_type": "markdown",
   "metadata": {},
   "source": [
    "A: (insert your comments here)"
   ]
  },
  {
   "cell_type": "markdown",
   "metadata": {},
   "source": [
    "#### You can plot the feature importances against principal components\n"
   ]
  },
  {
   "cell_type": "code",
   "execution_count": null,
   "metadata": {
    "collapsed": true
   },
   "outputs": [],
   "source": [
    "# To be implemented\n",
    "pass"
   ]
  },
  {
   "cell_type": "code",
   "execution_count": null,
   "metadata": {
    "collapsed": true
   },
   "outputs": [],
   "source": []
  },
  {
   "cell_type": "code",
   "execution_count": null,
   "metadata": {
    "collapsed": true
   },
   "outputs": [],
   "source": []
  },
  {
   "cell_type": "markdown",
   "metadata": {},
   "source": [
    "## Extra Credit #1: Can you cluster restaurants from their category information?\n",
    "Hint: a business may have mutiple categories, e.g. a restaurant can have both \"Restaurants\" and \"Korean\""
   ]
  },
  {
   "cell_type": "code",
   "execution_count": null,
   "metadata": {
    "collapsed": true
   },
   "outputs": [],
   "source": [
    "# To be implemented"
   ]
  },
  {
   "cell_type": "markdown",
   "metadata": {},
   "source": [
    "## Extra Credit #2: Can you try different distance/similarity metrics for clusterings, e.g. Pearson correlation, Jaccard distance, etc. \n",
    "\n",
    "Hint: You can take a look at [scipy](http://docs.scipy.org/doc/scipy/reference/generated/scipy.spatial.distance.pdist.html#scipy.spatial.distance.pdist) documentations to use other distances\n",
    "\n",
    "#### Q: How do you compare with Cosine distance or Euclidean distance?"
   ]
  },
  {
   "cell_type": "code",
   "execution_count": null,
   "metadata": {
    "collapsed": true
   },
   "outputs": [],
   "source": [
    "# To be implemented"
   ]
  },
  {
   "cell_type": "markdown",
   "metadata": {},
   "source": [
    "## Extra Credit #3: Can you cluster categories from business entities? What does it mean by a cluster?\n",
    "Hint: Think the example where words can be clustered from the transposed tf-idf matrix."
   ]
  },
  {
   "cell_type": "code",
   "execution_count": null,
   "metadata": {
    "collapsed": true
   },
   "outputs": [],
   "source": [
    "# To be implemented"
   ]
  },
  {
   "cell_type": "markdown",
   "metadata": {},
   "source": [
    "## Extra Credit #4: What are the characteristics of each of the clustered  ? For each cluster, which restaurant can best represent (\"define\") its cluster?\n",
    "Hint: how to interpret \"best\"?"
   ]
  },
  {
   "cell_type": "code",
   "execution_count": null,
   "metadata": {
    "collapsed": true
   },
   "outputs": [],
   "source": [
    "# To be implemented"
   ]
  },
  {
   "cell_type": "markdown",
   "metadata": {},
   "source": [
    "## Extra Credit #5: Can you think of other use cases that clustering can be used? \n",
    "Hint: of course you can make use of other yelp dataset. You can try anything you want as long as you can explain it."
   ]
  },
  {
   "cell_type": "code",
   "execution_count": null,
   "metadata": {
    "collapsed": true
   },
   "outputs": [],
   "source": [
    "# To be implemented"
   ]
  },
  {
   "cell_type": "code",
   "execution_count": null,
   "metadata": {
    "collapsed": true
   },
   "outputs": [],
   "source": []
  }
 ],
 "metadata": {
  "anaconda-cloud": {},
  "kernelspec": {
   "display_name": "Python 2",
   "language": "python",
   "name": "python2"
  },
  "language_info": {
   "codemirror_mode": {
    "name": "ipython",
    "version": 2
   },
   "file_extension": ".py",
   "mimetype": "text/x-python",
   "name": "python",
   "nbconvert_exporter": "python",
   "pygments_lexer": "ipython2",
   "version": "2.7.13"
  }
 },
 "nbformat": 4,
 "nbformat_minor": 1
}
