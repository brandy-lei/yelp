{
 "cells": [
  {
   "cell_type": "markdown",
   "metadata": {},
   "source": [
    "# Recommender with Graphlab Create \n",
    "\n",
    "BitTiger DS501\n",
    "\n",
    "Sept 2017"
   ]
  },
  {
   "cell_type": "markdown",
   "metadata": {},
   "source": [
    "## 0. Registier, install and launch\n",
    "\n",
    "* Register account with [Graphlab](https://turi.com/)\n",
    "* Follow instructions in the email you received to install Graphlab Create\n",
    "* Launch Graphlab Create"
   ]
  },
  {
   "cell_type": "code",
   "execution_count": null,
   "metadata": {
    "collapsed": true
   },
   "outputs": [],
   "source": [
    "import numpy as np\n",
    "import graphlab;\n",
    "import pandas as pd\n",
    "import matplotlib.pyplot as plt"
   ]
  },
  {
   "cell_type": "markdown",
   "metadata": {},
   "source": [
    "## 1. Load your data in Dato's SFrame type."
   ]
  },
  {
   "cell_type": "code",
   "execution_count": null,
   "metadata": {
    "collapsed": true
   },
   "outputs": [],
   "source": [
    "df = pd.read_table('data/u.data',\n",
    "                   names=[\"user\", \"movie\", \"rating\", \"timestamp\"])\n",
    "sf = graphlab.SFrame(df[['user', 'movie', 'rating']])"
   ]
  },
  {
   "cell_type": "markdown",
   "metadata": {},
   "source": [
    "## 2.Create a matrix factorization model.\n",
    "\n"
   ]
  },
  {
   "cell_type": "code",
   "execution_count": null,
   "metadata": {
    "collapsed": true,
    "scrolled": false
   },
   "outputs": [],
   "source": [
    "rec = graphlab.recommender.factorization_recommender.create(\n",
    "            sf,\n",
    "            user_id='user',\n",
    "            item_id='movie',\n",
    "            target='rating',\n",
    "            solver='als',\n",
    "            side_data_factorization=False)"
   ]
  },
  {
   "cell_type": "markdown",
   "metadata": {},
   "source": [
    "## 3. Call the `predict` method on your input data to get the predicted rating for user 1 of movie 100."
   ]
  },
  {
   "cell_type": "code",
   "execution_count": null,
   "metadata": {
    "collapsed": true
   },
   "outputs": [],
   "source": [
    "one_datapoint_sf = graphlab.SFrame({'user': [1], 'movie': [100]})"
   ]
  },
  {
   "cell_type": "code",
   "execution_count": null,
   "metadata": {
    "collapsed": true
   },
   "outputs": [],
   "source": [
    "one_datapoint_sf"
   ]
  },
  {
   "cell_type": "code",
   "execution_count": null,
   "metadata": {
    "collapsed": true
   },
   "outputs": [],
   "source": [
    "print \"rating:\", rec.predict(one_datapoint_sf)[0]"
   ]
  },
  {
   "cell_type": "markdown",
   "metadata": {},
   "source": [
    "## 4. On the returned model object, call the `list_fields` method to see what kind of data is stored for your model."
   ]
  },
  {
   "cell_type": "code",
   "execution_count": null,
   "metadata": {
    "collapsed": true,
    "scrolled": false
   },
   "outputs": [],
   "source": [
    "rec.list_fields()"
   ]
  },
  {
   "cell_type": "markdown",
   "metadata": {},
   "source": [
    "## 5. Inspect the output of `get('coefficients')` to see what information your model uses."
   ]
  },
  {
   "cell_type": "code",
   "execution_count": null,
   "metadata": {
    "collapsed": true
   },
   "outputs": [],
   "source": [
    "rec['coefficients'] "
   ]
  },
  {
   "cell_type": "markdown",
   "metadata": {},
   "source": [
    "## 6. There should be a `movie` and a `user` array in the coefficients. What are the dimensions of this data?"
   ]
  },
  {
   "cell_type": "code",
   "execution_count": null,
   "metadata": {
    "collapsed": true
   },
   "outputs": [],
   "source": [
    "movie_sf = rec['coefficients']['movie']\n",
    "print len(movie_sf)\n",
    "print len(movie_sf['factors'][0])\n",
    "user_sf = rec['coefficients']['user']\n",
    "print len(user_sf)\n",
    "print len(user_sf['factors'][0])"
   ]
  },
  {
   "cell_type": "markdown",
   "metadata": {},
   "source": [
    "## 7. Without using the `predict` method, compute the predicted rating user 1 of movie 100."
   ]
  },
  {
   "cell_type": "code",
   "execution_count": null,
   "metadata": {
    "collapsed": true
   },
   "outputs": [],
   "source": [
    "movie_array = movie_sf[movie_sf['movie'] == 100]['factors'][0]\n",
    "user_array = user_sf[user_sf['user'] == 1]['factors'][0]\n",
    "intercept = rec['coefficients']['intercept']\n",
    "print \"rating:\", np.dot(movie_array, user_array) + intercept    # 4.879"
   ]
  },
  {
   "cell_type": "markdown",
   "metadata": {},
   "source": [
    "## 8. What is the intercept term? Can you reproduce the calculation of this value on your own?\n",
    "\n",
    "*The intercept term is the scaling factor. We can compute the value by taking the average of all the ratings in the original dataset.*"
   ]
  },
  {
   "cell_type": "code",
   "execution_count": null,
   "metadata": {
    "collapsed": true
   },
   "outputs": [],
   "source": [
    "print \"intercept:\", intercept\n",
    "print \"average:\", np.average(sf['rating'])"
   ]
  },
  {
   "cell_type": "markdown",
   "metadata": {},
   "source": [
    "## 9. Call the `predict` method on your input data to get the predicted ratings, and verify that the RMSE reported by the model diagnostics is correct."
   ]
  },
  {
   "cell_type": "code",
   "execution_count": null,
   "metadata": {
    "collapsed": true
   },
   "outputs": [],
   "source": [
    "sf"
   ]
  },
  {
   "cell_type": "code",
   "execution_count": null,
   "metadata": {
    "collapsed": true
   },
   "outputs": [],
   "source": [
    "from sklearn.metrics import mean_squared_error\n",
    "\n",
    "predictions = rec.predict(sf)\n",
    "rmse = np.sqrt(mean_squared_error(sf['rating'], predictions))\n",
    "\n",
    "print \"graphlab's reported rmse:\", rec['training_rmse']\n",
    "print \"calculated rmse:\", rmse  "
   ]
  },
  {
   "cell_type": "markdown",
   "metadata": {},
   "source": [
    "## 10. Compare the summary statistics of the original data with your predictions. (`pd.Series(ratings).describe()` to do this). \n",
    "\n",
    "Does anything stand out about the min/max?"
   ]
  },
  {
   "cell_type": "code",
   "execution_count": null,
   "metadata": {
    "collapsed": true
   },
   "outputs": [],
   "source": [
    "pd.Series(sf['rating']).describe()"
   ]
  },
  {
   "cell_type": "markdown",
   "metadata": {},
   "source": [
    "## 11. Regularization - graphlab provides two regularization parameters. \n",
    "\n",
    "The parameter `regularization` controls the value of lambda. Using what you know about regularization from linear regression, what effect would you expect this to have on solutions? What would you expect to see in the difference of training RMSE between setting this parameter to 0 or 0.1? Try it."
   ]
  },
  {
   "cell_type": "code",
   "execution_count": null,
   "metadata": {
    "collapsed": true,
    "scrolled": false
   },
   "outputs": [],
   "source": [
    "random_seed = 0\n",
    "rec2 = graphlab.recommender.factorization_recommender.create(\n",
    "            sf,\n",
    "            user_id='user',\n",
    "            item_id='movie',\n",
    "            target='rating',\n",
    "            solver='als',\n",
    "            side_data_factorization=False,\n",
    "            regularization=0,\n",
    "            random_seed=random_seed)\n",
    "print \"training rmse with regularization 0:\", rec2['training_rmse']   # 0.725\n",
    "\n",
    "regularization_param = 1e-4\n",
    "rec3 = graphlab.recommender.factorization_recommender.create(\n",
    "            sf,\n",
    "            user_id='user',\n",
    "            item_id='movie',\n",
    "            target='rating',\n",
    "            solver='als',\n",
    "            side_data_factorization=False,\n",
    "            regularization=regularization_param,\n",
    "            random_seed=random_seed) \n",
    "print \"training rmse with regularization %s:\"%regularization_param, rec3['training_rmse']"
   ]
  },
  {
   "cell_type": "markdown",
   "metadata": {},
   "source": [
    "## Extra Point #1. Tune your model to find the best parameters. \n",
    "\n",
    "What parameters are being tuned by this procedure?"
   ]
  },
  {
   "cell_type": "code",
   "execution_count": null,
   "metadata": {
    "collapsed": true
   },
   "outputs": [],
   "source": [
    "kfolds = graphlab.cross_validation.KFold(sf, 5)\n",
    "params = dict(user_id='user', \n",
    "              item_id='movie', \n",
    "              target='rating',\n",
    "              solver='als', \n",
    "              side_data_factorization=False)\n",
    "paramsearch = graphlab.model_parameter_search.create(\n",
    "                    kfolds,\n",
    "                    graphlab.recommender.factorization_recommender.create,\n",
    "                    params)"
   ]
  },
  {
   "cell_type": "code",
   "execution_count": null,
   "metadata": {
    "collapsed": true
   },
   "outputs": [],
   "source": [
    "paramsearch.get_status()"
   ]
  },
  {
   "cell_type": "markdown",
   "metadata": {},
   "source": [
    "#### Best models by different metrics"
   ]
  },
  {
   "cell_type": "code",
   "execution_count": null,
   "metadata": {
    "collapsed": true
   },
   "outputs": [],
   "source": [
    "from pprint import pprint\n",
    "\n",
    "print \"best params by recall@5:\"\n",
    "pprint(paramsearch.get_best_params('mean_validation_recall@5'))\n",
    "print\n",
    "\n",
    "print \"best params by precision@5:\"\n",
    "pprint(paramsearch.get_best_params('mean_validation_precision@5'))\n",
    "print\n",
    "\n",
    "print \"best params by rmse:\"\n",
    "pprint(paramsearch.get_best_params('mean_validation_rmse'))"
   ]
  },
  {
   "cell_type": "markdown",
   "metadata": {},
   "source": [
    "## What are the latent features?"
   ]
  },
  {
   "cell_type": "code",
   "execution_count": null,
   "metadata": {
    "collapsed": true
   },
   "outputs": [],
   "source": [
    "lf_df = df.set_index(['user', 'movie'])[['rating']].unstack().fillna(0)\n",
    "lf_df"
   ]
  },
  {
   "cell_type": "code",
   "execution_count": null,
   "metadata": {
    "collapsed": true
   },
   "outputs": [],
   "source": [
    "from scipy.spatial.distance import cdist\n",
    "\n",
    "lf_df = df.set_index(['user', 'movie'])[['rating']].unstack().fillna(0)\n",
    "user_df = user_sf[['user', 'factors']].sort('user').unpack('factors').to_dataframe()\n",
    "corr = cdist(lf_df.values.T, user_df.values.T, 'correlation')\n",
    "corr_df = pd.DataFrame(corr)\n",
    "corr_df.index = lf_df.columns.get_loc_level('rating')[1]\n",
    "\n",
    "movies = pd.read_table('data/u.item', sep='|', index_col=0, header=None,\n",
    "                       names=['movie id', 'movie title', 'release date',\n",
    "                              'video release date', 'imdb url', 'unknown',\n",
    "                              'action', 'adventure', 'animation',\n",
    "                              'children\\'s', 'comedy', 'crime',\n",
    "                              'documentary', 'drama', 'fantasy',\n",
    "                              'film-noir', 'horror', 'musical', 'mystery',\n",
    "                              'romance', 'sci-fi', 'thriller', 'war',\n",
    "                              'western'])\n",
    "movies_with_corr = pd.concat([movies, corr_df], axis=1)\n",
    "\n",
    "for i in xrange(1, 9):\n",
    "    print \"TOP MOVIES FOR FACTOR {0}:\".format(i)\n",
    "    top_five_movies = movies_with_corr.sort([i], ascending=False)['movie title'][:5]\n",
    "    print '    ' + '\\n    '.join(top_five_movies)\n",
    "    print"
   ]
  },
  {
   "cell_type": "markdown",
   "metadata": {},
   "source": [
    "## Top topics for each latent feature"
   ]
  },
  {
   "cell_type": "code",
   "execution_count": null,
   "metadata": {
    "collapsed": true
   },
   "outputs": [],
   "source": [
    "from collections import Counter\n",
    "\n",
    "print \"TOP TOPICS FOR EACH FACTOR:\"\n",
    "for i in xrange(1, 9):\n",
    "    scores = Counter()\n",
    "    for topic in ['action', 'adventure', 'animation', 'children\\'s',\n",
    "                  'comedy', 'crime', 'documentary', 'drama', 'fantasy',\n",
    "                  'film-noir', 'horror', 'musical', 'mystery', 'romance',\n",
    "                  'sci-fi', 'thriller', 'war', 'western']:\n",
    "        scores[topic] = np.dot(movies_with_corr[i], movies_with_corr[topic]) / np.sum(movies_with_corr[topic])\n",
    "    top_topics = [topic for topic, score in scores.most_common(3)]\n",
    "    print \"    FACTOR {0}:  {1}\".format(i, ', '.join(top_topics))"
   ]
  }
 ],
 "metadata": {
  "anaconda-cloud": {},
  "kernelspec": {
   "display_name": "Python 2",
   "language": "python",
   "name": "python2"
  },
  "language_info": {
   "codemirror_mode": {
    "name": "ipython",
    "version": 2
   },
   "file_extension": ".py",
   "mimetype": "text/x-python",
   "name": "python",
   "nbconvert_exporter": "python",
   "pygments_lexer": "ipython2",
   "version": "2.7.13"
  }
 },
 "nbformat": 4,
 "nbformat_minor": 1
}
