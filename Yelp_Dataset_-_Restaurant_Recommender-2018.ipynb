{
 "cells": [
  {
   "cell_type": "markdown",
   "metadata": {},
   "source": [
    "# Yelp Data Challenge - Restaurant Recommender\n",
    "\n",
    "BitTiger DS501\n",
    "\n",
    "Sep 2017"
   ]
  },
  {
   "cell_type": "code",
   "execution_count": 1,
   "metadata": {
    "collapsed": true
   },
   "outputs": [],
   "source": [
    "import pandas as pd\n",
    "import numpy as np\n",
    "import matplotlib.pyplot as plt\n",
    "% matplotlib inline\n",
    "plt.style.use(\"ggplot\")"
   ]
  },
  {
   "cell_type": "code",
   "execution_count": 2,
   "metadata": {
    "collapsed": true
   },
   "outputs": [],
   "source": [
    "df = pd.read_csv('last_2_years_restaurant_reviews_from_else.csv')"
   ]
  },
  {
   "cell_type": "code",
   "execution_count": 3,
   "metadata": {},
   "outputs": [
    {
     "data": {
      "text/html": [
       "<div>\n",
       "<style>\n",
       "    .dataframe thead tr:only-child th {\n",
       "        text-align: right;\n",
       "    }\n",
       "\n",
       "    .dataframe thead th {\n",
       "        text-align: left;\n",
       "    }\n",
       "\n",
       "    .dataframe tbody tr th {\n",
       "        vertical-align: top;\n",
       "    }\n",
       "</style>\n",
       "<table border=\"1\" class=\"dataframe\">\n",
       "  <thead>\n",
       "    <tr style=\"text-align: right;\">\n",
       "      <th></th>\n",
       "      <th>business_id</th>\n",
       "      <th>name</th>\n",
       "      <th>categories</th>\n",
       "      <th>avg_stars</th>\n",
       "      <th>cool</th>\n",
       "      <th>date</th>\n",
       "      <th>funny</th>\n",
       "      <th>review_id</th>\n",
       "      <th>stars</th>\n",
       "      <th>text</th>\n",
       "      <th>useful</th>\n",
       "      <th>user_id</th>\n",
       "    </tr>\n",
       "  </thead>\n",
       "  <tbody>\n",
       "    <tr>\n",
       "      <th>0</th>\n",
       "      <td>--9e1ONYQuAa-CB_Rrw7Tw</td>\n",
       "      <td>Delmonico Steakhouse</td>\n",
       "      <td>['Steakhouses', 'Cajun/Creole', 'Restaurants']</td>\n",
       "      <td>4.0</td>\n",
       "      <td>1</td>\n",
       "      <td>2016-05-17</td>\n",
       "      <td>0</td>\n",
       "      <td>0Qc1THNHSapDL7cv-ZzW5g</td>\n",
       "      <td>5</td>\n",
       "      <td>What can I say.. Wowzers! Probably one of the ...</td>\n",
       "      <td>0</td>\n",
       "      <td>4LxKRRIikhr65GfPDW626w</td>\n",
       "    </tr>\n",
       "    <tr>\n",
       "      <th>1</th>\n",
       "      <td>--9e1ONYQuAa-CB_Rrw7Tw</td>\n",
       "      <td>Delmonico Steakhouse</td>\n",
       "      <td>['Steakhouses', 'Cajun/Creole', 'Restaurants']</td>\n",
       "      <td>4.0</td>\n",
       "      <td>0</td>\n",
       "      <td>2017-01-20</td>\n",
       "      <td>0</td>\n",
       "      <td>L8lo5SKXfZRlbn1bpPiC9w</td>\n",
       "      <td>5</td>\n",
       "      <td>Went here for guys weekend. Unbelievable. Ravi...</td>\n",
       "      <td>0</td>\n",
       "      <td>nT8zgjoc-PbdBoQsFEXFLw</td>\n",
       "    </tr>\n",
       "    <tr>\n",
       "      <th>2</th>\n",
       "      <td>--9e1ONYQuAa-CB_Rrw7Tw</td>\n",
       "      <td>Delmonico Steakhouse</td>\n",
       "      <td>['Steakhouses', 'Cajun/Creole', 'Restaurants']</td>\n",
       "      <td>4.0</td>\n",
       "      <td>52</td>\n",
       "      <td>2016-09-25</td>\n",
       "      <td>30</td>\n",
       "      <td>6eUT3IwwWPP3CZkAhxqOIw</td>\n",
       "      <td>5</td>\n",
       "      <td>One word my friends: tableside!!! Yes, tablesi...</td>\n",
       "      <td>56</td>\n",
       "      <td>7RlyCglsIzhBn081inwvcg</td>\n",
       "    </tr>\n",
       "    <tr>\n",
       "      <th>3</th>\n",
       "      <td>--9e1ONYQuAa-CB_Rrw7Tw</td>\n",
       "      <td>Delmonico Steakhouse</td>\n",
       "      <td>['Steakhouses', 'Cajun/Creole', 'Restaurants']</td>\n",
       "      <td>4.0</td>\n",
       "      <td>1</td>\n",
       "      <td>2017-02-12</td>\n",
       "      <td>0</td>\n",
       "      <td>3cnTdE45VrsS0o4cVhfGog</td>\n",
       "      <td>3</td>\n",
       "      <td>Located inside my favorite hotel Venetian, Del...</td>\n",
       "      <td>1</td>\n",
       "      <td>rOIrilMC7VFwFVBeQNiKMw</td>\n",
       "    </tr>\n",
       "    <tr>\n",
       "      <th>4</th>\n",
       "      <td>--9e1ONYQuAa-CB_Rrw7Tw</td>\n",
       "      <td>Delmonico Steakhouse</td>\n",
       "      <td>['Steakhouses', 'Cajun/Creole', 'Restaurants']</td>\n",
       "      <td>4.0</td>\n",
       "      <td>0</td>\n",
       "      <td>2016-10-30</td>\n",
       "      <td>0</td>\n",
       "      <td>tYrSbjX3QgZGBZuQ3n8g6w</td>\n",
       "      <td>5</td>\n",
       "      <td>After the most incredible service, delicious m...</td>\n",
       "      <td>2</td>\n",
       "      <td>PiWlV_UC_-SXqyxQM9fAtw</td>\n",
       "    </tr>\n",
       "  </tbody>\n",
       "</table>\n",
       "</div>"
      ],
      "text/plain": [
       "              business_id                  name  \\\n",
       "0  --9e1ONYQuAa-CB_Rrw7Tw  Delmonico Steakhouse   \n",
       "1  --9e1ONYQuAa-CB_Rrw7Tw  Delmonico Steakhouse   \n",
       "2  --9e1ONYQuAa-CB_Rrw7Tw  Delmonico Steakhouse   \n",
       "3  --9e1ONYQuAa-CB_Rrw7Tw  Delmonico Steakhouse   \n",
       "4  --9e1ONYQuAa-CB_Rrw7Tw  Delmonico Steakhouse   \n",
       "\n",
       "                                       categories  avg_stars  cool  \\\n",
       "0  ['Steakhouses', 'Cajun/Creole', 'Restaurants']        4.0     1   \n",
       "1  ['Steakhouses', 'Cajun/Creole', 'Restaurants']        4.0     0   \n",
       "2  ['Steakhouses', 'Cajun/Creole', 'Restaurants']        4.0    52   \n",
       "3  ['Steakhouses', 'Cajun/Creole', 'Restaurants']        4.0     1   \n",
       "4  ['Steakhouses', 'Cajun/Creole', 'Restaurants']        4.0     0   \n",
       "\n",
       "         date  funny               review_id  stars  \\\n",
       "0  2016-05-17      0  0Qc1THNHSapDL7cv-ZzW5g      5   \n",
       "1  2017-01-20      0  L8lo5SKXfZRlbn1bpPiC9w      5   \n",
       "2  2016-09-25     30  6eUT3IwwWPP3CZkAhxqOIw      5   \n",
       "3  2017-02-12      0  3cnTdE45VrsS0o4cVhfGog      3   \n",
       "4  2016-10-30      0  tYrSbjX3QgZGBZuQ3n8g6w      5   \n",
       "\n",
       "                                                text  useful  \\\n",
       "0  What can I say.. Wowzers! Probably one of the ...       0   \n",
       "1  Went here for guys weekend. Unbelievable. Ravi...       0   \n",
       "2  One word my friends: tableside!!! Yes, tablesi...      56   \n",
       "3  Located inside my favorite hotel Venetian, Del...       1   \n",
       "4  After the most incredible service, delicious m...       2   \n",
       "\n",
       "                  user_id  \n",
       "0  4LxKRRIikhr65GfPDW626w  \n",
       "1  nT8zgjoc-PbdBoQsFEXFLw  \n",
       "2  7RlyCglsIzhBn081inwvcg  \n",
       "3  rOIrilMC7VFwFVBeQNiKMw  \n",
       "4  PiWlV_UC_-SXqyxQM9fAtw  "
      ]
     },
     "execution_count": 3,
     "metadata": {},
     "output_type": "execute_result"
    }
   ],
   "source": [
    "df.head()"
   ]
  },
  {
   "cell_type": "markdown",
   "metadata": {},
   "source": [
    "## 1. Clean data and get rating data "
   ]
  },
  {
   "cell_type": "markdown",
   "metadata": {},
   "source": [
    "#### Select relevant columns in the original dataframe"
   ]
  },
  {
   "cell_type": "code",
   "execution_count": 3,
   "metadata": {
    "collapsed": true
   },
   "outputs": [],
   "source": [
    "# Get business_id, user_id, stars for recommender\n",
    "\n",
    "df_stars=df[['business_id','user_id','stars']]"
   ]
  },
  {
   "cell_type": "code",
   "execution_count": 4,
   "metadata": {},
   "outputs": [
    {
     "name": "stdout",
     "output_type": "stream",
     "text": [
      "<class 'pandas.core.frame.DataFrame'>\n",
      "RangeIndex: 437640 entries, 0 to 437639\n",
      "Data columns (total 3 columns):\n",
      "business_id    437640 non-null object\n",
      "user_id        437640 non-null object\n",
      "stars          437640 non-null int64\n",
      "dtypes: int64(1), object(2)\n",
      "memory usage: 10.0+ MB\n"
     ]
    }
   ],
   "source": [
    "df_stars.info()"
   ]
  },
  {
   "cell_type": "code",
   "execution_count": 6,
   "metadata": {},
   "outputs": [
    {
     "data": {
      "text/html": [
       "<div>\n",
       "<style>\n",
       "    .dataframe thead tr:only-child th {\n",
       "        text-align: right;\n",
       "    }\n",
       "\n",
       "    .dataframe thead th {\n",
       "        text-align: left;\n",
       "    }\n",
       "\n",
       "    .dataframe tbody tr th {\n",
       "        vertical-align: top;\n",
       "    }\n",
       "</style>\n",
       "<table border=\"1\" class=\"dataframe\">\n",
       "  <thead>\n",
       "    <tr style=\"text-align: right;\">\n",
       "      <th></th>\n",
       "      <th>business_id</th>\n",
       "      <th>user_id</th>\n",
       "      <th>stars</th>\n",
       "    </tr>\n",
       "  </thead>\n",
       "  <tbody>\n",
       "    <tr>\n",
       "      <th>0</th>\n",
       "      <td>--9e1ONYQuAa-CB_Rrw7Tw</td>\n",
       "      <td>4LxKRRIikhr65GfPDW626w</td>\n",
       "      <td>5</td>\n",
       "    </tr>\n",
       "    <tr>\n",
       "      <th>1</th>\n",
       "      <td>--9e1ONYQuAa-CB_Rrw7Tw</td>\n",
       "      <td>nT8zgjoc-PbdBoQsFEXFLw</td>\n",
       "      <td>5</td>\n",
       "    </tr>\n",
       "    <tr>\n",
       "      <th>2</th>\n",
       "      <td>--9e1ONYQuAa-CB_Rrw7Tw</td>\n",
       "      <td>7RlyCglsIzhBn081inwvcg</td>\n",
       "      <td>5</td>\n",
       "    </tr>\n",
       "    <tr>\n",
       "      <th>3</th>\n",
       "      <td>--9e1ONYQuAa-CB_Rrw7Tw</td>\n",
       "      <td>rOIrilMC7VFwFVBeQNiKMw</td>\n",
       "      <td>3</td>\n",
       "    </tr>\n",
       "    <tr>\n",
       "      <th>4</th>\n",
       "      <td>--9e1ONYQuAa-CB_Rrw7Tw</td>\n",
       "      <td>PiWlV_UC_-SXqyxQM9fAtw</td>\n",
       "      <td>5</td>\n",
       "    </tr>\n",
       "  </tbody>\n",
       "</table>\n",
       "</div>"
      ],
      "text/plain": [
       "              business_id                 user_id  stars\n",
       "0  --9e1ONYQuAa-CB_Rrw7Tw  4LxKRRIikhr65GfPDW626w      5\n",
       "1  --9e1ONYQuAa-CB_Rrw7Tw  nT8zgjoc-PbdBoQsFEXFLw      5\n",
       "2  --9e1ONYQuAa-CB_Rrw7Tw  7RlyCglsIzhBn081inwvcg      5\n",
       "3  --9e1ONYQuAa-CB_Rrw7Tw  rOIrilMC7VFwFVBeQNiKMw      3\n",
       "4  --9e1ONYQuAa-CB_Rrw7Tw  PiWlV_UC_-SXqyxQM9fAtw      5"
      ]
     },
     "execution_count": 6,
     "metadata": {},
     "output_type": "execute_result"
    }
   ],
   "source": [
    "df_stars.head()"
   ]
  },
  {
   "cell_type": "code",
   "execution_count": 7,
   "metadata": {},
   "outputs": [
    {
     "data": {
      "text/plain": [
       "5    200211\n",
       "4     95171\n",
       "1     55408\n",
       "3     49707\n",
       "2     37143\n",
       "Name: stars, dtype: int64"
      ]
     },
     "execution_count": 7,
     "metadata": {},
     "output_type": "execute_result"
    }
   ],
   "source": [
    "# stars distribution\n",
    "df_stars['stars'].value_counts()"
   ]
  },
  {
   "cell_type": "code",
   "execution_count": 8,
   "metadata": {},
   "outputs": [
    {
     "data": {
      "text/plain": [
       "4624"
      ]
     },
     "execution_count": 8,
     "metadata": {},
     "output_type": "execute_result"
    }
   ],
   "source": [
    "# number of unique business_id\n",
    "df_stars['business_id'].nunique() # number of unique elements"
   ]
  },
  {
   "cell_type": "code",
   "execution_count": 9,
   "metadata": {},
   "outputs": [
    {
     "data": {
      "text/plain": [
       "195802"
      ]
     },
     "execution_count": 9,
     "metadata": {},
     "output_type": "execute_result"
    }
   ],
   "source": [
    "# number of unique user_id\n",
    "df_stars['user_id'].nunique()"
   ]
  },
  {
   "cell_type": "code",
   "execution_count": 5,
   "metadata": {},
   "outputs": [
    {
     "data": {
      "text/plain": [
       "bLbSNkLggFnqwNNzzq-Ijw    681\n",
       "JaqcCU3nxReTW2cBLHounA    296\n",
       "PKEzKWv_FktMm2mGPjwd0Q    248\n",
       "B1829_hxXSEpDPEDJtYeIw    242\n",
       "U4INQZOPSUaj8hMjLlZ3KA    205\n",
       "Name: user_id, dtype: int64"
      ]
     },
     "execution_count": 5,
     "metadata": {},
     "output_type": "execute_result"
    }
   ],
   "source": [
    "df_user_counts=df_stars['user_id'].value_counts()\n",
    "df_user_counts.head()"
   ]
  },
  {
   "cell_type": "code",
   "execution_count": 6,
   "metadata": {},
   "outputs": [
    {
     "data": {
      "image/png": "[encoded data removed]",
      "text/plain": [
       "<matplotlib.figure.Figure at 0x59a8a20>"
      ]
     },
     "metadata": {},
     "output_type": "display_data"
    }
   ],
   "source": [
    "# display log histogram\n",
    "df_user_counts.apply(np.log).hist()\n",
    "plt.show()"
   ]
  },
  {
   "cell_type": "markdown",
   "metadata": {},
   "source": [
    "#### There are many users that haven't given many reviews, exclude these users from the item-item similarity recommender\n",
    "\n",
    "**Q**: How do we recommend to these users anyways?"
   ]
  },
  {
   "cell_type": "code",
   "execution_count": 7,
   "metadata": {},
   "outputs": [
    {
     "data": {
      "text/plain": [
       "(125823L,)"
      ]
     },
     "execution_count": 7,
     "metadata": {},
     "output_type": "execute_result"
    }
   ],
   "source": [
    "# To be implemented\n",
    "# how many users only comments once\n",
    "df_user_counts[df_user_counts==1].shape"
   ]
  },
  {
   "cell_type": "code",
   "execution_count": 8,
   "metadata": {
    "collapsed": true
   },
   "outputs": [],
   "source": [
    "# users comment over 5 times\n",
    "df_users=df_user_counts[df_user_counts>5]\n"
   ]
  },
  {
   "cell_type": "code",
   "execution_count": 14,
   "metadata": {},
   "outputs": [
    {
     "data": {
      "text/plain": [
       "12257"
      ]
     },
     "execution_count": 14,
     "metadata": {},
     "output_type": "execute_result"
    }
   ],
   "source": [
    "# count users comment over 5 times as active user\n",
    "df_users.count()"
   ]
  },
  {
   "cell_type": "code",
   "execution_count": 15,
   "metadata": {},
   "outputs": [
    {
     "data": {
      "text/plain": [
       "154399L"
      ]
     },
     "execution_count": 15,
     "metadata": {},
     "output_type": "execute_result"
    }
   ],
   "source": [
    "# sum of all comments\n",
    "df_users.sum()"
   ]
  },
  {
   "cell_type": "code",
   "execution_count": 16,
   "metadata": {},
   "outputs": [
    {
     "data": {
      "text/plain": [
       "Index([u'bLbSNkLggFnqwNNzzq-Ijw', u'JaqcCU3nxReTW2cBLHounA',\n",
       "       u'PKEzKWv_FktMm2mGPjwd0Q', u'B1829_hxXSEpDPEDJtYeIw',\n",
       "       u'U4INQZOPSUaj8hMjLlZ3KA', u'3nIuSCZk5f_2WWYMLN7h3w',\n",
       "       u'qPVtjjp8sNQ32p9860SR9Q', u'OXSJCjKtvZPf-YPDCXcWZg',\n",
       "       u'VigsAph76fP7pechJ743EA', u'JYcCYNWs8Ul6ewG5kCYW4Q',\n",
       "       ...\n",
       "       u'fAzjDvUAk8BHqHi5fy1znQ', u'pjg0FxLooOTl3-l1CQ-UWQ',\n",
       "       u'7zDpmNhAONf-viIsQDHDVA', u'k8okFWX0acPR8c4L7XM55A',\n",
       "       u'N3oNEwh0qgPqPP3Em6wJXw', u'vZBG3iWGvvsxG40QZPSRIQ',\n",
       "       u'aA-kQeG86xMsxjKgF14pcQ', u'fqTA37Z9SEST-4i0fom-XQ',\n",
       "       u'buBocJ5JvDQ-83CS5IpuwQ', u'qxZZByWgME5rJf7e-yLBXA'],\n",
       "      dtype='object', length=12257)"
      ]
     },
     "execution_count": 16,
     "metadata": {},
     "output_type": "execute_result"
    }
   ],
   "source": [
    "# display active user id\n",
    "df_users.index"
   ]
  },
  {
   "cell_type": "code",
   "execution_count": 17,
   "metadata": {},
   "outputs": [
    {
     "data": {
      "text/html": [
       "<div>\n",
       "<style>\n",
       "    .dataframe thead tr:only-child th {\n",
       "        text-align: right;\n",
       "    }\n",
       "\n",
       "    .dataframe thead th {\n",
       "        text-align: left;\n",
       "    }\n",
       "\n",
       "    .dataframe tbody tr th {\n",
       "        vertical-align: top;\n",
       "    }\n",
       "</style>\n",
       "<table border=\"1\" class=\"dataframe\">\n",
       "  <thead>\n",
       "    <tr style=\"text-align: right;\">\n",
       "      <th></th>\n",
       "      <th>business_id</th>\n",
       "      <th>user_id</th>\n",
       "      <th>stars</th>\n",
       "    </tr>\n",
       "  </thead>\n",
       "  <tbody>\n",
       "    <tr>\n",
       "      <th>0</th>\n",
       "      <td>--9e1ONYQuAa-CB_Rrw7Tw</td>\n",
       "      <td>4LxKRRIikhr65GfPDW626w</td>\n",
       "      <td>5</td>\n",
       "    </tr>\n",
       "    <tr>\n",
       "      <th>1</th>\n",
       "      <td>--9e1ONYQuAa-CB_Rrw7Tw</td>\n",
       "      <td>nT8zgjoc-PbdBoQsFEXFLw</td>\n",
       "      <td>5</td>\n",
       "    </tr>\n",
       "    <tr>\n",
       "      <th>2</th>\n",
       "      <td>--9e1ONYQuAa-CB_Rrw7Tw</td>\n",
       "      <td>7RlyCglsIzhBn081inwvcg</td>\n",
       "      <td>5</td>\n",
       "    </tr>\n",
       "    <tr>\n",
       "      <th>3</th>\n",
       "      <td>--9e1ONYQuAa-CB_Rrw7Tw</td>\n",
       "      <td>rOIrilMC7VFwFVBeQNiKMw</td>\n",
       "      <td>3</td>\n",
       "    </tr>\n",
       "    <tr>\n",
       "      <th>4</th>\n",
       "      <td>--9e1ONYQuAa-CB_Rrw7Tw</td>\n",
       "      <td>PiWlV_UC_-SXqyxQM9fAtw</td>\n",
       "      <td>5</td>\n",
       "    </tr>\n",
       "  </tbody>\n",
       "</table>\n",
       "</div>"
      ],
      "text/plain": [
       "              business_id                 user_id  stars\n",
       "0  --9e1ONYQuAa-CB_Rrw7Tw  4LxKRRIikhr65GfPDW626w      5\n",
       "1  --9e1ONYQuAa-CB_Rrw7Tw  nT8zgjoc-PbdBoQsFEXFLw      5\n",
       "2  --9e1ONYQuAa-CB_Rrw7Tw  7RlyCglsIzhBn081inwvcg      5\n",
       "3  --9e1ONYQuAa-CB_Rrw7Tw  rOIrilMC7VFwFVBeQNiKMw      3\n",
       "4  --9e1ONYQuAa-CB_Rrw7Tw  PiWlV_UC_-SXqyxQM9fAtw      5"
      ]
     },
     "execution_count": 17,
     "metadata": {},
     "output_type": "execute_result"
    }
   ],
   "source": [
    "df_stars.head()"
   ]
  },
  {
   "cell_type": "code",
   "execution_count": 18,
   "metadata": {},
   "outputs": [
    {
     "name": "stderr",
     "output_type": "stream",
     "text": [
      "C:\\Users\\Lei Lei\\Anaconda2\\lib\\site-packages\\ipykernel_launcher.py:1: DeprecationWarning: \n",
      ".ix is deprecated. Please use\n",
      ".loc for label based indexing or\n",
      ".iloc for positional indexing\n",
      "\n",
      "See the documentation here:\n",
      "http://pandas.pydata.org/pandas-docs/stable/indexing.html#deprecate_ix\n",
      "  \"\"\"Entry point for launching an IPython kernel.\n"
     ]
    },
    {
     "data": {
      "text/html": [
       "<div>\n",
       "<style>\n",
       "    .dataframe thead tr:only-child th {\n",
       "        text-align: right;\n",
       "    }\n",
       "\n",
       "    .dataframe thead th {\n",
       "        text-align: left;\n",
       "    }\n",
       "\n",
       "    .dataframe tbody tr th {\n",
       "        vertical-align: top;\n",
       "    }\n",
       "</style>\n",
       "<table border=\"1\" class=\"dataframe\">\n",
       "  <thead>\n",
       "    <tr style=\"text-align: right;\">\n",
       "      <th></th>\n",
       "      <th>business_id</th>\n",
       "      <th>stars</th>\n",
       "    </tr>\n",
       "    <tr>\n",
       "      <th>user_id</th>\n",
       "      <th></th>\n",
       "      <th></th>\n",
       "    </tr>\n",
       "  </thead>\n",
       "  <tbody>\n",
       "    <tr>\n",
       "      <th>bLbSNkLggFnqwNNzzq-Ijw</th>\n",
       "      <td>-BS4aZAQm9u41YnB9MUASA</td>\n",
       "      <td>4</td>\n",
       "    </tr>\n",
       "    <tr>\n",
       "      <th>bLbSNkLggFnqwNNzzq-Ijw</th>\n",
       "      <td>-C8sSrFqaCxp51pyo-fQLQ</td>\n",
       "      <td>4</td>\n",
       "    </tr>\n",
       "    <tr>\n",
       "      <th>bLbSNkLggFnqwNNzzq-Ijw</th>\n",
       "      <td>-CQokjildrY7UZezXCdEBw</td>\n",
       "      <td>5</td>\n",
       "    </tr>\n",
       "    <tr>\n",
       "      <th>bLbSNkLggFnqwNNzzq-Ijw</th>\n",
       "      <td>-FcZY7a7qgxTUlTvwuyJnQ</td>\n",
       "      <td>3</td>\n",
       "    </tr>\n",
       "    <tr>\n",
       "      <th>bLbSNkLggFnqwNNzzq-Ijw</th>\n",
       "      <td>-IWsoxH7mLJTTpU5MmWY4w</td>\n",
       "      <td>4</td>\n",
       "    </tr>\n",
       "  </tbody>\n",
       "</table>\n",
       "</div>"
      ],
      "text/plain": [
       "                                   business_id  stars\n",
       "user_id                                              \n",
       "bLbSNkLggFnqwNNzzq-Ijw  -BS4aZAQm9u41YnB9MUASA      4\n",
       "bLbSNkLggFnqwNNzzq-Ijw  -C8sSrFqaCxp51pyo-fQLQ      4\n",
       "bLbSNkLggFnqwNNzzq-Ijw  -CQokjildrY7UZezXCdEBw      5\n",
       "bLbSNkLggFnqwNNzzq-Ijw  -FcZY7a7qgxTUlTvwuyJnQ      3\n",
       "bLbSNkLggFnqwNNzzq-Ijw  -IWsoxH7mLJTTpU5MmWY4w      4"
      ]
     },
     "execution_count": 18,
     "metadata": {},
     "output_type": "execute_result"
    }
   ],
   "source": [
    "df_stars.set_index('user_id').ix[df_users.index].head()"
   ]
  },
  {
   "cell_type": "code",
   "execution_count": 9,
   "metadata": {},
   "outputs": [
    {
     "name": "stderr",
     "output_type": "stream",
     "text": [
      "C:\\Users\\Lei Lei\\Anaconda2\\lib\\site-packages\\ipykernel_launcher.py:1: DeprecationWarning: \n",
      ".ix is deprecated. Please use\n",
      ".loc for label based indexing or\n",
      ".iloc for positional indexing\n",
      "\n",
      "See the documentation here:\n",
      "http://pandas.pydata.org/pandas-docs/stable/indexing.html#deprecate_ix\n",
      "  \"\"\"Entry point for launching an IPython kernel.\n"
     ]
    }
   ],
   "source": [
    "df_stars_cleaned=df_stars.set_index('user_id').ix[df_users.index].reset_index()\n",
    "\n"
   ]
  },
  {
   "cell_type": "code",
   "execution_count": 10,
   "metadata": {},
   "outputs": [
    {
     "data": {
      "text/html": [
       "<div>\n",
       "<style>\n",
       "    .dataframe thead tr:only-child th {\n",
       "        text-align: right;\n",
       "    }\n",
       "\n",
       "    .dataframe thead th {\n",
       "        text-align: left;\n",
       "    }\n",
       "\n",
       "    .dataframe tbody tr th {\n",
       "        vertical-align: top;\n",
       "    }\n",
       "</style>\n",
       "<table border=\"1\" class=\"dataframe\">\n",
       "  <thead>\n",
       "    <tr style=\"text-align: right;\">\n",
       "      <th></th>\n",
       "      <th>business_id</th>\n",
       "      <th>user_id</th>\n",
       "      <th>stars</th>\n",
       "    </tr>\n",
       "  </thead>\n",
       "  <tbody>\n",
       "    <tr>\n",
       "      <th>0</th>\n",
       "      <td>--9e1ONYQuAa-CB_Rrw7Tw</td>\n",
       "      <td>4LxKRRIikhr65GfPDW626w</td>\n",
       "      <td>5</td>\n",
       "    </tr>\n",
       "    <tr>\n",
       "      <th>1</th>\n",
       "      <td>--9e1ONYQuAa-CB_Rrw7Tw</td>\n",
       "      <td>nT8zgjoc-PbdBoQsFEXFLw</td>\n",
       "      <td>5</td>\n",
       "    </tr>\n",
       "    <tr>\n",
       "      <th>2</th>\n",
       "      <td>--9e1ONYQuAa-CB_Rrw7Tw</td>\n",
       "      <td>7RlyCglsIzhBn081inwvcg</td>\n",
       "      <td>5</td>\n",
       "    </tr>\n",
       "    <tr>\n",
       "      <th>3</th>\n",
       "      <td>--9e1ONYQuAa-CB_Rrw7Tw</td>\n",
       "      <td>rOIrilMC7VFwFVBeQNiKMw</td>\n",
       "      <td>3</td>\n",
       "    </tr>\n",
       "    <tr>\n",
       "      <th>4</th>\n",
       "      <td>--9e1ONYQuAa-CB_Rrw7Tw</td>\n",
       "      <td>PiWlV_UC_-SXqyxQM9fAtw</td>\n",
       "      <td>5</td>\n",
       "    </tr>\n",
       "  </tbody>\n",
       "</table>\n",
       "</div>"
      ],
      "text/plain": [
       "              business_id                 user_id  stars\n",
       "0  --9e1ONYQuAa-CB_Rrw7Tw  4LxKRRIikhr65GfPDW626w      5\n",
       "1  --9e1ONYQuAa-CB_Rrw7Tw  nT8zgjoc-PbdBoQsFEXFLw      5\n",
       "2  --9e1ONYQuAa-CB_Rrw7Tw  7RlyCglsIzhBn081inwvcg      5\n",
       "3  --9e1ONYQuAa-CB_Rrw7Tw  rOIrilMC7VFwFVBeQNiKMw      3\n",
       "4  --9e1ONYQuAa-CB_Rrw7Tw  PiWlV_UC_-SXqyxQM9fAtw      5"
      ]
     },
     "execution_count": 10,
     "metadata": {},
     "output_type": "execute_result"
    }
   ],
   "source": [
    "df_stars.head()"
   ]
  },
  {
   "cell_type": "code",
   "execution_count": 21,
   "metadata": {},
   "outputs": [
    {
     "data": {
      "text/html": [
       "<div>\n",
       "<style>\n",
       "    .dataframe thead tr:only-child th {\n",
       "        text-align: right;\n",
       "    }\n",
       "\n",
       "    .dataframe thead th {\n",
       "        text-align: left;\n",
       "    }\n",
       "\n",
       "    .dataframe tbody tr th {\n",
       "        vertical-align: top;\n",
       "    }\n",
       "</style>\n",
       "<table border=\"1\" class=\"dataframe\">\n",
       "  <thead>\n",
       "    <tr style=\"text-align: right;\">\n",
       "      <th></th>\n",
       "      <th>user_id</th>\n",
       "      <th>business_id</th>\n",
       "      <th>stars</th>\n",
       "    </tr>\n",
       "  </thead>\n",
       "  <tbody>\n",
       "    <tr>\n",
       "      <th>0</th>\n",
       "      <td>bLbSNkLggFnqwNNzzq-Ijw</td>\n",
       "      <td>-BS4aZAQm9u41YnB9MUASA</td>\n",
       "      <td>4</td>\n",
       "    </tr>\n",
       "    <tr>\n",
       "      <th>1</th>\n",
       "      <td>bLbSNkLggFnqwNNzzq-Ijw</td>\n",
       "      <td>-C8sSrFqaCxp51pyo-fQLQ</td>\n",
       "      <td>4</td>\n",
       "    </tr>\n",
       "    <tr>\n",
       "      <th>2</th>\n",
       "      <td>bLbSNkLggFnqwNNzzq-Ijw</td>\n",
       "      <td>-CQokjildrY7UZezXCdEBw</td>\n",
       "      <td>5</td>\n",
       "    </tr>\n",
       "    <tr>\n",
       "      <th>3</th>\n",
       "      <td>bLbSNkLggFnqwNNzzq-Ijw</td>\n",
       "      <td>-FcZY7a7qgxTUlTvwuyJnQ</td>\n",
       "      <td>3</td>\n",
       "    </tr>\n",
       "    <tr>\n",
       "      <th>4</th>\n",
       "      <td>bLbSNkLggFnqwNNzzq-Ijw</td>\n",
       "      <td>-IWsoxH7mLJTTpU5MmWY4w</td>\n",
       "      <td>4</td>\n",
       "    </tr>\n",
       "  </tbody>\n",
       "</table>\n",
       "</div>"
      ],
      "text/plain": [
       "                  user_id             business_id  stars\n",
       "0  bLbSNkLggFnqwNNzzq-Ijw  -BS4aZAQm9u41YnB9MUASA      4\n",
       "1  bLbSNkLggFnqwNNzzq-Ijw  -C8sSrFqaCxp51pyo-fQLQ      4\n",
       "2  bLbSNkLggFnqwNNzzq-Ijw  -CQokjildrY7UZezXCdEBw      5\n",
       "3  bLbSNkLggFnqwNNzzq-Ijw  -FcZY7a7qgxTUlTvwuyJnQ      3\n",
       "4  bLbSNkLggFnqwNNzzq-Ijw  -IWsoxH7mLJTTpU5MmWY4w      4"
      ]
     },
     "execution_count": 21,
     "metadata": {},
     "output_type": "execute_result"
    }
   ],
   "source": [
    "# reorder dataframe\n",
    "df_stars_cleaned.head()"
   ]
  },
  {
   "cell_type": "code",
   "execution_count": 17,
   "metadata": {},
   "outputs": [
    {
     "data": {
      "text/plain": [
       "(154399, 3)"
      ]
     },
     "execution_count": 17,
     "metadata": {},
     "output_type": "execute_result"
    }
   ],
   "source": [
    "df_stars_cleaned.shape"
   ]
  },
  {
   "cell_type": "markdown",
   "metadata": {},
   "source": [
    "#### Create utility matrix from records"
   ]
  },
  {
   "cell_type": "code",
   "execution_count": 11,
   "metadata": {
    "collapsed": true
   },
   "outputs": [],
   "source": [
    "# To be implemented\n",
    "\n",
    "# convert to document, word like matrix\n",
    "df_utility=pd.pivot_table(data=df_stars_cleaned,\n",
    "                         values='stars', # fill with stars\n",
    "                         index='user_id', #rows\n",
    "                         columns='business_id',#columns\n",
    "                         fill_value=0 )# fill missings"
   ]
  },
  {
   "cell_type": "code",
   "execution_count": 12,
   "metadata": {},
   "outputs": [
    {
     "data": {
      "text/html": [
       "<div>\n",
       "<style>\n",
       "    .dataframe thead tr:only-child th {\n",
       "        text-align: right;\n",
       "    }\n",
       "\n",
       "    .dataframe thead th {\n",
       "        text-align: left;\n",
       "    }\n",
       "\n",
       "    .dataframe tbody tr th {\n",
       "        vertical-align: top;\n",
       "    }\n",
       "</style>\n",
       "<table border=\"1\" class=\"dataframe\">\n",
       "  <thead>\n",
       "    <tr style=\"text-align: right;\">\n",
       "      <th>business_id</th>\n",
       "      <th>--9e1ONYQuAa-CB_Rrw7Tw</th>\n",
       "      <th>-1vfRrlnNnNJ5boOVghMPA</th>\n",
       "      <th>-3zffZUHoY8bQjGfPSoBKQ</th>\n",
       "      <th>-8R_-EkGpUhBk55K9Dd4mg</th>\n",
       "      <th>-9YyInW1wapzdNZrhQJ9dg</th>\n",
       "      <th>-AD5PiuJHgdUcAK-Vxao2A</th>\n",
       "      <th>-BS4aZAQm9u41YnB9MUASA</th>\n",
       "      <th>-Bf8BQ3yMk8U2f45r2DRKw</th>\n",
       "      <th>-BmqghX1sv7sgsxOIS2yAg</th>\n",
       "      <th>-Bv-HHUs8aHzDrdWcZHn8w</th>\n",
       "      <th>...</th>\n",
       "      <th>zmltWmTpoBt5sCU-5Kzj-Q</th>\n",
       "      <th>znWHLW1pt19HzW1VY6KfCA</th>\n",
       "      <th>zp-K5s3pGTWuuaVBWo6WZA</th>\n",
       "      <th>zpoZ6WyQUYff18-z4ZU1mA</th>\n",
       "      <th>zrQ1zKWC-W2PCvwjBururQ</th>\n",
       "      <th>zsQk990PubOHjr1YcLkQFw</th>\n",
       "      <th>zt9RLUIU32fZYOBh2L0NNQ</th>\n",
       "      <th>zttcrQP4MxNS5X5itzStXg</th>\n",
       "      <th>zuwba6QEBIDZT0tJZmNhdQ</th>\n",
       "      <th>zwNC-Ow4eIMan2__bS9-rg</th>\n",
       "    </tr>\n",
       "    <tr>\n",
       "      <th>user_id</th>\n",
       "      <th></th>\n",
       "      <th></th>\n",
       "      <th></th>\n",
       "      <th></th>\n",
       "      <th></th>\n",
       "      <th></th>\n",
       "      <th></th>\n",
       "      <th></th>\n",
       "      <th></th>\n",
       "      <th></th>\n",
       "      <th></th>\n",
       "      <th></th>\n",
       "      <th></th>\n",
       "      <th></th>\n",
       "      <th></th>\n",
       "      <th></th>\n",
       "      <th></th>\n",
       "      <th></th>\n",
       "      <th></th>\n",
       "      <th></th>\n",
       "      <th></th>\n",
       "    </tr>\n",
       "  </thead>\n",
       "  <tbody>\n",
       "    <tr>\n",
       "      <th>--LUapetRSkZpFZ2d-MXLQ</th>\n",
       "      <td>0</td>\n",
       "      <td>0</td>\n",
       "      <td>0</td>\n",
       "      <td>0</td>\n",
       "      <td>0</td>\n",
       "      <td>0</td>\n",
       "      <td>0</td>\n",
       "      <td>0</td>\n",
       "      <td>0</td>\n",
       "      <td>0</td>\n",
       "      <td>...</td>\n",
       "      <td>0</td>\n",
       "      <td>0</td>\n",
       "      <td>0</td>\n",
       "      <td>0</td>\n",
       "      <td>0</td>\n",
       "      <td>0</td>\n",
       "      <td>0</td>\n",
       "      <td>0</td>\n",
       "      <td>0</td>\n",
       "      <td>0</td>\n",
       "    </tr>\n",
       "    <tr>\n",
       "      <th>--RlSfc-QmcHFGHyX6aVjA</th>\n",
       "      <td>0</td>\n",
       "      <td>0</td>\n",
       "      <td>0</td>\n",
       "      <td>0</td>\n",
       "      <td>0</td>\n",
       "      <td>0</td>\n",
       "      <td>0</td>\n",
       "      <td>0</td>\n",
       "      <td>0</td>\n",
       "      <td>0</td>\n",
       "      <td>...</td>\n",
       "      <td>0</td>\n",
       "      <td>0</td>\n",
       "      <td>0</td>\n",
       "      <td>0</td>\n",
       "      <td>0</td>\n",
       "      <td>0</td>\n",
       "      <td>0</td>\n",
       "      <td>0</td>\n",
       "      <td>0</td>\n",
       "      <td>0</td>\n",
       "    </tr>\n",
       "    <tr>\n",
       "      <th>--ZNfWKj1VyVElRx6-g1fg</th>\n",
       "      <td>0</td>\n",
       "      <td>0</td>\n",
       "      <td>0</td>\n",
       "      <td>0</td>\n",
       "      <td>0</td>\n",
       "      <td>0</td>\n",
       "      <td>0</td>\n",
       "      <td>0</td>\n",
       "      <td>0</td>\n",
       "      <td>0</td>\n",
       "      <td>...</td>\n",
       "      <td>0</td>\n",
       "      <td>0</td>\n",
       "      <td>0</td>\n",
       "      <td>0</td>\n",
       "      <td>0</td>\n",
       "      <td>3</td>\n",
       "      <td>0</td>\n",
       "      <td>0</td>\n",
       "      <td>0</td>\n",
       "      <td>0</td>\n",
       "    </tr>\n",
       "    <tr>\n",
       "      <th>-00kdEIhCt-ODaV4BS-EAg</th>\n",
       "      <td>0</td>\n",
       "      <td>0</td>\n",
       "      <td>0</td>\n",
       "      <td>0</td>\n",
       "      <td>0</td>\n",
       "      <td>0</td>\n",
       "      <td>0</td>\n",
       "      <td>0</td>\n",
       "      <td>0</td>\n",
       "      <td>0</td>\n",
       "      <td>...</td>\n",
       "      <td>0</td>\n",
       "      <td>0</td>\n",
       "      <td>0</td>\n",
       "      <td>0</td>\n",
       "      <td>0</td>\n",
       "      <td>0</td>\n",
       "      <td>0</td>\n",
       "      <td>0</td>\n",
       "      <td>0</td>\n",
       "      <td>0</td>\n",
       "    </tr>\n",
       "    <tr>\n",
       "      <th>-05XqtNjcBq19vh2CVJN8g</th>\n",
       "      <td>0</td>\n",
       "      <td>0</td>\n",
       "      <td>0</td>\n",
       "      <td>0</td>\n",
       "      <td>0</td>\n",
       "      <td>0</td>\n",
       "      <td>0</td>\n",
       "      <td>0</td>\n",
       "      <td>0</td>\n",
       "      <td>0</td>\n",
       "      <td>...</td>\n",
       "      <td>0</td>\n",
       "      <td>0</td>\n",
       "      <td>0</td>\n",
       "      <td>0</td>\n",
       "      <td>0</td>\n",
       "      <td>0</td>\n",
       "      <td>0</td>\n",
       "      <td>0</td>\n",
       "      <td>0</td>\n",
       "      <td>0</td>\n",
       "    </tr>\n",
       "  </tbody>\n",
       "</table>\n",
       "<p>5 rows × 4343 columns</p>\n",
       "</div>"
      ],
      "text/plain": [
       "business_id             --9e1ONYQuAa-CB_Rrw7Tw  -1vfRrlnNnNJ5boOVghMPA  \\\n",
       "user_id                                                                  \n",
       "--LUapetRSkZpFZ2d-MXLQ                       0                       0   \n",
       "--RlSfc-QmcHFGHyX6aVjA                       0                       0   \n",
       "--ZNfWKj1VyVElRx6-g1fg                       0                       0   \n",
       "-00kdEIhCt-ODaV4BS-EAg                       0                       0   \n",
       "-05XqtNjcBq19vh2CVJN8g                       0                       0   \n",
       "\n",
       "business_id             -3zffZUHoY8bQjGfPSoBKQ  -8R_-EkGpUhBk55K9Dd4mg  \\\n",
       "user_id                                                                  \n",
       "--LUapetRSkZpFZ2d-MXLQ                       0                       0   \n",
       "--RlSfc-QmcHFGHyX6aVjA                       0                       0   \n",
       "--ZNfWKj1VyVElRx6-g1fg                       0                       0   \n",
       "-00kdEIhCt-ODaV4BS-EAg                       0                       0   \n",
       "-05XqtNjcBq19vh2CVJN8g                       0                       0   \n",
       "\n",
       "business_id             -9YyInW1wapzdNZrhQJ9dg  -AD5PiuJHgdUcAK-Vxao2A  \\\n",
       "user_id                                                                  \n",
       "--LUapetRSkZpFZ2d-MXLQ                       0                       0   \n",
       "--RlSfc-QmcHFGHyX6aVjA                       0                       0   \n",
       "--ZNfWKj1VyVElRx6-g1fg                       0                       0   \n",
       "-00kdEIhCt-ODaV4BS-EAg                       0                       0   \n",
       "-05XqtNjcBq19vh2CVJN8g                       0                       0   \n",
       "\n",
       "business_id             -BS4aZAQm9u41YnB9MUASA  -Bf8BQ3yMk8U2f45r2DRKw  \\\n",
       "user_id                                                                  \n",
       "--LUapetRSkZpFZ2d-MXLQ                       0                       0   \n",
       "--RlSfc-QmcHFGHyX6aVjA                       0                       0   \n",
       "--ZNfWKj1VyVElRx6-g1fg                       0                       0   \n",
       "-00kdEIhCt-ODaV4BS-EAg                       0                       0   \n",
       "-05XqtNjcBq19vh2CVJN8g                       0                       0   \n",
       "\n",
       "business_id             -BmqghX1sv7sgsxOIS2yAg  -Bv-HHUs8aHzDrdWcZHn8w  \\\n",
       "user_id                                                                  \n",
       "--LUapetRSkZpFZ2d-MXLQ                       0                       0   \n",
       "--RlSfc-QmcHFGHyX6aVjA                       0                       0   \n",
       "--ZNfWKj1VyVElRx6-g1fg                       0                       0   \n",
       "-00kdEIhCt-ODaV4BS-EAg                       0                       0   \n",
       "-05XqtNjcBq19vh2CVJN8g                       0                       0   \n",
       "\n",
       "business_id                      ...            zmltWmTpoBt5sCU-5Kzj-Q  \\\n",
       "user_id                          ...                                     \n",
       "--LUapetRSkZpFZ2d-MXLQ           ...                                 0   \n",
       "--RlSfc-QmcHFGHyX6aVjA           ...                                 0   \n",
       "--ZNfWKj1VyVElRx6-g1fg           ...                                 0   \n",
       "-00kdEIhCt-ODaV4BS-EAg           ...                                 0   \n",
       "-05XqtNjcBq19vh2CVJN8g           ...                                 0   \n",
       "\n",
       "business_id             znWHLW1pt19HzW1VY6KfCA  zp-K5s3pGTWuuaVBWo6WZA  \\\n",
       "user_id                                                                  \n",
       "--LUapetRSkZpFZ2d-MXLQ                       0                       0   \n",
       "--RlSfc-QmcHFGHyX6aVjA                       0                       0   \n",
       "--ZNfWKj1VyVElRx6-g1fg                       0                       0   \n",
       "-00kdEIhCt-ODaV4BS-EAg                       0                       0   \n",
       "-05XqtNjcBq19vh2CVJN8g                       0                       0   \n",
       "\n",
       "business_id             zpoZ6WyQUYff18-z4ZU1mA  zrQ1zKWC-W2PCvwjBururQ  \\\n",
       "user_id                                                                  \n",
       "--LUapetRSkZpFZ2d-MXLQ                       0                       0   \n",
       "--RlSfc-QmcHFGHyX6aVjA                       0                       0   \n",
       "--ZNfWKj1VyVElRx6-g1fg                       0                       0   \n",
       "-00kdEIhCt-ODaV4BS-EAg                       0                       0   \n",
       "-05XqtNjcBq19vh2CVJN8g                       0                       0   \n",
       "\n",
       "business_id             zsQk990PubOHjr1YcLkQFw  zt9RLUIU32fZYOBh2L0NNQ  \\\n",
       "user_id                                                                  \n",
       "--LUapetRSkZpFZ2d-MXLQ                       0                       0   \n",
       "--RlSfc-QmcHFGHyX6aVjA                       0                       0   \n",
       "--ZNfWKj1VyVElRx6-g1fg                       3                       0   \n",
       "-00kdEIhCt-ODaV4BS-EAg                       0                       0   \n",
       "-05XqtNjcBq19vh2CVJN8g                       0                       0   \n",
       "\n",
       "business_id             zttcrQP4MxNS5X5itzStXg  zuwba6QEBIDZT0tJZmNhdQ  \\\n",
       "user_id                                                                  \n",
       "--LUapetRSkZpFZ2d-MXLQ                       0                       0   \n",
       "--RlSfc-QmcHFGHyX6aVjA                       0                       0   \n",
       "--ZNfWKj1VyVElRx6-g1fg                       0                       0   \n",
       "-00kdEIhCt-ODaV4BS-EAg                       0                       0   \n",
       "-05XqtNjcBq19vh2CVJN8g                       0                       0   \n",
       "\n",
       "business_id             zwNC-Ow4eIMan2__bS9-rg  \n",
       "user_id                                         \n",
       "--LUapetRSkZpFZ2d-MXLQ                       0  \n",
       "--RlSfc-QmcHFGHyX6aVjA                       0  \n",
       "--ZNfWKj1VyVElRx6-g1fg                       0  \n",
       "-00kdEIhCt-ODaV4BS-EAg                       0  \n",
       "-05XqtNjcBq19vh2CVJN8g                       0  \n",
       "\n",
       "[5 rows x 4343 columns]"
      ]
     },
     "execution_count": 12,
     "metadata": {},
     "output_type": "execute_result"
    }
   ],
   "source": [
    "df_utility.head()"
   ]
  },
  {
   "cell_type": "code",
   "execution_count": 13,
   "metadata": {},
   "outputs": [
    {
     "data": {
      "text/plain": [
       "(12257L,)"
      ]
     },
     "execution_count": 13,
     "metadata": {},
     "output_type": "execute_result"
    }
   ],
   "source": [
    "# get the list of user id by checking out the index of the utility matrix\n",
    "user_id_list=df_utility.index\n",
    "user_id_list.shape"
   ]
  },
  {
   "cell_type": "code",
   "execution_count": 14,
   "metadata": {},
   "outputs": [
    {
     "data": {
      "text/plain": [
       "(4343L,)"
      ]
     },
     "execution_count": 14,
     "metadata": {},
     "output_type": "execute_result"
    }
   ],
   "source": [
    "# get the list of item id by checking out the columns of the utility matrix\n",
    "item_id_list=df_utility.columns\n",
    "item_id_list.shape"
   ]
  },
  {
   "cell_type": "markdown",
   "metadata": {},
   "source": [
    "## recommendation system with graphlab"
   ]
  },
  {
   "cell_type": "code",
   "execution_count": 15,
   "metadata": {
    "collapsed": true
   },
   "outputs": [],
   "source": [
    "import graphlab"
   ]
  },
  {
   "cell_type": "code",
   "execution_count": 27,
   "metadata": {},
   "outputs": [
    {
     "name": "stdout",
     "output_type": "stream",
     "text": [
      "\n",
      "By running this function, you agree to the following licenses.\n",
      "\n",
      "* libstdc++: https://gcc.gnu.org/onlinedocs/libstdc++/manual/license.html\n",
      "* xz: http://git.tukaani.org/?p=xz.git;a=blob;f=COPYING\n",
      "    \n",
      "Downloading xz.\n",
      "Extracting xz.\n",
      "Downloading gcc-libs.\n",
      "Extracting gcc-libs.\n",
      "Copying gcc-libs into the installation directory.\n"
     ]
    }
   ],
   "source": [
    "graphlab.get_dependencies()"
   ]
  },
  {
   "cell_type": "markdown",
   "metadata": {},
   "source": [
    "## 2. Item-Item similarity recommender"
   ]
  },
  {
   "cell_type": "markdown",
   "metadata": {},
   "source": [
    "### Let's reuse the ItemItemRecommender class derived from previous exercise\n",
    "\n",
    "Hint: we need to make modification to accommodate the dense numpy array"
   ]
  },
  {
   "cell_type": "code",
   "execution_count": 16,
   "metadata": {},
   "outputs": [
    {
     "name": "stdout",
     "output_type": "stream",
     "text": [
      "This non-commercial license of GraphLab Create for academic use is assigned to leilei9933@gmail.com and will expire on February 23, 2019.\n"
     ]
    },
    {
     "name": "stderr",
     "output_type": "stream",
     "text": [
      "[INFO] graphlab.cython.cy_server: GraphLab Create v2.1 started. Logging: C:\\Users\\LEILEI~1\\AppData\\Local\\Temp\\graphlab_server_1519436906.log.0\n"
     ]
    },
    {
     "data": {
      "text/html": [
       "<div style=\"max-height:1000px;max-width:1500px;overflow:auto;\"><table frame=\"box\" rules=\"cols\">\n",
       "    <tr>\n",
       "        <th style=\"padding-left: 1em; padding-right: 1em; text-align: center\">business_id</th>\n",
       "        <th style=\"padding-left: 1em; padding-right: 1em; text-align: center\">user_id</th>\n",
       "        <th style=\"padding-left: 1em; padding-right: 1em; text-align: center\">stars</th>\n",
       "    </tr>\n",
       "    <tr>\n",
       "        <td style=\"padding-left: 1em; padding-right: 1em; text-align: center; vertical-align: top\">--9e1ONYQuAa-CB_Rrw7Tw</td>\n",
       "        <td style=\"padding-left: 1em; padding-right: 1em; text-align: center; vertical-align: top\">4LxKRRIikhr65GfPDW626w</td>\n",
       "        <td style=\"padding-left: 1em; padding-right: 1em; text-align: center; vertical-align: top\">5</td>\n",
       "    </tr>\n",
       "    <tr>\n",
       "        <td style=\"padding-left: 1em; padding-right: 1em; text-align: center; vertical-align: top\">--9e1ONYQuAa-CB_Rrw7Tw</td>\n",
       "        <td style=\"padding-left: 1em; padding-right: 1em; text-align: center; vertical-align: top\">nT8zgjoc-PbdBoQsFEXFLw</td>\n",
       "        <td style=\"padding-left: 1em; padding-right: 1em; text-align: center; vertical-align: top\">5</td>\n",
       "    </tr>\n",
       "    <tr>\n",
       "        <td style=\"padding-left: 1em; padding-right: 1em; text-align: center; vertical-align: top\">--9e1ONYQuAa-CB_Rrw7Tw</td>\n",
       "        <td style=\"padding-left: 1em; padding-right: 1em; text-align: center; vertical-align: top\">7RlyCglsIzhBn081inwvcg</td>\n",
       "        <td style=\"padding-left: 1em; padding-right: 1em; text-align: center; vertical-align: top\">5</td>\n",
       "    </tr>\n",
       "    <tr>\n",
       "        <td style=\"padding-left: 1em; padding-right: 1em; text-align: center; vertical-align: top\">--9e1ONYQuAa-CB_Rrw7Tw</td>\n",
       "        <td style=\"padding-left: 1em; padding-right: 1em; text-align: center; vertical-align: top\">rOIrilMC7VFwFVBeQNiKMw</td>\n",
       "        <td style=\"padding-left: 1em; padding-right: 1em; text-align: center; vertical-align: top\">3</td>\n",
       "    </tr>\n",
       "    <tr>\n",
       "        <td style=\"padding-left: 1em; padding-right: 1em; text-align: center; vertical-align: top\">--9e1ONYQuAa-CB_Rrw7Tw</td>\n",
       "        <td style=\"padding-left: 1em; padding-right: 1em; text-align: center; vertical-align: top\">PiWlV_UC_-SXqyxQM9fAtw</td>\n",
       "        <td style=\"padding-left: 1em; padding-right: 1em; text-align: center; vertical-align: top\">5</td>\n",
       "    </tr>\n",
       "    <tr>\n",
       "        <td style=\"padding-left: 1em; padding-right: 1em; text-align: center; vertical-align: top\">--9e1ONYQuAa-CB_Rrw7Tw</td>\n",
       "        <td style=\"padding-left: 1em; padding-right: 1em; text-align: center; vertical-align: top\">TU5j2S_Ub__ojLOpD_UepQ</td>\n",
       "        <td style=\"padding-left: 1em; padding-right: 1em; text-align: center; vertical-align: top\">5</td>\n",
       "    </tr>\n",
       "    <tr>\n",
       "        <td style=\"padding-left: 1em; padding-right: 1em; text-align: center; vertical-align: top\">--9e1ONYQuAa-CB_Rrw7Tw</td>\n",
       "        <td style=\"padding-left: 1em; padding-right: 1em; text-align: center; vertical-align: top\">yywpv3b6QWWJzjOyIlvWiQ</td>\n",
       "        <td style=\"padding-left: 1em; padding-right: 1em; text-align: center; vertical-align: top\">3</td>\n",
       "    </tr>\n",
       "    <tr>\n",
       "        <td style=\"padding-left: 1em; padding-right: 1em; text-align: center; vertical-align: top\">--9e1ONYQuAa-CB_Rrw7Tw</td>\n",
       "        <td style=\"padding-left: 1em; padding-right: 1em; text-align: center; vertical-align: top\">4pbbNuzxlZ9E52wsVhgGig</td>\n",
       "        <td style=\"padding-left: 1em; padding-right: 1em; text-align: center; vertical-align: top\">1</td>\n",
       "    </tr>\n",
       "    <tr>\n",
       "        <td style=\"padding-left: 1em; padding-right: 1em; text-align: center; vertical-align: top\">--9e1ONYQuAa-CB_Rrw7Tw</td>\n",
       "        <td style=\"padding-left: 1em; padding-right: 1em; text-align: center; vertical-align: top\">KZoC3XF8kaOfXCRmA5rOcA</td>\n",
       "        <td style=\"padding-left: 1em; padding-right: 1em; text-align: center; vertical-align: top\">5</td>\n",
       "    </tr>\n",
       "    <tr>\n",
       "        <td style=\"padding-left: 1em; padding-right: 1em; text-align: center; vertical-align: top\">--9e1ONYQuAa-CB_Rrw7Tw</td>\n",
       "        <td style=\"padding-left: 1em; padding-right: 1em; text-align: center; vertical-align: top\">ez3GBw83OIgzzgvc0R4jzw</td>\n",
       "        <td style=\"padding-left: 1em; padding-right: 1em; text-align: center; vertical-align: top\">4</td>\n",
       "    </tr>\n",
       "</table>\n",
       "[437640 rows x 3 columns]<br/>Note: Only the head of the SFrame is printed.<br/>You can use print_rows(num_rows=m, num_columns=n) to print more rows and columns.\n",
       "</div>"
      ],
      "text/plain": [
       "Columns:\n",
       "\tbusiness_id\tstr\n",
       "\tuser_id\tstr\n",
       "\tstars\tint\n",
       "\n",
       "Rows: 437640\n",
       "\n",
       "Data:\n",
       "+------------------------+------------------------+-------+\n",
       "|      business_id       |        user_id         | stars |\n",
       "+------------------------+------------------------+-------+\n",
       "| --9e1ONYQuAa-CB_Rrw7Tw | 4LxKRRIikhr65GfPDW626w |   5   |\n",
       "| --9e1ONYQuAa-CB_Rrw7Tw | nT8zgjoc-PbdBoQsFEXFLw |   5   |\n",
       "| --9e1ONYQuAa-CB_Rrw7Tw | 7RlyCglsIzhBn081inwvcg |   5   |\n",
       "| --9e1ONYQuAa-CB_Rrw7Tw | rOIrilMC7VFwFVBeQNiKMw |   3   |\n",
       "| --9e1ONYQuAa-CB_Rrw7Tw | PiWlV_UC_-SXqyxQM9fAtw |   5   |\n",
       "| --9e1ONYQuAa-CB_Rrw7Tw | TU5j2S_Ub__ojLOpD_UepQ |   5   |\n",
       "| --9e1ONYQuAa-CB_Rrw7Tw | yywpv3b6QWWJzjOyIlvWiQ |   3   |\n",
       "| --9e1ONYQuAa-CB_Rrw7Tw | 4pbbNuzxlZ9E52wsVhgGig |   1   |\n",
       "| --9e1ONYQuAa-CB_Rrw7Tw | KZoC3XF8kaOfXCRmA5rOcA |   5   |\n",
       "| --9e1ONYQuAa-CB_Rrw7Tw | ez3GBw83OIgzzgvc0R4jzw |   4   |\n",
       "+------------------------+------------------------+-------+\n",
       "[437640 rows x 3 columns]\n",
       "Note: Only the head of the SFrame is printed.\n",
       "You can use print_rows(num_rows=m, num_columns=n) to print more rows and columns."
      ]
     },
     "execution_count": 16,
     "metadata": {},
     "output_type": "execute_result"
    }
   ],
   "source": [
    "# To be implemented\n",
    "\n",
    "sf_stars = graphlab.SFrame(df_stars)\n",
    "sf_stars # SFrame similar to DataFrame"
   ]
  },
  {
   "cell_type": "code",
   "execution_count": 18,
   "metadata": {},
   "outputs": [
    {
     "data": {
      "text/html": [
       "<pre>Recsys training: model = item_similarity</pre>"
      ],
      "text/plain": [
       "Recsys training: model = item_similarity"
      ]
     },
     "metadata": {},
     "output_type": "display_data"
    },
    {
     "data": {
      "text/html": [
       "<pre>Preparing data set.</pre>"
      ],
      "text/plain": [
       "Preparing data set."
      ]
     },
     "metadata": {},
     "output_type": "display_data"
    },
    {
     "data": {
      "text/html": [
       "<pre>    Data has 437640 observations with 195802 users and 4624 items.</pre>"
      ],
      "text/plain": [
       "    Data has 437640 observations with 195802 users and 4624 items."
      ]
     },
     "metadata": {},
     "output_type": "display_data"
    },
    {
     "data": {
      "text/html": [
       "<pre>    Data prepared in: 0.493804s</pre>"
      ],
      "text/plain": [
       "    Data prepared in: 0.493804s"
      ]
     },
     "metadata": {},
     "output_type": "display_data"
    },
    {
     "data": {
      "text/html": [
       "<pre>Training model from provided data.</pre>"
      ],
      "text/plain": [
       "Training model from provided data."
      ]
     },
     "metadata": {},
     "output_type": "display_data"
    },
    {
     "data": {
      "text/html": [
       "<pre>Gathering per-item and per-user statistics.</pre>"
      ],
      "text/plain": [
       "Gathering per-item and per-user statistics."
      ]
     },
     "metadata": {},
     "output_type": "display_data"
    },
    {
     "data": {
      "text/html": [
       "<pre>+--------------------------------+------------+</pre>"
      ],
      "text/plain": [
       "+--------------------------------+------------+"
      ]
     },
     "metadata": {},
     "output_type": "display_data"
    },
    {
     "data": {
      "text/html": [
       "<pre>| Elapsed Time (Item Statistics) | % Complete |</pre>"
      ],
      "text/plain": [
       "| Elapsed Time (Item Statistics) | % Complete |"
      ]
     },
     "metadata": {},
     "output_type": "display_data"
    },
    {
     "data": {
      "text/html": [
       "<pre>+--------------------------------+------------+</pre>"
      ],
      "text/plain": [
       "+--------------------------------+------------+"
      ]
     },
     "metadata": {},
     "output_type": "display_data"
    },
    {
     "data": {
      "text/html": [
       "<pre>| 43.602ms                       | 6.5        |</pre>"
      ],
      "text/plain": [
       "| 43.602ms                       | 6.5        |"
      ]
     },
     "metadata": {},
     "output_type": "display_data"
    },
    {
     "data": {
      "text/html": [
       "<pre>| 43.602ms                       | 100        |</pre>"
      ],
      "text/plain": [
       "| 43.602ms                       | 100        |"
      ]
     },
     "metadata": {},
     "output_type": "display_data"
    },
    {
     "data": {
      "text/html": [
       "<pre>+--------------------------------+------------+</pre>"
      ],
      "text/plain": [
       "+--------------------------------+------------+"
      ]
     },
     "metadata": {},
     "output_type": "display_data"
    },
    {
     "data": {
      "text/html": [
       "<pre>Setting up lookup tables.</pre>"
      ],
      "text/plain": [
       "Setting up lookup tables."
      ]
     },
     "metadata": {},
     "output_type": "display_data"
    },
    {
     "data": {
      "text/html": [
       "<pre>Processing data in one pass using dense lookup tables.</pre>"
      ],
      "text/plain": [
       "Processing data in one pass using dense lookup tables."
      ]
     },
     "metadata": {},
     "output_type": "display_data"
    },
    {
     "data": {
      "text/html": [
       "<pre>+-------------------------------------+------------------+-----------------+</pre>"
      ],
      "text/plain": [
       "+-------------------------------------+------------------+-----------------+"
      ]
     },
     "metadata": {},
     "output_type": "display_data"
    },
    {
     "data": {
      "text/html": [
       "<pre>| Elapsed Time (Constructing Lookups) | Total % Complete | Items Processed |</pre>"
      ],
      "text/plain": [
       "| Elapsed Time (Constructing Lookups) | Total % Complete | Items Processed |"
      ]
     },
     "metadata": {},
     "output_type": "display_data"
    },
    {
     "data": {
      "text/html": [
       "<pre>+-------------------------------------+------------------+-----------------+</pre>"
      ],
      "text/plain": [
       "+-------------------------------------+------------------+-----------------+"
      ]
     },
     "metadata": {},
     "output_type": "display_data"
    },
    {
     "data": {
      "text/html": [
       "<pre>| 101.803ms                           | 0                | 0               |</pre>"
      ],
      "text/plain": [
       "| 101.803ms                           | 0                | 0               |"
      ]
     },
     "metadata": {},
     "output_type": "display_data"
    },
    {
     "data": {
      "text/html": [
       "<pre>| 284.814ms                           | 100              | 4624            |</pre>"
      ],
      "text/plain": [
       "| 284.814ms                           | 100              | 4624            |"
      ]
     },
     "metadata": {},
     "output_type": "display_data"
    },
    {
     "data": {
      "text/html": [
       "<pre>+-------------------------------------+------------------+-----------------+</pre>"
      ],
      "text/plain": [
       "+-------------------------------------+------------------+-----------------+"
      ]
     },
     "metadata": {},
     "output_type": "display_data"
    },
    {
     "data": {
      "text/html": [
       "<pre>Finalizing lookup tables.</pre>"
      ],
      "text/plain": [
       "Finalizing lookup tables."
      ]
     },
     "metadata": {},
     "output_type": "display_data"
    },
    {
     "data": {
      "text/html": [
       "<pre>Generating candidate set for working with new users.</pre>"
      ],
      "text/plain": [
       "Generating candidate set for working with new users."
      ]
     },
     "metadata": {},
     "output_type": "display_data"
    },
    {
     "data": {
      "text/html": [
       "<pre>Finished training in 1.33446s</pre>"
      ],
      "text/plain": [
       "Finished training in 1.33446s"
      ]
     },
     "metadata": {},
     "output_type": "display_data"
    }
   ],
   "source": [
    "# item-item recommender\n",
    "item_item_rec=graphlab.recommender.item_similarity_recommender.create(sf_stars,\n",
    "                                                                     user_id='user_id',\n",
    "                                                                     item_id='business_id',\n",
    "                                                                     target='stars')"
   ]
  },
  {
   "cell_type": "code",
   "execution_count": 19,
   "metadata": {},
   "outputs": [
    {
     "data": {
      "text/html": [
       "<div style=\"max-height:1000px;max-width:1500px;overflow:auto;\"><table frame=\"box\" rules=\"cols\">\n",
       "    <tr>\n",
       "        <th style=\"padding-left: 1em; padding-right: 1em; text-align: center\">user_id</th>\n",
       "        <th style=\"padding-left: 1em; padding-right: 1em; text-align: center\">business_id</th>\n",
       "        <th style=\"padding-left: 1em; padding-right: 1em; text-align: center\">score</th>\n",
       "        <th style=\"padding-left: 1em; padding-right: 1em; text-align: center\">rank</th>\n",
       "    </tr>\n",
       "    <tr>\n",
       "        <td style=\"padding-left: 1em; padding-right: 1em; text-align: center; vertical-align: top\">4LxKRRIikhr65GfPDW626w</td>\n",
       "        <td style=\"padding-left: 1em; padding-right: 1em; text-align: center; vertical-align: top\">faPVqws-x-5k2CQKDNtHxw</td>\n",
       "        <td style=\"padding-left: 1em; padding-right: 1em; text-align: center; vertical-align: top\">0.0106560587883</td>\n",
       "        <td style=\"padding-left: 1em; padding-right: 1em; text-align: center; vertical-align: top\">1</td>\n",
       "    </tr>\n",
       "    <tr>\n",
       "        <td style=\"padding-left: 1em; padding-right: 1em; text-align: center; vertical-align: top\">4LxKRRIikhr65GfPDW626w</td>\n",
       "        <td style=\"padding-left: 1em; padding-right: 1em; text-align: center; vertical-align: top\">-wCtRhzWJ40Z4F8mmg7kWg</td>\n",
       "        <td style=\"padding-left: 1em; padding-right: 1em; text-align: center; vertical-align: top\">0.00753258913755</td>\n",
       "        <td style=\"padding-left: 1em; padding-right: 1em; text-align: center; vertical-align: top\">2</td>\n",
       "    </tr>\n",
       "    <tr>\n",
       "        <td style=\"padding-left: 1em; padding-right: 1em; text-align: center; vertical-align: top\">4LxKRRIikhr65GfPDW626w</td>\n",
       "        <td style=\"padding-left: 1em; padding-right: 1em; text-align: center; vertical-align: top\">7UFDAX4wLi6ux5otguYldA</td>\n",
       "        <td style=\"padding-left: 1em; padding-right: 1em; text-align: center; vertical-align: top\">0.0072423145175</td>\n",
       "        <td style=\"padding-left: 1em; padding-right: 1em; text-align: center; vertical-align: top\">3</td>\n",
       "    </tr>\n",
       "    <tr>\n",
       "        <td style=\"padding-left: 1em; padding-right: 1em; text-align: center; vertical-align: top\">nT8zgjoc-PbdBoQsFEXFLw</td>\n",
       "        <td style=\"padding-left: 1em; padding-right: 1em; text-align: center; vertical-align: top\">SeNOJ2zYHziptxLuiRINLg</td>\n",
       "        <td style=\"padding-left: 1em; padding-right: 1em; text-align: center; vertical-align: top\">0.00921416282654</td>\n",
       "        <td style=\"padding-left: 1em; padding-right: 1em; text-align: center; vertical-align: top\">1</td>\n",
       "    </tr>\n",
       "    <tr>\n",
       "        <td style=\"padding-left: 1em; padding-right: 1em; text-align: center; vertical-align: top\">nT8zgjoc-PbdBoQsFEXFLw</td>\n",
       "        <td style=\"padding-left: 1em; padding-right: 1em; text-align: center; vertical-align: top\">rcaPajgKOJC2vo_l3xa42A</td>\n",
       "        <td style=\"padding-left: 1em; padding-right: 1em; text-align: center; vertical-align: top\">0.00815848509471</td>\n",
       "        <td style=\"padding-left: 1em; padding-right: 1em; text-align: center; vertical-align: top\">2</td>\n",
       "    </tr>\n",
       "    <tr>\n",
       "        <td style=\"padding-left: 1em; padding-right: 1em; text-align: center; vertical-align: top\">nT8zgjoc-PbdBoQsFEXFLw</td>\n",
       "        <td style=\"padding-left: 1em; padding-right: 1em; text-align: center; vertical-align: top\">pmoIMK8zGWvKsVOPDBYfzg</td>\n",
       "        <td style=\"padding-left: 1em; padding-right: 1em; text-align: center; vertical-align: top\">0.00813007354736</td>\n",
       "        <td style=\"padding-left: 1em; padding-right: 1em; text-align: center; vertical-align: top\">3</td>\n",
       "    </tr>\n",
       "    <tr>\n",
       "        <td style=\"padding-left: 1em; padding-right: 1em; text-align: center; vertical-align: top\">7RlyCglsIzhBn081inwvcg</td>\n",
       "        <td style=\"padding-left: 1em; padding-right: 1em; text-align: center; vertical-align: top\">H8qpFitIesth86zqR4cwYg</td>\n",
       "        <td style=\"padding-left: 1em; padding-right: 1em; text-align: center; vertical-align: top\">0.0157702763875</td>\n",
       "        <td style=\"padding-left: 1em; padding-right: 1em; text-align: center; vertical-align: top\">1</td>\n",
       "    </tr>\n",
       "    <tr>\n",
       "        <td style=\"padding-left: 1em; padding-right: 1em; text-align: center; vertical-align: top\">7RlyCglsIzhBn081inwvcg</td>\n",
       "        <td style=\"padding-left: 1em; padding-right: 1em; text-align: center; vertical-align: top\">Yp9w4nhUowBU_IS_StFXbQ</td>\n",
       "        <td style=\"padding-left: 1em; padding-right: 1em; text-align: center; vertical-align: top\">0.0134044686953</td>\n",
       "        <td style=\"padding-left: 1em; padding-right: 1em; text-align: center; vertical-align: top\">2</td>\n",
       "    </tr>\n",
       "    <tr>\n",
       "        <td style=\"padding-left: 1em; padding-right: 1em; text-align: center; vertical-align: top\">7RlyCglsIzhBn081inwvcg</td>\n",
       "        <td style=\"padding-left: 1em; padding-right: 1em; text-align: center; vertical-align: top\">rcaPajgKOJC2vo_l3xa42A</td>\n",
       "        <td style=\"padding-left: 1em; padding-right: 1em; text-align: center; vertical-align: top\">0.010878721873</td>\n",
       "        <td style=\"padding-left: 1em; padding-right: 1em; text-align: center; vertical-align: top\">3</td>\n",
       "    </tr>\n",
       "    <tr>\n",
       "        <td style=\"padding-left: 1em; padding-right: 1em; text-align: center; vertical-align: top\">rOIrilMC7VFwFVBeQNiKMw</td>\n",
       "        <td style=\"padding-left: 1em; padding-right: 1em; text-align: center; vertical-align: top\">RESDUcs7fIiihp38-d6_6g</td>\n",
       "        <td style=\"padding-left: 1em; padding-right: 1em; text-align: center; vertical-align: top\">0.0175849050283</td>\n",
       "        <td style=\"padding-left: 1em; padding-right: 1em; text-align: center; vertical-align: top\">1</td>\n",
       "    </tr>\n",
       "</table>\n",
       "[587406 rows x 4 columns]<br/>Note: Only the head of the SFrame is printed.<br/>You can use print_rows(num_rows=m, num_columns=n) to print more rows and columns.\n",
       "</div>"
      ],
      "text/plain": [
       "Columns:\n",
       "\tuser_id\tstr\n",
       "\tbusiness_id\tstr\n",
       "\tscore\tfloat\n",
       "\trank\tint\n",
       "\n",
       "Rows: 587406\n",
       "\n",
       "Data:\n",
       "+------------------------+------------------------+------------------+------+\n",
       "|        user_id         |      business_id       |      score       | rank |\n",
       "+------------------------+------------------------+------------------+------+\n",
       "| 4LxKRRIikhr65GfPDW626w | faPVqws-x-5k2CQKDNtHxw | 0.0106560587883  |  1   |\n",
       "| 4LxKRRIikhr65GfPDW626w | -wCtRhzWJ40Z4F8mmg7kWg | 0.00753258913755 |  2   |\n",
       "| 4LxKRRIikhr65GfPDW626w | 7UFDAX4wLi6ux5otguYldA | 0.0072423145175  |  3   |\n",
       "| nT8zgjoc-PbdBoQsFEXFLw | SeNOJ2zYHziptxLuiRINLg | 0.00921416282654 |  1   |\n",
       "| nT8zgjoc-PbdBoQsFEXFLw | rcaPajgKOJC2vo_l3xa42A | 0.00815848509471 |  2   |\n",
       "| nT8zgjoc-PbdBoQsFEXFLw | pmoIMK8zGWvKsVOPDBYfzg | 0.00813007354736 |  3   |\n",
       "| 7RlyCglsIzhBn081inwvcg | H8qpFitIesth86zqR4cwYg | 0.0157702763875  |  1   |\n",
       "| 7RlyCglsIzhBn081inwvcg | Yp9w4nhUowBU_IS_StFXbQ | 0.0134044686953  |  2   |\n",
       "| 7RlyCglsIzhBn081inwvcg | rcaPajgKOJC2vo_l3xa42A |  0.010878721873  |  3   |\n",
       "| rOIrilMC7VFwFVBeQNiKMw | RESDUcs7fIiihp38-d6_6g | 0.0175849050283  |  1   |\n",
       "+------------------------+------------------------+------------------+------+\n",
       "[587406 rows x 4 columns]\n",
       "Note: Only the head of the SFrame is printed.\n",
       "You can use print_rows(num_rows=m, num_columns=n) to print more rows and columns."
      ]
     },
     "execution_count": 19,
     "metadata": {},
     "output_type": "execute_result"
    }
   ],
   "source": [
    "item_item_rec_result=item_item_rec.recommend(k=3,verbose=False)\n",
    "item_item_rec_result"
   ]
  },
  {
   "cell_type": "markdown",
   "metadata": {},
   "source": [
    "# 3. Content-based recommender"
   ]
  },
  {
   "cell_type": "markdown",
   "metadata": {},
   "source": [
    "### extract some feature for recommender"
   ]
  },
  {
   "cell_type": "code",
   "execution_count": 22,
   "metadata": {},
   "outputs": [
    {
     "data": {
      "text/html": [
       "<div>\n",
       "<style>\n",
       "    .dataframe thead tr:only-child th {\n",
       "        text-align: right;\n",
       "    }\n",
       "\n",
       "    .dataframe thead th {\n",
       "        text-align: left;\n",
       "    }\n",
       "\n",
       "    .dataframe tbody tr th {\n",
       "        vertical-align: top;\n",
       "    }\n",
       "</style>\n",
       "<table border=\"1\" class=\"dataframe\">\n",
       "  <thead>\n",
       "    <tr style=\"text-align: right;\">\n",
       "      <th></th>\n",
       "      <th>avg_stars</th>\n",
       "      <th>cool</th>\n",
       "      <th>funny</th>\n",
       "      <th>stars</th>\n",
       "      <th>useful</th>\n",
       "    </tr>\n",
       "    <tr>\n",
       "      <th>business_id</th>\n",
       "      <th></th>\n",
       "      <th></th>\n",
       "      <th></th>\n",
       "      <th></th>\n",
       "      <th></th>\n",
       "    </tr>\n",
       "  </thead>\n",
       "  <tbody>\n",
       "    <tr>\n",
       "      <th>--9e1ONYQuAa-CB_Rrw7Tw</th>\n",
       "      <td>4.0</td>\n",
       "      <td>0.690176</td>\n",
       "      <td>0.521411</td>\n",
       "      <td>4.141058</td>\n",
       "      <td>0.959698</td>\n",
       "    </tr>\n",
       "    <tr>\n",
       "      <th>-1vfRrlnNnNJ5boOVghMPA</th>\n",
       "      <td>3.0</td>\n",
       "      <td>0.357143</td>\n",
       "      <td>0.428571</td>\n",
       "      <td>3.000000</td>\n",
       "      <td>0.357143</td>\n",
       "    </tr>\n",
       "    <tr>\n",
       "      <th>-3zffZUHoY8bQjGfPSoBKQ</th>\n",
       "      <td>4.0</td>\n",
       "      <td>0.503145</td>\n",
       "      <td>0.440252</td>\n",
       "      <td>3.880503</td>\n",
       "      <td>0.943396</td>\n",
       "    </tr>\n",
       "    <tr>\n",
       "      <th>-8R_-EkGpUhBk55K9Dd4mg</th>\n",
       "      <td>3.5</td>\n",
       "      <td>0.877551</td>\n",
       "      <td>0.775510</td>\n",
       "      <td>3.714286</td>\n",
       "      <td>1.000000</td>\n",
       "    </tr>\n",
       "    <tr>\n",
       "      <th>-9YyInW1wapzdNZrhQJ9dg</th>\n",
       "      <td>2.5</td>\n",
       "      <td>0.162162</td>\n",
       "      <td>0.229730</td>\n",
       "      <td>2.378378</td>\n",
       "      <td>0.608108</td>\n",
       "    </tr>\n",
       "  </tbody>\n",
       "</table>\n",
       "</div>"
      ],
      "text/plain": [
       "                        avg_stars      cool     funny     stars    useful\n",
       "business_id                                                              \n",
       "--9e1ONYQuAa-CB_Rrw7Tw        4.0  0.690176  0.521411  4.141058  0.959698\n",
       "-1vfRrlnNnNJ5boOVghMPA        3.0  0.357143  0.428571  3.000000  0.357143\n",
       "-3zffZUHoY8bQjGfPSoBKQ        4.0  0.503145  0.440252  3.880503  0.943396\n",
       "-8R_-EkGpUhBk55K9Dd4mg        3.5  0.877551  0.775510  3.714286  1.000000\n",
       "-9YyInW1wapzdNZrhQJ9dg        2.5  0.162162  0.229730  2.378378  0.608108"
      ]
     },
     "execution_count": 22,
     "metadata": {},
     "output_type": "execute_result"
    }
   ],
   "source": [
    "# group by business_id, then average numerical features\n",
    "df_average=df.groupby(['business_id']).mean()\n",
    "df_average.head()"
   ]
  },
  {
   "cell_type": "code",
   "execution_count": 62,
   "metadata": {},
   "outputs": [
    {
     "data": {
      "text/plain": [
       "business_id\n",
       "--9e1ONYQuAa-CB_Rrw7Tw     [['Steakhouses', 'Cajun/Creole', 'Restaurants']]\n",
       "-1vfRrlnNnNJ5boOVghMPA            [['Restaurants', 'Korean', 'Sushi Bars']]\n",
       "-3zffZUHoY8bQjGfPSoBKQ    [['Seafood', 'Bars', 'Nightlife', 'American (N...\n",
       "-8R_-EkGpUhBk55K9Dd4mg                            [['Restaurants', 'Thai']]\n",
       "-9YyInW1wapzdNZrhQJ9dg                         [['Buffets', 'Restaurants']]\n",
       "Name: categories, dtype: object"
      ]
     },
     "execution_count": 62,
     "metadata": {},
     "output_type": "execute_result"
    }
   ],
   "source": [
    "# group by business_id, extract categories data\n",
    "categories_series=df.groupby(['business_id']).categories.apply(np.unique)\n",
    "categories_series.head()"
   ]
  },
  {
   "cell_type": "code",
   "execution_count": 42,
   "metadata": {},
   "outputs": [
    {
     "data": {
      "text/plain": [
       "pandas.core.series.Series"
      ]
     },
     "execution_count": 42,
     "metadata": {},
     "output_type": "execute_result"
    }
   ],
   "source": [
    "type(categories_series)"
   ]
  },
  {
   "cell_type": "code",
   "execution_count": 63,
   "metadata": {},
   "outputs": [
    {
     "data": {
      "text/plain": [
       "business_id\n",
       "--9e1ONYQuAa-CB_Rrw7Tw         'Steakhouses', 'Cajun/Creole', 'Restaurants'\n",
       "-1vfRrlnNnNJ5boOVghMPA                'Restaurants', 'Korean', 'Sushi Bars'\n",
       "-3zffZUHoY8bQjGfPSoBKQ    'Seafood', 'Bars', 'Nightlife', 'American (New...\n",
       "-8R_-EkGpUhBk55K9Dd4mg                                'Restaurants', 'Thai'\n",
       "-9YyInW1wapzdNZrhQJ9dg                             'Buffets', 'Restaurants'\n",
       "Name: categories, dtype: object"
      ]
     },
     "execution_count": 63,
     "metadata": {},
     "output_type": "execute_result"
    }
   ],
   "source": [
    "# convert categories data to string remove `[]`\n",
    "categories_series=categories_series.str.join('').apply(lambda x: x[1:-1])\n",
    "categories_series.head()"
   ]
  },
  {
   "cell_type": "code",
   "execution_count": 64,
   "metadata": {
    "collapsed": true
   },
   "outputs": [],
   "source": [
    "# business_id, categories table\n",
    "from sklearn.feature_extraction.text import CountVectorizer\n",
    "\n",
    "vectorizer=CountVectorizer()\n",
    "categories_mat=vectorizer.fit_transform(categories_series).toarray()\n",
    "categories=vectorizer.get_feature_names()\n"
   ]
  },
  {
   "cell_type": "code",
   "execution_count": 65,
   "metadata": {},
   "outputs": [
    {
     "data": {
      "text/plain": [
       "array([[0, 0, 0, ..., 0, 0, 0],\n",
       "       [0, 0, 0, ..., 0, 0, 0],\n",
       "       [0, 0, 0, ..., 0, 0, 0],\n",
       "       ..., \n",
       "       [0, 0, 0, ..., 0, 0, 0],\n",
       "       [0, 0, 0, ..., 0, 0, 0],\n",
       "       [0, 0, 0, ..., 0, 0, 0]], dtype=int64)"
      ]
     },
     "execution_count": 65,
     "metadata": {},
     "output_type": "execute_result"
    }
   ],
   "source": [
    "categories_mat"
   ]
  },
  {
   "cell_type": "code",
   "execution_count": 66,
   "metadata": {},
   "outputs": [
    {
     "data": {
      "text/html": [
       "<div>\n",
       "<style>\n",
       "    .dataframe thead tr:only-child th {\n",
       "        text-align: right;\n",
       "    }\n",
       "\n",
       "    .dataframe thead th {\n",
       "        text-align: left;\n",
       "    }\n",
       "\n",
       "    .dataframe tbody tr th {\n",
       "        vertical-align: top;\n",
       "    }\n",
       "</style>\n",
       "<table border=\"1\" class=\"dataframe\">\n",
       "  <thead>\n",
       "    <tr style=\"text-align: right;\">\n",
       "      <th></th>\n",
       "      <th>acai</th>\n",
       "      <th>active</th>\n",
       "      <th>activities</th>\n",
       "      <th>acupuncture</th>\n",
       "      <th>adult</th>\n",
       "      <th>afghan</th>\n",
       "      <th>african</th>\n",
       "      <th>air</th>\n",
       "      <th>aircraft</th>\n",
       "      <th>airport</th>\n",
       "      <th>...</th>\n",
       "      <th>wholesalers</th>\n",
       "      <th>windshield</th>\n",
       "      <th>wine</th>\n",
       "      <th>wineries</th>\n",
       "      <th>wings</th>\n",
       "      <th>women</th>\n",
       "      <th>wraps</th>\n",
       "      <th>yoga</th>\n",
       "      <th>yogurt</th>\n",
       "      <th>yourself</th>\n",
       "    </tr>\n",
       "    <tr>\n",
       "      <th>business_id</th>\n",
       "      <th></th>\n",
       "      <th></th>\n",
       "      <th></th>\n",
       "      <th></th>\n",
       "      <th></th>\n",
       "      <th></th>\n",
       "      <th></th>\n",
       "      <th></th>\n",
       "      <th></th>\n",
       "      <th></th>\n",
       "      <th></th>\n",
       "      <th></th>\n",
       "      <th></th>\n",
       "      <th></th>\n",
       "      <th></th>\n",
       "      <th></th>\n",
       "      <th></th>\n",
       "      <th></th>\n",
       "      <th></th>\n",
       "      <th></th>\n",
       "      <th></th>\n",
       "    </tr>\n",
       "  </thead>\n",
       "  <tbody>\n",
       "    <tr>\n",
       "      <th>--9e1ONYQuAa-CB_Rrw7Tw</th>\n",
       "      <td>0</td>\n",
       "      <td>0</td>\n",
       "      <td>0</td>\n",
       "      <td>0</td>\n",
       "      <td>0</td>\n",
       "      <td>0</td>\n",
       "      <td>0</td>\n",
       "      <td>0</td>\n",
       "      <td>0</td>\n",
       "      <td>0</td>\n",
       "      <td>...</td>\n",
       "      <td>0</td>\n",
       "      <td>0</td>\n",
       "      <td>0</td>\n",
       "      <td>0</td>\n",
       "      <td>0</td>\n",
       "      <td>0</td>\n",
       "      <td>0</td>\n",
       "      <td>0</td>\n",
       "      <td>0</td>\n",
       "      <td>0</td>\n",
       "    </tr>\n",
       "    <tr>\n",
       "      <th>-1vfRrlnNnNJ5boOVghMPA</th>\n",
       "      <td>0</td>\n",
       "      <td>0</td>\n",
       "      <td>0</td>\n",
       "      <td>0</td>\n",
       "      <td>0</td>\n",
       "      <td>0</td>\n",
       "      <td>0</td>\n",
       "      <td>0</td>\n",
       "      <td>0</td>\n",
       "      <td>0</td>\n",
       "      <td>...</td>\n",
       "      <td>0</td>\n",
       "      <td>0</td>\n",
       "      <td>0</td>\n",
       "      <td>0</td>\n",
       "      <td>0</td>\n",
       "      <td>0</td>\n",
       "      <td>0</td>\n",
       "      <td>0</td>\n",
       "      <td>0</td>\n",
       "      <td>0</td>\n",
       "    </tr>\n",
       "    <tr>\n",
       "      <th>-3zffZUHoY8bQjGfPSoBKQ</th>\n",
       "      <td>0</td>\n",
       "      <td>0</td>\n",
       "      <td>0</td>\n",
       "      <td>0</td>\n",
       "      <td>0</td>\n",
       "      <td>0</td>\n",
       "      <td>0</td>\n",
       "      <td>0</td>\n",
       "      <td>0</td>\n",
       "      <td>0</td>\n",
       "      <td>...</td>\n",
       "      <td>0</td>\n",
       "      <td>0</td>\n",
       "      <td>0</td>\n",
       "      <td>0</td>\n",
       "      <td>0</td>\n",
       "      <td>0</td>\n",
       "      <td>0</td>\n",
       "      <td>0</td>\n",
       "      <td>0</td>\n",
       "      <td>0</td>\n",
       "    </tr>\n",
       "    <tr>\n",
       "      <th>-8R_-EkGpUhBk55K9Dd4mg</th>\n",
       "      <td>0</td>\n",
       "      <td>0</td>\n",
       "      <td>0</td>\n",
       "      <td>0</td>\n",
       "      <td>0</td>\n",
       "      <td>0</td>\n",
       "      <td>0</td>\n",
       "      <td>0</td>\n",
       "      <td>0</td>\n",
       "      <td>0</td>\n",
       "      <td>...</td>\n",
       "      <td>0</td>\n",
       "      <td>0</td>\n",
       "      <td>0</td>\n",
       "      <td>0</td>\n",
       "      <td>0</td>\n",
       "      <td>0</td>\n",
       "      <td>0</td>\n",
       "      <td>0</td>\n",
       "      <td>0</td>\n",
       "      <td>0</td>\n",
       "    </tr>\n",
       "    <tr>\n",
       "      <th>-9YyInW1wapzdNZrhQJ9dg</th>\n",
       "      <td>0</td>\n",
       "      <td>0</td>\n",
       "      <td>0</td>\n",
       "      <td>0</td>\n",
       "      <td>0</td>\n",
       "      <td>0</td>\n",
       "      <td>0</td>\n",
       "      <td>0</td>\n",
       "      <td>0</td>\n",
       "      <td>0</td>\n",
       "      <td>...</td>\n",
       "      <td>0</td>\n",
       "      <td>0</td>\n",
       "      <td>0</td>\n",
       "      <td>0</td>\n",
       "      <td>0</td>\n",
       "      <td>0</td>\n",
       "      <td>0</td>\n",
       "      <td>0</td>\n",
       "      <td>0</td>\n",
       "      <td>0</td>\n",
       "    </tr>\n",
       "  </tbody>\n",
       "</table>\n",
       "<p>5 rows × 441 columns</p>\n",
       "</div>"
      ],
      "text/plain": [
       "                        acai  active  activities  acupuncture  adult  afghan  \\\n",
       "business_id                                                                    \n",
       "--9e1ONYQuAa-CB_Rrw7Tw     0       0           0            0      0       0   \n",
       "-1vfRrlnNnNJ5boOVghMPA     0       0           0            0      0       0   \n",
       "-3zffZUHoY8bQjGfPSoBKQ     0       0           0            0      0       0   \n",
       "-8R_-EkGpUhBk55K9Dd4mg     0       0           0            0      0       0   \n",
       "-9YyInW1wapzdNZrhQJ9dg     0       0           0            0      0       0   \n",
       "\n",
       "                        african  air  aircraft  airport    ...     \\\n",
       "business_id                                                ...      \n",
       "--9e1ONYQuAa-CB_Rrw7Tw        0    0         0        0    ...      \n",
       "-1vfRrlnNnNJ5boOVghMPA        0    0         0        0    ...      \n",
       "-3zffZUHoY8bQjGfPSoBKQ        0    0         0        0    ...      \n",
       "-8R_-EkGpUhBk55K9Dd4mg        0    0         0        0    ...      \n",
       "-9YyInW1wapzdNZrhQJ9dg        0    0         0        0    ...      \n",
       "\n",
       "                        wholesalers  windshield  wine  wineries  wings  women  \\\n",
       "business_id                                                                     \n",
       "--9e1ONYQuAa-CB_Rrw7Tw            0           0     0         0      0      0   \n",
       "-1vfRrlnNnNJ5boOVghMPA            0           0     0         0      0      0   \n",
       "-3zffZUHoY8bQjGfPSoBKQ            0           0     0         0      0      0   \n",
       "-8R_-EkGpUhBk55K9Dd4mg            0           0     0         0      0      0   \n",
       "-9YyInW1wapzdNZrhQJ9dg            0           0     0         0      0      0   \n",
       "\n",
       "                        wraps  yoga  yogurt  yourself  \n",
       "business_id                                            \n",
       "--9e1ONYQuAa-CB_Rrw7Tw      0     0       0         0  \n",
       "-1vfRrlnNnNJ5boOVghMPA      0     0       0         0  \n",
       "-3zffZUHoY8bQjGfPSoBKQ      0     0       0         0  \n",
       "-8R_-EkGpUhBk55K9Dd4mg      0     0       0         0  \n",
       "-9YyInW1wapzdNZrhQJ9dg      0     0       0         0  \n",
       "\n",
       "[5 rows x 441 columns]"
      ]
     },
     "execution_count": 66,
     "metadata": {},
     "output_type": "execute_result"
    }
   ],
   "source": [
    "df_categories=pd.DataFrame(categories_mat,columns=categories,index=categories_series.index)\n",
    "df_categories.head()"
   ]
  },
  {
   "cell_type": "markdown",
   "metadata": {},
   "source": [
    "## 3. Matrix Factorization recommender\n",
    "\n",
    "Take a look at Graphlab Create examples"
   ]
  },
  {
   "cell_type": "markdown",
   "metadata": {},
   "source": [
    "## 4. Other recommenders (optional)\n",
    "\n",
    "What are other ways you can build a better recommender?\n",
    "\n",
    "* Other features (have you noticed there are other features in the Yelp dataset, e.g. tips, etc.?)\n",
    "* Popularity-based\n",
    "* Content-based\n",
    "* Hybrid"
   ]
  },
  {
   "cell_type": "code",
   "execution_count": null,
   "metadata": {
    "collapsed": true
   },
   "outputs": [],
   "source": []
  }
 ],
 "metadata": {
  "anaconda-cloud": {},
  "kernelspec": {
   "display_name": "Python 2",
   "language": "python",
   "name": "python2"
  },
  "language_info": {
   "codemirror_mode": {
    "name": "ipython",
    "version": 2
   },
   "file_extension": ".py",
   "mimetype": "text/x-python",
   "name": "python",
   "nbconvert_exporter": "python",
   "pygments_lexer": "ipython2",
   "version": "2.7.13"
  }
 },
 "nbformat": 4,
 "nbformat_minor": 1
}
