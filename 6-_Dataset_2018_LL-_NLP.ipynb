{
 "cells": [
  {
   "cell_type": "markdown",
   "metadata": {},
   "source": [
    "# Yelp Data Challenge - NLP\n",
    "\n",
    "BitTiger DS501\n",
    "\n",
    "Jun 2017"
   ]
  },
  {
   "cell_type": "code",
   "execution_count": 1,
   "metadata": {
    "collapsed": true
   },
   "outputs": [],
   "source": [
    "import pandas as pd"
   ]
  },
  {
   "cell_type": "code",
   "execution_count": 2,
   "metadata": {
    "collapsed": true
   },
   "outputs": [],
   "source": [
    "df = pd.read_csv('last_2_years_restaurant_reviews_from_else.csv')"
   ]
  },
  {
   "cell_type": "code",
   "execution_count": 4,
   "metadata": {},
   "outputs": [
    {
     "data": {
      "text/plain": [
       "(437640, 12)"
      ]
     },
     "execution_count": 4,
     "metadata": {},
     "output_type": "execute_result"
    }
   ],
   "source": [
    "df.shape"
   ]
  },
  {
   "cell_type": "code",
   "execution_count": 3,
   "metadata": {},
   "outputs": [
    {
     "data": {
      "text/html": [
       "<div>\n",
       "<style>\n",
       "    .dataframe thead tr:only-child th {\n",
       "        text-align: right;\n",
       "    }\n",
       "\n",
       "    .dataframe thead th {\n",
       "        text-align: left;\n",
       "    }\n",
       "\n",
       "    .dataframe tbody tr th {\n",
       "        vertical-align: top;\n",
       "    }\n",
       "</style>\n",
       "<table border=\"1\" class=\"dataframe\">\n",
       "  <thead>\n",
       "    <tr style=\"text-align: right;\">\n",
       "      <th></th>\n",
       "      <th>business_id</th>\n",
       "      <th>name</th>\n",
       "      <th>categories</th>\n",
       "      <th>avg_stars</th>\n",
       "      <th>cool</th>\n",
       "      <th>date</th>\n",
       "      <th>funny</th>\n",
       "      <th>review_id</th>\n",
       "      <th>stars</th>\n",
       "      <th>text</th>\n",
       "      <th>useful</th>\n",
       "      <th>user_id</th>\n",
       "    </tr>\n",
       "  </thead>\n",
       "  <tbody>\n",
       "    <tr>\n",
       "      <th>0</th>\n",
       "      <td>--9e1ONYQuAa-CB_Rrw7Tw</td>\n",
       "      <td>Delmonico Steakhouse</td>\n",
       "      <td>['Steakhouses', 'Cajun/Creole', 'Restaurants']</td>\n",
       "      <td>4.0</td>\n",
       "      <td>1</td>\n",
       "      <td>2016-05-17</td>\n",
       "      <td>0</td>\n",
       "      <td>0Qc1THNHSapDL7cv-ZzW5g</td>\n",
       "      <td>5</td>\n",
       "      <td>What can I say.. Wowzers! Probably one of the ...</td>\n",
       "      <td>0</td>\n",
       "      <td>4LxKRRIikhr65GfPDW626w</td>\n",
       "    </tr>\n",
       "    <tr>\n",
       "      <th>1</th>\n",
       "      <td>--9e1ONYQuAa-CB_Rrw7Tw</td>\n",
       "      <td>Delmonico Steakhouse</td>\n",
       "      <td>['Steakhouses', 'Cajun/Creole', 'Restaurants']</td>\n",
       "      <td>4.0</td>\n",
       "      <td>0</td>\n",
       "      <td>2017-01-20</td>\n",
       "      <td>0</td>\n",
       "      <td>L8lo5SKXfZRlbn1bpPiC9w</td>\n",
       "      <td>5</td>\n",
       "      <td>Went here for guys weekend. Unbelievable. Ravi...</td>\n",
       "      <td>0</td>\n",
       "      <td>nT8zgjoc-PbdBoQsFEXFLw</td>\n",
       "    </tr>\n",
       "    <tr>\n",
       "      <th>2</th>\n",
       "      <td>--9e1ONYQuAa-CB_Rrw7Tw</td>\n",
       "      <td>Delmonico Steakhouse</td>\n",
       "      <td>['Steakhouses', 'Cajun/Creole', 'Restaurants']</td>\n",
       "      <td>4.0</td>\n",
       "      <td>52</td>\n",
       "      <td>2016-09-25</td>\n",
       "      <td>30</td>\n",
       "      <td>6eUT3IwwWPP3CZkAhxqOIw</td>\n",
       "      <td>5</td>\n",
       "      <td>One word my friends: tableside!!! Yes, tablesi...</td>\n",
       "      <td>56</td>\n",
       "      <td>7RlyCglsIzhBn081inwvcg</td>\n",
       "    </tr>\n",
       "    <tr>\n",
       "      <th>3</th>\n",
       "      <td>--9e1ONYQuAa-CB_Rrw7Tw</td>\n",
       "      <td>Delmonico Steakhouse</td>\n",
       "      <td>['Steakhouses', 'Cajun/Creole', 'Restaurants']</td>\n",
       "      <td>4.0</td>\n",
       "      <td>1</td>\n",
       "      <td>2017-02-12</td>\n",
       "      <td>0</td>\n",
       "      <td>3cnTdE45VrsS0o4cVhfGog</td>\n",
       "      <td>3</td>\n",
       "      <td>Located inside my favorite hotel Venetian, Del...</td>\n",
       "      <td>1</td>\n",
       "      <td>rOIrilMC7VFwFVBeQNiKMw</td>\n",
       "    </tr>\n",
       "    <tr>\n",
       "      <th>4</th>\n",
       "      <td>--9e1ONYQuAa-CB_Rrw7Tw</td>\n",
       "      <td>Delmonico Steakhouse</td>\n",
       "      <td>['Steakhouses', 'Cajun/Creole', 'Restaurants']</td>\n",
       "      <td>4.0</td>\n",
       "      <td>0</td>\n",
       "      <td>2016-10-30</td>\n",
       "      <td>0</td>\n",
       "      <td>tYrSbjX3QgZGBZuQ3n8g6w</td>\n",
       "      <td>5</td>\n",
       "      <td>After the most incredible service, delicious m...</td>\n",
       "      <td>2</td>\n",
       "      <td>PiWlV_UC_-SXqyxQM9fAtw</td>\n",
       "    </tr>\n",
       "  </tbody>\n",
       "</table>\n",
       "</div>"
      ],
      "text/plain": [
       "              business_id                  name  \\\n",
       "0  --9e1ONYQuAa-CB_Rrw7Tw  Delmonico Steakhouse   \n",
       "1  --9e1ONYQuAa-CB_Rrw7Tw  Delmonico Steakhouse   \n",
       "2  --9e1ONYQuAa-CB_Rrw7Tw  Delmonico Steakhouse   \n",
       "3  --9e1ONYQuAa-CB_Rrw7Tw  Delmonico Steakhouse   \n",
       "4  --9e1ONYQuAa-CB_Rrw7Tw  Delmonico Steakhouse   \n",
       "\n",
       "                                       categories  avg_stars  cool  \\\n",
       "0  ['Steakhouses', 'Cajun/Creole', 'Restaurants']        4.0     1   \n",
       "1  ['Steakhouses', 'Cajun/Creole', 'Restaurants']        4.0     0   \n",
       "2  ['Steakhouses', 'Cajun/Creole', 'Restaurants']        4.0    52   \n",
       "3  ['Steakhouses', 'Cajun/Creole', 'Restaurants']        4.0     1   \n",
       "4  ['Steakhouses', 'Cajun/Creole', 'Restaurants']        4.0     0   \n",
       "\n",
       "         date  funny               review_id  stars  \\\n",
       "0  2016-05-17      0  0Qc1THNHSapDL7cv-ZzW5g      5   \n",
       "1  2017-01-20      0  L8lo5SKXfZRlbn1bpPiC9w      5   \n",
       "2  2016-09-25     30  6eUT3IwwWPP3CZkAhxqOIw      5   \n",
       "3  2017-02-12      0  3cnTdE45VrsS0o4cVhfGog      3   \n",
       "4  2016-10-30      0  tYrSbjX3QgZGBZuQ3n8g6w      5   \n",
       "\n",
       "                                                text  useful  \\\n",
       "0  What can I say.. Wowzers! Probably one of the ...       0   \n",
       "1  Went here for guys weekend. Unbelievable. Ravi...       0   \n",
       "2  One word my friends: tableside!!! Yes, tablesi...      56   \n",
       "3  Located inside my favorite hotel Venetian, Del...       1   \n",
       "4  After the most incredible service, delicious m...       2   \n",
       "\n",
       "                  user_id  \n",
       "0  4LxKRRIikhr65GfPDW626w  \n",
       "1  nT8zgjoc-PbdBoQsFEXFLw  \n",
       "2  7RlyCglsIzhBn081inwvcg  \n",
       "3  rOIrilMC7VFwFVBeQNiKMw  \n",
       "4  PiWlV_UC_-SXqyxQM9fAtw  "
      ]
     },
     "execution_count": 3,
     "metadata": {},
     "output_type": "execute_result"
    }
   ],
   "source": [
    "df.head()"
   ]
  },
  {
   "cell_type": "code",
   "execution_count": 4,
   "metadata": {
    "collapsed": true
   },
   "outputs": [],
   "source": [
    "import matplotlib.pyplot as plt\n",
    "% matplotlib inline"
   ]
  },
  {
   "cell_type": "code",
   "execution_count": 6,
   "metadata": {},
   "outputs": [
    {
     "data": {
      "text/plain": [
       "<matplotlib.axes._subplots.AxesSubplot at 0x16835710>"
      ]
     },
     "execution_count": 6,
     "metadata": {},
     "output_type": "execute_result"
    },
    {
     "data": {
      "image/png": "[encoded data removed]",
      "text/plain": [
       "<matplotlib.figure.Figure at 0x19d64ef0>"
      ]
     },
     "metadata": {},
     "output_type": "display_data"
    }
   ],
   "source": [
    "df['business_id'].value_counts().plot.hist(bins=100)"
   ]
  },
  {
   "cell_type": "markdown",
   "metadata": {},
   "source": [
    "### Define your feature variables, here is the text of the review"
   ]
  },
  {
   "cell_type": "code",
   "execution_count": 7,
   "metadata": {},
   "outputs": [
    {
     "data": {
      "text/plain": [
       "numpy.ndarray"
      ]
     },
     "execution_count": 7,
     "metadata": {},
     "output_type": "execute_result"
    }
   ],
   "source": [
    "# Take the values of the column that contains review text data, save to a variable named \"documents\"\n",
    "documents=df['text'].values\n",
    "type(documents)"
   ]
  },
  {
   "cell_type": "code",
   "execution_count": 34,
   "metadata": {},
   "outputs": [
    {
     "data": {
      "text/plain": [
       "(dtype('O'), (437640L,))"
      ]
     },
     "execution_count": 34,
     "metadata": {},
     "output_type": "execute_result"
    }
   ],
   "source": [
    "# inspect your documents, e.g. check the size, take a peek at elements of the numpy array\n",
    "documents.dtype,documents.shape\n"
   ]
  },
  {
   "cell_type": "code",
   "execution_count": 44,
   "metadata": {},
   "outputs": [
    {
     "data": {
      "text/plain": [
       "\"One word my friends: tableside!!! Yes, tableside carving of your steak chateaubriand for two/Creekstone farm steaks never disappoints. One of the best dinners I had this year for sure.  I would recommend Delmonico restaurant in Vegas who ever goes to Vegas or lives there.  \\n\\nDelmonico is settled within the Venetian hotel and with a 5 pm dinner reservation , they were pretty busy by 6 pm. I'm assuming people want to eat good streak before different shows and other entertainment in Vegas. Service was impeccable with the server and assistant both working harmoniously together.  The restaurant is not overly pretentious or glamorous looking.  I liked the overall atmosphere with the white walls/crisp white tablecloths on the tables with dim lighting.  \\n\\nThe service starts with the complimentary brioche bread and butter which were decadently heavenly.  Then they entice and educate you about their wine list etc but I don't drink so I was ready to order some steak, steak, steak! I did the chateaubriand steak for two carved for us.  It was a 18oz steak but really my 9 oz share was big but so yummy so yes I was able to finish my portion.  The garlic smashed potatoes were delicious.  The creamed spinach was just ok, a bit of a let down.  \\nOther than that I enjoyed every minute of my dinner before my red eye flight back to Florida.\""
      ]
     },
     "execution_count": 44,
     "metadata": {},
     "output_type": "execute_result"
    }
   ],
   "source": [
    "documents[2]"
   ]
  },
  {
   "cell_type": "markdown",
   "metadata": {},
   "source": [
    "### Define your target variable (any categorical variable that may be meaningful)"
   ]
  },
  {
   "cell_type": "markdown",
   "metadata": {},
   "source": [
    "#### For example, I am interested in perfect (5 stars) and imperfect (1-4 stars) rating"
   ]
  },
  {
   "cell_type": "code",
   "execution_count": 8,
   "metadata": {
    "collapsed": true
   },
   "outputs": [],
   "source": [
    "# Make a column and take the values, save to a variable named \"target\"\n",
    "df['target']=(df['avg_stars']>4)\n",
    "target=df['target'].values"
   ]
  },
  {
   "cell_type": "code",
   "execution_count": 9,
   "metadata": {},
   "outputs": [
    {
     "data": {
      "text/plain": [
       "(numpy.ndarray, (437640L,))"
      ]
     },
     "execution_count": 9,
     "metadata": {},
     "output_type": "execute_result"
    }
   ],
   "source": [
    "type(target), target.shape"
   ]
  },
  {
   "cell_type": "markdown",
   "metadata": {},
   "source": [
    "#### You may want to look at the statistic of the target variable"
   ]
  },
  {
   "cell_type": "code",
   "execution_count": 9,
   "metadata": {},
   "outputs": [
    {
     "data": {
      "text/plain": [
       "(0.21969883922858971, 0.41404258146982909)"
      ]
     },
     "execution_count": 9,
     "metadata": {},
     "output_type": "execute_result"
    }
   ],
   "source": [
    "# To be implemented\n",
    "target.mean(), target.std()"
   ]
  },
  {
   "cell_type": "markdown",
   "metadata": {},
   "source": [
    "## Let's create training dataset and test dataset"
   ]
  },
  {
   "cell_type": "code",
   "execution_count": 10,
   "metadata": {},
   "outputs": [
    {
     "name": "stderr",
     "output_type": "stream",
     "text": [
      "C:\\Users\\Lei Lei\\Anaconda2\\lib\\site-packages\\sklearn\\cross_validation.py:44: DeprecationWarning: This module was deprecated in version 0.18 in favor of the model_selection module into which all the refactored classes and functions are moved. Also note that the interface of the new CV iterators are different from that of this module. This module will be removed in 0.20.\n",
      "  \"This module will be removed in 0.20.\", DeprecationWarning)\n"
     ]
    }
   ],
   "source": [
    "from sklearn.cross_validation import train_test_split"
   ]
  },
  {
   "cell_type": "code",
   "execution_count": null,
   "metadata": {
    "collapsed": true
   },
   "outputs": [],
   "source": [
    "# Documents is your X, target is your y\n",
    "# Now split the data to training set and test set"
   ]
  },
  {
   "cell_type": "code",
   "execution_count": 11,
   "metadata": {
    "collapsed": true
   },
   "outputs": [],
   "source": [
    "# Split to documents_train, documents_test, target_train, target_test\n",
    "document_train, document_test, target_train, target_test=train_test_split(\n",
    "documents,\n",
    "target,\n",
    "test_size=0.6,\n",
    "    random_state=42\n",
    "\n",
    ")"
   ]
  },
  {
   "cell_type": "code",
   "execution_count": 12,
   "metadata": {},
   "outputs": [
    {
     "data": {
      "text/plain": [
       "(175056L,)"
      ]
     },
     "execution_count": 12,
     "metadata": {},
     "output_type": "execute_result"
    }
   ],
   "source": [
    "document_train.shape"
   ]
  },
  {
   "cell_type": "markdown",
   "metadata": {},
   "source": [
    "## Let's get NLP representation of the documents"
   ]
  },
  {
   "cell_type": "code",
   "execution_count": 12,
   "metadata": {
    "collapsed": true
   },
   "outputs": [],
   "source": [
    "from sklearn.feature_extraction.text import TfidfVectorizer"
   ]
  },
  {
   "cell_type": "code",
   "execution_count": 25,
   "metadata": {
    "collapsed": true
   },
   "outputs": [],
   "source": [
    "# Create TfidfVectorizer, and name it vectorizer\n",
    "vectorizer=TfidfVectorizer(stop_words='english', max_features=2000)"
   ]
  },
  {
   "cell_type": "code",
   "execution_count": 26,
   "metadata": {
    "collapsed": true
   },
   "outputs": [],
   "source": [
    "# Train the model with your training data\n",
    "x_train=vectorizer.fit_transform(document_train).toarray()\n"
   ]
  },
  {
   "cell_type": "code",
   "execution_count": 16,
   "metadata": {},
   "outputs": [
    {
     "data": {
      "text/plain": [
       "[u'00',\n",
       " u'10',\n",
       " u'100',\n",
       " u'11',\n",
       " u'12',\n",
       " u'13',\n",
       " u'14',\n",
       " u'15',\n",
       " u'16',\n",
       " u'17',\n",
       " u'18',\n",
       " u'19',\n",
       " u'1st',\n",
       " u'20',\n",
       " u'2016',\n",
       " u'21',\n",
       " u'24',\n",
       " u'25',\n",
       " u'2nd',\n",
       " u'30',\n",
       " u'30pm',\n",
       " u'35',\n",
       " u'3rd',\n",
       " u'40',\n",
       " u'45',\n",
       " u'50',\n",
       " u'60',\n",
       " u'75',\n",
       " u'80',\n",
       " u'90',\n",
       " u'95',\n",
       " u'99',\n",
       " u'able',\n",
       " u'absolute',\n",
       " u'absolutely',\n",
       " u'accommodate',\n",
       " u'accommodating',\n",
       " u'actual',\n",
       " u'actually',\n",
       " u'add',\n",
       " u'added',\n",
       " u'adding',\n",
       " u'addition',\n",
       " u'additional',\n",
       " u'admit',\n",
       " u'adults',\n",
       " u'advance',\n",
       " u'affordable',\n",
       " u'afternoon',\n",
       " u'aged',\n",
       " u'ago',\n",
       " u'agree',\n",
       " u'agreed',\n",
       " u'ahead',\n",
       " u'ahi',\n",
       " u'aioli',\n",
       " u'air',\n",
       " u'airport',\n",
       " u'al',\n",
       " u'alcohol',\n",
       " u'alfredo',\n",
       " u'allow',\n",
       " u'allowed',\n",
       " u'almond',\n",
       " u'alright',\n",
       " u'amazing',\n",
       " u'amazingly',\n",
       " u'ambiance',\n",
       " u'ambience',\n",
       " u'american',\n",
       " u'anniversary',\n",
       " u'annoyed',\n",
       " u'annoying',\n",
       " u'answer',\n",
       " u'answered',\n",
       " u'anymore',\n",
       " u'anytime',\n",
       " u'anyways',\n",
       " u'apart',\n",
       " u'apologize',\n",
       " u'apologized',\n",
       " u'apology',\n",
       " u'app',\n",
       " u'apparently',\n",
       " u'appeared',\n",
       " u'appetite',\n",
       " u'appetizer',\n",
       " u'appetizers',\n",
       " u'apple',\n",
       " u'appreciate',\n",
       " u'appreciated',\n",
       " u'apps',\n",
       " u'area',\n",
       " u'aren',\n",
       " u'aria',\n",
       " u'arrive',\n",
       " u'arrived',\n",
       " u'art',\n",
       " u'asada',\n",
       " u'asian',\n",
       " u'aside',\n",
       " u'ask',\n",
       " u'asked',\n",
       " u'asking',\n",
       " u'asparagus',\n",
       " u'ass',\n",
       " u'ate',\n",
       " u'atmosphere',\n",
       " u'attention',\n",
       " u'attentive',\n",
       " u'attitude',\n",
       " u'authentic',\n",
       " u'available',\n",
       " u'average',\n",
       " u'avocado',\n",
       " u'avoid',\n",
       " u'away',\n",
       " u'awesome',\n",
       " u'awful',\n",
       " u'awhile',\n",
       " u'awkward',\n",
       " u'ayce',\n",
       " u'baby',\n",
       " u'bacchanal',\n",
       " u'bacon',\n",
       " u'bad',\n",
       " u'bag',\n",
       " u'bagel',\n",
       " u'baked',\n",
       " u'bakery',\n",
       " u'balance',\n",
       " u'balanced',\n",
       " u'ball',\n",
       " u'balls',\n",
       " u'banana',\n",
       " u'band',\n",
       " u'bar',\n",
       " u'barely',\n",
       " u'bars',\n",
       " u'bartender',\n",
       " u'bartenders',\n",
       " u'base',\n",
       " u'based',\n",
       " u'basic',\n",
       " u'basically',\n",
       " u'basil',\n",
       " u'basket',\n",
       " u'bass',\n",
       " u'bathroom',\n",
       " u'bathrooms',\n",
       " u'batter',\n",
       " u'bay',\n",
       " u'bbq',\n",
       " u'bc',\n",
       " u'bean',\n",
       " u'beans',\n",
       " u'beat',\n",
       " u'beautiful',\n",
       " u'beautifully',\n",
       " u'bed',\n",
       " u'beef',\n",
       " u'beer',\n",
       " u'beers',\n",
       " u'began',\n",
       " u'begin',\n",
       " u'beginning',\n",
       " u'believe',\n",
       " u'bell',\n",
       " u'bellagio',\n",
       " u'belly',\n",
       " u'benedict',\n",
       " u'best',\n",
       " u'better',\n",
       " u'beverage',\n",
       " u'beverages',\n",
       " u'bf',\n",
       " u'big',\n",
       " u'bigger',\n",
       " u'biggest',\n",
       " u'birthday',\n",
       " u'biscuit',\n",
       " u'biscuits',\n",
       " u'bisque',\n",
       " u'bit',\n",
       " u'bite',\n",
       " u'bites',\n",
       " u'black',\n",
       " u'bland',\n",
       " u'bloody',\n",
       " u'blown',\n",
       " u'blue',\n",
       " u'blueberry',\n",
       " u'board',\n",
       " u'boba',\n",
       " u'bomb',\n",
       " u'bone',\n",
       " u'bonus',\n",
       " u'book',\n",
       " u'booked',\n",
       " u'booth',\n",
       " u'booths',\n",
       " u'boring',\n",
       " u'bother',\n",
       " u'bottle',\n",
       " u'bottles',\n",
       " u'bottomless',\n",
       " u'bought',\n",
       " u'bowl',\n",
       " u'bowls',\n",
       " u'box',\n",
       " u'boy',\n",
       " u'boyfriend',\n",
       " u'bread',\n",
       " u'break',\n",
       " u'breakfast',\n",
       " u'breast',\n",
       " u'bright',\n",
       " u'bring',\n",
       " u'bringing',\n",
       " u'brisket',\n",
       " u'broccoli',\n",
       " u'broth',\n",
       " u'brother',\n",
       " u'brought',\n",
       " u'brown',\n",
       " u'browns',\n",
       " u'brunch',\n",
       " u'btw',\n",
       " u'bucks',\n",
       " u'buds',\n",
       " u'buffalo',\n",
       " u'buffet',\n",
       " u'buffets',\n",
       " u'build',\n",
       " u'building',\n",
       " u'bulgogi',\n",
       " u'bun',\n",
       " u'bunch',\n",
       " u'buns',\n",
       " u'burger',\n",
       " u'burgers',\n",
       " u'burnt',\n",
       " u'burrito',\n",
       " u'burritos',\n",
       " u'business',\n",
       " u'busy',\n",
       " u'butter',\n",
       " u'buttery',\n",
       " u'buy',\n",
       " u'cabbage',\n",
       " u'caesar',\n",
       " u'caesars',\n",
       " u'cafe',\n",
       " u'cajun',\n",
       " u'cake',\n",
       " u'cakes',\n",
       " u'calamari',\n",
       " u'california',\n",
       " u'called',\n",
       " u'calling',\n",
       " u'came',\n",
       " u'candy',\n",
       " u'car',\n",
       " u'caramel',\n",
       " u'card',\n",
       " u'care',\n",
       " u'carne',\n",
       " u'carnitas',\n",
       " u'carpaccio',\n",
       " u'carrot',\n",
       " u'carrots',\n",
       " u'carry',\n",
       " u'cart',\n",
       " u'carte',\n",
       " u'case',\n",
       " u'cash',\n",
       " u'cashier',\n",
       " u'casino',\n",
       " u'casual',\n",
       " u'catch',\n",
       " u'catfish',\n",
       " u'caught',\n",
       " u'cauliflower',\n",
       " u'cause',\n",
       " u'celebrate',\n",
       " u'center',\n",
       " u'certain',\n",
       " u'certainly',\n",
       " u'ceviche',\n",
       " u'chain',\n",
       " u'chairs',\n",
       " u'champagne',\n",
       " u'chance',\n",
       " u'change',\n",
       " u'changed',\n",
       " u'charge',\n",
       " u'charged',\n",
       " u'cheap',\n",
       " u'cheaper',\n",
       " u'check',\n",
       " u'checked',\n",
       " u'checking',\n",
       " u'cheddar',\n",
       " u'cheese',\n",
       " u'cheeseburger',\n",
       " u'cheesecake',\n",
       " u'cheesy',\n",
       " u'chef',\n",
       " u'chefs',\n",
       " u'cherry',\n",
       " u'chewy',\n",
       " u'chicago',\n",
       " u'chicken',\n",
       " u'children',\n",
       " u'chile',\n",
       " u'chili',\n",
       " u'chill',\n",
       " u'china',\n",
       " u'chinatown',\n",
       " u'chinese',\n",
       " u'chip',\n",
       " u'chipotle',\n",
       " u'chips',\n",
       " u'chocolate',\n",
       " u'choice',\n",
       " u'choices',\n",
       " u'choose',\n",
       " u'chop',\n",
       " u'chopped',\n",
       " u'chops',\n",
       " u'chorizo',\n",
       " u'chose',\n",
       " u'chow',\n",
       " u'chowder',\n",
       " u'christmas',\n",
       " u'chunks',\n",
       " u'cilantro',\n",
       " u'cinnamon',\n",
       " u'city',\n",
       " u'clam',\n",
       " u'clams',\n",
       " u'class',\n",
       " u'classic',\n",
       " u'classy',\n",
       " u'clean',\n",
       " u'cleaned',\n",
       " u'cleaning',\n",
       " u'clear',\n",
       " u'clearly',\n",
       " u'close',\n",
       " u'closed',\n",
       " u'closer',\n",
       " u'closing',\n",
       " u'club',\n",
       " u'coast',\n",
       " u'cocktail',\n",
       " u'cocktails',\n",
       " u'coconut',\n",
       " u'coffee',\n",
       " u'coke',\n",
       " u'cold',\n",
       " u'color',\n",
       " u'com',\n",
       " u'combination',\n",
       " u'combo',\n",
       " u'come',\n",
       " u'comes',\n",
       " u'comfort',\n",
       " u'comfortable',\n",
       " u'coming',\n",
       " u'comment',\n",
       " u'company',\n",
       " u'compare',\n",
       " u'compared',\n",
       " u'complain',\n",
       " u'complaint',\n",
       " u'complaints',\n",
       " u'complete',\n",
       " u'completely',\n",
       " u'complimentary',\n",
       " u'concept',\n",
       " u'confused',\n",
       " u'cons',\n",
       " u'consider',\n",
       " u'considering',\n",
       " u'consistency',\n",
       " u'consistent',\n",
       " u'consistently',\n",
       " u'constantly',\n",
       " u'contact',\n",
       " u'container',\n",
       " u'continue',\n",
       " u'convenient',\n",
       " u'conversation',\n",
       " u'cook',\n",
       " u'cooked',\n",
       " u'cookie',\n",
       " u'cookies',\n",
       " u'cooking',\n",
       " u'cooks',\n",
       " u'cool',\n",
       " u'corn',\n",
       " u'corned',\n",
       " u'corner',\n",
       " u'correct',\n",
       " u'cosmopolitan',\n",
       " u'cost',\n",
       " u'couldn',\n",
       " u'counter',\n",
       " u'country',\n",
       " u'couple',\n",
       " u'coupon',\n",
       " u'course',\n",
       " u'courses',\n",
       " u'court',\n",
       " u'courteous',\n",
       " u'cover',\n",
       " u'covered',\n",
       " u'cozy',\n",
       " u'crab',\n",
       " u'craft',\n",
       " u'crap',\n",
       " u'crave',\n",
       " u'craving',\n",
       " u'crawfish',\n",
       " u'crazy',\n",
       " u'cream',\n",
       " u'creamy',\n",
       " u'creative',\n",
       " u'credit',\n",
       " u'creme',\n",
       " u'crepe',\n",
       " u'crepes',\n",
       " u'crisp',\n",
       " u'crispy',\n",
       " u'croissant',\n",
       " u'crowd',\n",
       " u'crowded',\n",
       " u'crunch',\n",
       " u'crunchy',\n",
       " u'crust',\n",
       " u'cucumber',\n",
       " u'cuisine',\n",
       " u'cup',\n",
       " u'cups',\n",
       " u'curry',\n",
       " u'custard',\n",
       " u'customer',\n",
       " u'customers',\n",
       " u'cut',\n",
       " u'cute',\n",
       " u'cuts',\n",
       " u'dad',\n",
       " u'daily',\n",
       " u'damn',\n",
       " u'dance',\n",
       " u'dark',\n",
       " u'date',\n",
       " u'daughter',\n",
       " u'day',\n",
       " u'days',\n",
       " u'dead',\n",
       " u'deal',\n",
       " u'deals',\n",
       " u'decent',\n",
       " u'decide',\n",
       " u'decided',\n",
       " u'decision',\n",
       " u'decor',\n",
       " u'decorated',\n",
       " u'deep',\n",
       " u'def',\n",
       " u'definitely',\n",
       " u'deli',\n",
       " u'delicious',\n",
       " u'delightful',\n",
       " u'delish',\n",
       " u'deliver',\n",
       " u'delivered',\n",
       " u'delivery',\n",
       " u'depending',\n",
       " u'desert',\n",
       " u'deserves',\n",
       " u'design',\n",
       " u'desk',\n",
       " u'despite',\n",
       " u'dessert',\n",
       " u'desserts',\n",
       " u'did',\n",
       " u'didn',\n",
       " u'didnt',\n",
       " u'die',\n",
       " u'diet',\n",
       " u'difference',\n",
       " u'different',\n",
       " u'difficult',\n",
       " u'dim',\n",
       " u'dine',\n",
       " u'dined',\n",
       " u'diner',\n",
       " u'diners',\n",
       " u'dining',\n",
       " u'dinner',\n",
       " u'dip',\n",
       " u'dipping',\n",
       " u'dirty',\n",
       " u'disappoint',\n",
       " u'disappointed',\n",
       " u'disappointing',\n",
       " u'disappointment',\n",
       " u'discount',\n",
       " u'discovered',\n",
       " u'disgusting',\n",
       " u'dish',\n",
       " u'dishes',\n",
       " u'dj',\n",
       " u'does',\n",
       " u'doesn',\n",
       " u'dog',\n",
       " u'dogs',\n",
       " u'doing',\n",
       " u'dollar',\n",
       " u'dollars',\n",
       " u'don',\n",
       " u'dont',\n",
       " u'donut',\n",
       " u'donuts',\n",
       " u'door',\n",
       " u'doors',\n",
       " u'double',\n",
       " u'doubt',\n",
       " u'dough',\n",
       " u'downside',\n",
       " u'downtown',\n",
       " u'dozen',\n",
       " u'dressed',\n",
       " u'dressing',\n",
       " u'dried',\n",
       " u'drink',\n",
       " u'drinking',\n",
       " u'drinks',\n",
       " u'drive',\n",
       " u'driver',\n",
       " u'driving',\n",
       " u'drop',\n",
       " u'dropped',\n",
       " u'drove',\n",
       " u'drunk',\n",
       " u'drunken',\n",
       " u'dry',\n",
       " u'duck',\n",
       " u'dumplings',\n",
       " u'earlier',\n",
       " u'early',\n",
       " u'easily',\n",
       " u'east',\n",
       " u'easy',\n",
       " u'eat',\n",
       " u'eaten',\n",
       " u'eater',\n",
       " u'eating',\n",
       " u'eats',\n",
       " u'edamame',\n",
       " u'edible',\n",
       " u'efficient',\n",
       " u'effort',\n",
       " u'egg',\n",
       " u'eggplant',\n",
       " u'eggs',\n",
       " u'el',\n",
       " u'employee',\n",
       " u'employees',\n",
       " u'enchiladas',\n",
       " u'end',\n",
       " u'ended',\n",
       " u'english',\n",
       " u'enjoy',\n",
       " u'enjoyable',\n",
       " u'enjoyed',\n",
       " u'enjoying',\n",
       " u'enter',\n",
       " u'entertainment',\n",
       " u'entire',\n",
       " u'entrance',\n",
       " u'entree',\n",
       " u'entrees',\n",
       " u'environment',\n",
       " u'equally',\n",
       " u'especially',\n",
       " u'establishment',\n",
       " u'evening',\n",
       " u'event',\n",
       " u'eventually',\n",
       " u'everyday',\n",
       " u'everytime',\n",
       " u'exactly',\n",
       " u'example',\n",
       " u'excellent',\n",
       " u'exceptional',\n",
       " u'excited',\n",
       " u'excuse',\n",
       " u'expect',\n",
       " u'expectations',\n",
       " u'expected',\n",
       " u'expecting',\n",
       " u'expensive',\n",
       " u'experience',\n",
       " u'experienced',\n",
       " u'experiences',\n",
       " u'explain',\n",
       " u'explained',\n",
       " u'express',\n",
       " u'extensive',\n",
       " u'extra',\n",
       " u'extremely',\n",
       " u'eye',\n",
       " u'eyes',\n",
       " u'fabulous',\n",
       " u'face',\n",
       " u'fact',\n",
       " u'fair',\n",
       " u'fairly',\n",
       " u'fajitas',\n",
       " u'fall',\n",
       " u'family',\n",
       " u'famous',\n",
       " u'fan',\n",
       " u'fancy',\n",
       " u'fans',\n",
       " u'fantastic',\n",
       " u'far',\n",
       " u'fare',\n",
       " u'farm',\n",
       " u'fast',\n",
       " u'fat',\n",
       " u'fatty',\n",
       " u'fault',\n",
       " u'favor',\n",
       " u'favorite',\n",
       " u'favorites',\n",
       " u'fee',\n",
       " u'feed',\n",
       " u'feel',\n",
       " u'feeling',\n",
       " u'feels',\n",
       " u'fell',\n",
       " u'felt',\n",
       " u'fianc\\xe9',\n",
       " u'figure',\n",
       " u'figured',\n",
       " u'filet',\n",
       " u'filipino',\n",
       " u'filled',\n",
       " u'filling',\n",
       " u'finally',\n",
       " u'finding',\n",
       " u'fine',\n",
       " u'fingers',\n",
       " u'finish',\n",
       " u'finished',\n",
       " u'fish',\n",
       " u'fit',\n",
       " u'fix',\n",
       " u'flan',\n",
       " u'flat',\n",
       " u'flavor',\n",
       " u'flavored',\n",
       " u'flavorful',\n",
       " u'flavorless',\n",
       " u'flavors',\n",
       " u'flight',\n",
       " u'floor',\n",
       " u'fluffy',\n",
       " u'foie',\n",
       " u'folks',\n",
       " u'followed',\n",
       " u'following',\n",
       " u'food',\n",
       " u'foodie',\n",
       " u'foods',\n",
       " u'forever',\n",
       " u'forget',\n",
       " u'forgot',\n",
       " u'fork',\n",
       " u'forward',\n",
       " u'fountain',\n",
       " u'fountains',\n",
       " u'free',\n",
       " u'fremont',\n",
       " u'french',\n",
       " u'frequent',\n",
       " u'frequently',\n",
       " u'fresh',\n",
       " u'freshly',\n",
       " u'friday',\n",
       " u'fried',\n",
       " u'friend',\n",
       " u'friendly',\n",
       " u'friends',\n",
       " u'fries',\n",
       " u'frozen',\n",
       " u'fruit',\n",
       " u'fry',\n",
       " u'fully',\n",
       " u'fun',\n",
       " u'funny',\n",
       " u'fusion',\n",
       " u'future',\n",
       " u'game',\n",
       " u'games',\n",
       " u'garden',\n",
       " u'garlic',\n",
       " u'gave',\n",
       " u'gelato',\n",
       " u'gem',\n",
       " u'general',\n",
       " u'generally',\n",
       " u'generous',\n",
       " u'gentleman',\n",
       " u'gets',\n",
       " u'getting',\n",
       " u'gf',\n",
       " u'giada',\n",
       " u'giant',\n",
       " u'gift',\n",
       " u'ginger',\n",
       " u'girl',\n",
       " u'girlfriend',\n",
       " u'girls',\n",
       " u'given',\n",
       " u'gives',\n",
       " u'giving',\n",
       " u'glad',\n",
       " u'glass',\n",
       " u'glasses',\n",
       " u'gluten',\n",
       " u'gnocchi',\n",
       " u'goat',\n",
       " u'god',\n",
       " u'goes',\n",
       " u'going',\n",
       " u'gold',\n",
       " u'golden',\n",
       " u'gone',\n",
       " u'gonna',\n",
       " u'good',\n",
       " u'goodness',\n",
       " u'gordon',\n",
       " u'gorgeous',\n",
       " u'got',\n",
       " u'gotta',\n",
       " u'gotten',\n",
       " u'gourmet',\n",
       " u'grab',\n",
       " u'grabbed',\n",
       " u'grand',\n",
       " u'gras',\n",
       " u'gravy',\n",
       " u'grease',\n",
       " u'greasy',\n",
       " u'great',\n",
       " u'greek',\n",
       " u'green',\n",
       " u'greens',\n",
       " u'greet',\n",
       " u'greeted',\n",
       " u'grill',\n",
       " u'grilled',\n",
       " u'grits',\n",
       " u'gross',\n",
       " u'ground',\n",
       " u'group',\n",
       " u'groupon',\n",
       " u'groups',\n",
       " u'guac',\n",
       " u'guacamole',\n",
       " u'guess',\n",
       " u'guest',\n",
       " u'guests',\n",
       " u'guy',\n",
       " u'guys',\n",
       " u'gyoza',\n",
       " u'gyro',\n",
       " u'hadn',\n",
       " u'haha',\n",
       " u'hair',\n",
       " u'half',\n",
       " u'ham',\n",
       " u'hamburger',\n",
       " u'hand',\n",
       " u'handed',\n",
       " u'handle',\n",
       " u'hands',\n",
       " u'hang',\n",
       " u'hanging',\n",
       " u'happen',\n",
       " u'happened',\n",
       " u'happens',\n",
       " u'happy',\n",
       " u'hard',\n",
       " u'hardly',\n",
       " u'hash',\n",
       " u'hate',\n",
       " u'haven',\n",
       " u'having',\n",
       " u'hawaii',\n",
       " u'hawaiian',\n",
       " u'head',\n",
       " u'health',\n",
       " u'healthy',\n",
       " u'hear',\n",
       " u'heard',\n",
       " u'heart',\n",
       " u'hearty',\n",
       " u'heat',\n",
       " u'heaven',\n",
       " u'heavy',\n",
       " u'hell',\n",
       " u'hello',\n",
       " u'help',\n",
       " u'helped',\n",
       " u'helpful',\n",
       " u'helping',\n",
       " u'henderson',\n",
       " u'hey',\n",
       " u'hidden',\n",
       " u'high',\n",
       " u'higher',\n",
       " u'highlight',\n",
       " u'highly',\n",
       " u'hint',\n",
       " u'hip',\n",
       " u'hit',\n",
       " u'hold',\n",
       " u'hole',\n",
       " u'holiday',\n",
       " u'hollywood',\n",
       " u'holy',\n",
       " u'home',\n",
       " u'homemade',\n",
       " u'honest',\n",
       " u'honestly',\n",
       " u'honey',\n",
       " u'hookah',\n",
       " u'hope',\n",
       " u'hopefully',\n",
       " u'hoping',\n",
       " u'horrible',\n",
       " u'hospitality',\n",
       " u'host',\n",
       " u'hostess',\n",
       " u'hot',\n",
       " u'hotel',\n",
       " u'hour',\n",
       " u'hours',\n",
       " u'house',\n",
       " u'hubby',\n",
       " u'huge',\n",
       " u'hummus',\n",
       " u'hungry',\n",
       " u'hurry',\n",
       " u'husband',\n",
       " u'hype',\n",
       " u'ice',\n",
       " u'iced',\n",
       " u'id',\n",
       " u'idea',\n",
       " u'ignored',\n",
       " u'im',\n",
       " u'imagine',\n",
       " u'immediately',\n",
       " u'impeccable',\n",
       " u'important',\n",
       " u'impressed',\n",
       " u'impression',\n",
       " u'impressive',\n",
       " u'include',\n",
       " u'included',\n",
       " u'includes',\n",
       " u'including',\n",
       " u'incredible',\n",
       " u'incredibly',\n",
       " u'indian',\n",
       " u'industry',\n",
       " u'inexpensive',\n",
       " u'informed',\n",
       " u'ingredients',\n",
       " u'inside',\n",
       " u'instead',\n",
       " u'interested',\n",
       " u'interesting',\n",
       " u'interior',\n",
       " u'intimate',\n",
       " u'inviting',\n",
       " u'island',\n",
       " u'isn',\n",
       " u'issue',\n",
       " u'issues',\n",
       " u'italian',\n",
       " u'item',\n",
       " u'items',\n",
       " u'ive',\n",
       " u'jack',\n",
       " u'jalape\\xf1o',\n",
       " u'jam',\n",
       " u'japanese',\n",
       " u'job',\n",
       " u'joe',\n",
       " u'john',\n",
       " u'joint',\n",
       " u'joints',\n",
       " u'joke',\n",
       " u'juice',\n",
       " u'juices',\n",
       " u'juicy',\n",
       " u'just',\n",
       " u'kale',\n",
       " u'karaoke',\n",
       " u'katsu',\n",
       " u'kept',\n",
       " u'ketchup',\n",
       " u'key',\n",
       " u'kick',\n",
       " u'kid',\n",
       " u'kids',\n",
       " u'kimchi',\n",
       " u'kind',\n",
       " u'kinda',\n",
       " u'kinds',\n",
       " u'king',\n",
       " u'kitchen',\n",
       " u'knew',\n",
       " u'know',\n",
       " u'knowing',\n",
       " u'knowledgeable',\n",
       " u'known',\n",
       " u'knows',\n",
       " u'kobe',\n",
       " u'korean',\n",
       " u'la',\n",
       " u'lack',\n",
       " u'lacked',\n",
       " u'lacking',\n",
       " u'ladies',\n",
       " u'lady',\n",
       " u'lamb',\n",
       " u'large',\n",
       " u'larger',\n",
       " u'las',\n",
       " u'lasagna',\n",
       " u'late',\n",
       " u'later',\n",
       " u'latte',\n",
       " u'lazy',\n",
       " u'leave',\n",
       " u'leaves',\n",
       " u'leaving',\n",
       " u'left',\n",
       " u'leftovers',\n",
       " u'legit',\n",
       " u'legs',\n",
       " u'lemon',\n",
       " u'lemonade',\n",
       " u'let',\n",
       " u'lettuce',\n",
       " u'level',\n",
       " u'life',\n",
       " u'light',\n",
       " u'lighting',\n",
       " u'lights',\n",
       " u'like',\n",
       " u'liked',\n",
       " u'likely',\n",
       " u'likes',\n",
       " u'liking',\n",
       " u'lime',\n",
       " u'limited',\n",
       " u'line',\n",
       " u'lines',\n",
       " u'list',\n",
       " u'listed',\n",
       " u'literally',\n",
       " u'little',\n",
       " u'live',\n",
       " u'lived',\n",
       " u'living',\n",
       " u'll',\n",
       " u'loaded',\n",
       " u'lobster',\n",
       " u'local',\n",
       " u'locals',\n",
       " u'located',\n",
       " u'location',\n",
       " u'locations',\n",
       " u'lol',\n",
       " u'long',\n",
       " u'longer',\n",
       " u'look',\n",
       " u'looked',\n",
       " u'looking',\n",
       " ...]"
      ]
     },
     "execution_count": 16,
     "metadata": {},
     "output_type": "execute_result"
    }
   ],
   "source": [
    "# Get the vocab of your tfidf\n",
    "words=vectorizer.get_feature_names()\n",
    "words"
   ]
  },
  {
   "cell_type": "code",
   "execution_count": 27,
   "metadata": {},
   "outputs": [
    {
     "data": {
      "text/plain": [
       "(175056L, 2000L)"
      ]
     },
     "execution_count": 27,
     "metadata": {},
     "output_type": "execute_result"
    }
   ],
   "source": [
    "x_train.shape"
   ]
  },
  {
   "cell_type": "code",
   "execution_count": null,
   "metadata": {
    "collapsed": true
   },
   "outputs": [],
   "source": [
    "# Use the trained model to transform your test data\n",
    "x_test=vectorizer.transform(document_test).toarray()\n"
   ]
  },
  {
   "cell_type": "markdown",
   "metadata": {},
   "source": [
    "## Similar review search engine"
   ]
  },
  {
   "cell_type": "code",
   "execution_count": 29,
   "metadata": {
    "collapsed": true
   },
   "outputs": [],
   "source": [
    "import numpy as np\n",
    "\n",
    "# We will need these helper methods pretty soon\n",
    "\n",
    "def get_top_values(lst, n, labels):\n",
    "    '''\n",
    "    INPUT: LIST, INTEGER, LIST\n",
    "    OUTPUT: LIST\n",
    "\n",
    "    Given a list of values, find the indices with the highest n values.\n",
    "    Return the labels for each of these indices.\n",
    "\n",
    "    e.g.\n",
    "    lst = [7, 3, 2, 4, 1]\n",
    "    n = 2\n",
    "    labels = [\"cat\", \"dog\", \"mouse\", \"pig\", \"rabbit\"]\n",
    "    output: [\"cat\", \"pig\"]\n",
    "    '''\n",
    "    return [labels[i] for i in np.argsort(lst)[::-1][:n]]  # np.argsort by default sorts values in ascending order\n",
    "  \n",
    "    \n",
    "\n",
    "\n",
    "def get_bottom_values(lst, n, labels):\n",
    "    '''\n",
    "    INPUT: LIST, INTEGER, LIST\n",
    "    OUTPUT: LIST\n",
    "\n",
    "    Given a list of values, find the indices with the lowest n values.\n",
    "    Return the labels for each of these indices.\n",
    "\n",
    "    e.g.\n",
    "    lst = [7, 3, 2, 4, 1]\n",
    "    n = 2\n",
    "    labels = [\"cat\", \"dog\", \"mouse\", \"pig\", \"rabbit\"]\n",
    "    output: [\"mouse\", \"rabbit\"]\n",
    "    '''\n",
    "    return [labels[i] for i in np.argsort(lst)[:n]]\n"
   ]
  },
  {
   "cell_type": "code",
   "execution_count": 30,
   "metadata": {
    "collapsed": true
   },
   "outputs": [],
   "source": [
    "# Let's use cosine similarity\n",
    "from sklearn.metrics.pairwise import cosine_similarity"
   ]
  },
  {
   "cell_type": "code",
   "execution_count": 32,
   "metadata": {},
   "outputs": [
    {
     "name": "stdout",
     "output_type": "stream",
     "text": [
      "This place is a gem. So many reasons for me to come back here!\n",
      "\n",
      "Here are the delicious items that I sampled last night:\n",
      "\n",
      "Truffle bone marrow \n",
      "Uni bites\n",
      "Fried rice\n",
      "Salmon belly ceviche\n",
      "Banana harumaki\n",
      "Iced green tea\n",
      "\n",
      "The bone marrow was such a treat and the truffle oil complimented it very nicely. It was also very nice of them to throw an extra bone in because it normally comes with two and the batch they had were too small. The salmon belly ceviche was so fresh tasting. Salmon can get a very fishy smell or taste and it absolutely did not have any of that. The fried rice was delicious and I really dug their special fried rice that has a combo of all three meats, in case you cannot choose just one! The banana harumaki was just amazing. Warm and gooey banana on the inside with the hint of heat from the dusted cayenne pepper. \n",
      "\n",
      "The chef even checked on us and asked us if we wanted some extra wonton chips for our dish. You can tell that he has a try passion for the restaurant business. This place also has amazing service. Super attentive and willing to answer any questions. I also really liked that every time our waitress dropped off a dish, it wasn't just a dash and go. She explained all the parts of the dish and the best way to eat it (such as with the dessert, that if you move it around on the plate, you will catch more of that cayenne pepper). \n",
      "\n",
      "A little tip: at this time, it is bring your own bottle! No corkage fee! This may change once they have a liquor license though. I also looked at that happy hour and reverse happy menu. I will definitely be back with a bottle of wine and an appetite to dive into their amazingly-priced little happy hour bites.\n",
      "[\"This place is a gem. So many reasons for me to come back here!\\n\\nHere are the delicious items that I sampled last night:\\n\\nTruffle bone marrow \\nUni bites\\nFried rice\\nSalmon belly ceviche\\nBanana harumaki\\nIced green tea\\n\\nThe bone marrow was such a treat and the truffle oil complimented it very nicely. It was also very nice of them to throw an extra bone in because it normally comes with two and the batch they had were too small. The salmon belly ceviche was so fresh tasting. Salmon can get a very fishy smell or taste and it absolutely did not have any of that. The fried rice was delicious and I really dug their special fried rice that has a combo of all three meats, in case you cannot choose just one! The banana harumaki was just amazing. Warm and gooey banana on the inside with the hint of heat from the dusted cayenne pepper. \\n\\nThe chef even checked on us and asked us if we wanted some extra wonton chips for our dish. You can tell that he has a try passion for the restaurant business. This place also has amazing service. Super attentive and willing to answer any questions. I also really liked that every time our waitress dropped off a dish, it wasn't just a dash and go. She explained all the parts of the dish and the best way to eat it (such as with the dessert, that if you move it around on the plate, you will catch more of that cayenne pepper). \\n\\nA little tip: at this time, it is bring your own bottle! No corkage fee! This may change once they have a liquor license though. I also looked at that happy hour and reverse happy menu. I will definitely be back with a bottle of wine and an appetite to dive into their amazingly-priced little happy hour bites.\"]\n"
     ]
    }
   ],
   "source": [
    "# Draw an arbitrary review from test (unseen in training) documents\n",
    "random_number=13\n",
    "search_query=document_test[random_number]\n",
    "search_queries=[search_query]\n",
    "print search_query\n",
    "print search_queries"
   ]
  },
  {
   "cell_type": "code",
   "execution_count": 34,
   "metadata": {
    "collapsed": true
   },
   "outputs": [],
   "source": [
    "# Transform the drawn review(s) to vector(s)\n",
    "vector_search_queries=vectorizer.transform(search_queries).toarray()"
   ]
  },
  {
   "cell_type": "code",
   "execution_count": 35,
   "metadata": {},
   "outputs": [
    {
     "ename": "MemoryError",
     "evalue": "",
     "output_type": "error",
     "traceback": [
      "\u001b[1;31m\u001b[0m",
      "\u001b[1;31mMemoryError\u001b[0mTraceback (most recent call last)",
      "\u001b[1;32m<ipython-input-35-eddfd6d4f6cd>\u001b[0m in \u001b[0;36m<module>\u001b[1;34m()\u001b[0m\n\u001b[0;32m      1\u001b[0m \u001b[1;31m# Calculate the similarity score(s) between vector(s) and training vectors\u001b[0m\u001b[1;33m\u001b[0m\u001b[1;33m\u001b[0m\u001b[0m\n\u001b[1;32m----> 2\u001b[1;33m \u001b[0msimilarity_score\u001b[0m\u001b[1;33m=\u001b[0m\u001b[0mcosine_similarity\u001b[0m\u001b[1;33m(\u001b[0m\u001b[0mvector_search_queries\u001b[0m\u001b[1;33m,\u001b[0m\u001b[0mx_train\u001b[0m\u001b[1;33m)\u001b[0m\u001b[1;33m\u001b[0m\u001b[0m\n\u001b[0m",
      "\u001b[1;32mC:\\Users\\Lei Lei\\Anaconda2\\lib\\site-packages\\sklearn\\metrics\\pairwise.pyc\u001b[0m in \u001b[0;36mcosine_similarity\u001b[1;34m(X, Y, dense_output)\u001b[0m\n\u001b[0;32m    914\u001b[0m         \u001b[0mY_normalized\u001b[0m \u001b[1;33m=\u001b[0m \u001b[0mX_normalized\u001b[0m\u001b[1;33m\u001b[0m\u001b[0m\n\u001b[0;32m    915\u001b[0m     \u001b[1;32melse\u001b[0m\u001b[1;33m:\u001b[0m\u001b[1;33m\u001b[0m\u001b[0m\n\u001b[1;32m--> 916\u001b[1;33m         \u001b[0mY_normalized\u001b[0m \u001b[1;33m=\u001b[0m \u001b[0mnormalize\u001b[0m\u001b[1;33m(\u001b[0m\u001b[0mY\u001b[0m\u001b[1;33m,\u001b[0m \u001b[0mcopy\u001b[0m\u001b[1;33m=\u001b[0m\u001b[0mTrue\u001b[0m\u001b[1;33m)\u001b[0m\u001b[1;33m\u001b[0m\u001b[0m\n\u001b[0m\u001b[0;32m    917\u001b[0m \u001b[1;33m\u001b[0m\u001b[0m\n\u001b[0;32m    918\u001b[0m     \u001b[0mK\u001b[0m \u001b[1;33m=\u001b[0m \u001b[0msafe_sparse_dot\u001b[0m\u001b[1;33m(\u001b[0m\u001b[0mX_normalized\u001b[0m\u001b[1;33m,\u001b[0m \u001b[0mY_normalized\u001b[0m\u001b[1;33m.\u001b[0m\u001b[0mT\u001b[0m\u001b[1;33m,\u001b[0m \u001b[0mdense_output\u001b[0m\u001b[1;33m=\u001b[0m\u001b[0mdense_output\u001b[0m\u001b[1;33m)\u001b[0m\u001b[1;33m\u001b[0m\u001b[0m\n",
      "\u001b[1;32mC:\\Users\\Lei Lei\\Anaconda2\\lib\\site-packages\\sklearn\\preprocessing\\data.pyc\u001b[0m in \u001b[0;36mnormalize\u001b[1;34m(X, norm, axis, copy, return_norm)\u001b[0m\n\u001b[0;32m   1342\u001b[0m \u001b[1;33m\u001b[0m\u001b[0m\n\u001b[0;32m   1343\u001b[0m     X = check_array(X, sparse_format, copy=copy, warn_on_dtype=True,\n\u001b[1;32m-> 1344\u001b[1;33m                     estimator='the normalize function', dtype=FLOAT_DTYPES)\n\u001b[0m\u001b[0;32m   1345\u001b[0m     \u001b[1;32mif\u001b[0m \u001b[0maxis\u001b[0m \u001b[1;33m==\u001b[0m \u001b[1;36m0\u001b[0m\u001b[1;33m:\u001b[0m\u001b[1;33m\u001b[0m\u001b[0m\n\u001b[0;32m   1346\u001b[0m         \u001b[0mX\u001b[0m \u001b[1;33m=\u001b[0m \u001b[0mX\u001b[0m\u001b[1;33m.\u001b[0m\u001b[0mT\u001b[0m\u001b[1;33m\u001b[0m\u001b[0m\n",
      "\u001b[1;32mC:\\Users\\Lei Lei\\Anaconda2\\lib\\site-packages\\sklearn\\utils\\validation.pyc\u001b[0m in \u001b[0;36mcheck_array\u001b[1;34m(array, accept_sparse, dtype, order, copy, force_all_finite, ensure_2d, allow_nd, ensure_min_samples, ensure_min_features, warn_on_dtype, estimator)\u001b[0m\n\u001b[0;32m    396\u001b[0m             \u001b[0marray\u001b[0m \u001b[1;33m=\u001b[0m \u001b[0mnp\u001b[0m\u001b[1;33m.\u001b[0m\u001b[0matleast_2d\u001b[0m\u001b[1;33m(\u001b[0m\u001b[0marray\u001b[0m\u001b[1;33m)\u001b[0m\u001b[1;33m\u001b[0m\u001b[0m\n\u001b[0;32m    397\u001b[0m             \u001b[1;31m# To ensure that array flags are maintained\u001b[0m\u001b[1;33m\u001b[0m\u001b[1;33m\u001b[0m\u001b[0m\n\u001b[1;32m--> 398\u001b[1;33m             \u001b[0marray\u001b[0m \u001b[1;33m=\u001b[0m \u001b[0mnp\u001b[0m\u001b[1;33m.\u001b[0m\u001b[0marray\u001b[0m\u001b[1;33m(\u001b[0m\u001b[0marray\u001b[0m\u001b[1;33m,\u001b[0m \u001b[0mdtype\u001b[0m\u001b[1;33m=\u001b[0m\u001b[0mdtype\u001b[0m\u001b[1;33m,\u001b[0m \u001b[0morder\u001b[0m\u001b[1;33m=\u001b[0m\u001b[0morder\u001b[0m\u001b[1;33m,\u001b[0m \u001b[0mcopy\u001b[0m\u001b[1;33m=\u001b[0m\u001b[0mcopy\u001b[0m\u001b[1;33m)\u001b[0m\u001b[1;33m\u001b[0m\u001b[0m\n\u001b[0m\u001b[0;32m    399\u001b[0m \u001b[1;33m\u001b[0m\u001b[0m\n\u001b[0;32m    400\u001b[0m         \u001b[1;31m# make sure we actually converted to numeric:\u001b[0m\u001b[1;33m\u001b[0m\u001b[1;33m\u001b[0m\u001b[0m\n",
      "\u001b[1;31mMemoryError\u001b[0m: "
     ]
    }
   ],
   "source": [
    "# Calculate the similarity score(s) between vector(s) and training vectors\n",
    "similarity_score=cosine_similarity(vector_search_queries,x_train)"
   ]
  },
  {
   "cell_type": "code",
   "execution_count": null,
   "metadata": {
    "collapsed": true
   },
   "outputs": [],
   "source": [
    "similarity_score.shape"
   ]
  },
  {
   "cell_type": "code",
   "execution_count": null,
   "metadata": {
    "collapsed": true
   },
   "outputs": [],
   "source": [
    "# Let's find top 5 similar reviews\n",
    "n = 5\n",
    "pass"
   ]
  },
  {
   "cell_type": "code",
   "execution_count": null,
   "metadata": {
    "collapsed": true
   },
   "outputs": [],
   "source": [
    "print 'Our search query:'\n",
    "print  # To be added"
   ]
  },
  {
   "cell_type": "code",
   "execution_count": null,
   "metadata": {
    "collapsed": true
   },
   "outputs": [],
   "source": [
    "print 'Most %s similar reviews:' % n\n",
    "print  # To be added"
   ]
  },
  {
   "cell_type": "markdown",
   "metadata": {},
   "source": [
    "#### Q: Does the result make sense to you?"
   ]
  },
  {
   "cell_type": "markdown",
   "metadata": {},
   "source": [
    "A: (insert your comments here)"
   ]
  },
  {
   "cell_type": "markdown",
   "metadata": {},
   "source": [
    "## Classifying positive/negative review"
   ]
  },
  {
   "cell_type": "markdown",
   "metadata": {},
   "source": [
    "#### Naive-Bayes Classifier"
   ]
  },
  {
   "cell_type": "code",
   "execution_count": null,
   "metadata": {
    "collapsed": true
   },
   "outputs": [],
   "source": [
    "# Build a Naive-Bayes Classifier\n",
    "\n",
    "from sklearn.naive_bayes import MultinomialNB\n",
    "\n",
    "pass"
   ]
  },
  {
   "cell_type": "code",
   "execution_count": null,
   "metadata": {
    "collapsed": true
   },
   "outputs": [],
   "source": [
    "# Get score for training set\n",
    "pass"
   ]
  },
  {
   "cell_type": "code",
   "execution_count": null,
   "metadata": {
    "collapsed": true
   },
   "outputs": [],
   "source": [
    "# Get score for test set\n",
    "pass"
   ]
  },
  {
   "cell_type": "markdown",
   "metadata": {},
   "source": [
    "#### Logistic Regression Classifier"
   ]
  },
  {
   "cell_type": "code",
   "execution_count": null,
   "metadata": {
    "collapsed": true
   },
   "outputs": [],
   "source": [
    "# Build a Logistic Regression Classifier\n",
    "\n",
    "from sklearn.linear_model import LogisticRegression\n",
    "\n",
    "pass"
   ]
  },
  {
   "cell_type": "code",
   "execution_count": null,
   "metadata": {
    "collapsed": true
   },
   "outputs": [],
   "source": [
    "# Get score for training set\n",
    "pass"
   ]
  },
  {
   "cell_type": "code",
   "execution_count": null,
   "metadata": {
    "collapsed": true,
    "scrolled": true
   },
   "outputs": [],
   "source": [
    "# Get score for test set\n",
    "pass"
   ]
  },
  {
   "cell_type": "markdown",
   "metadata": {},
   "source": [
    "#### Q: What are the key features(words) that make the positive prediction?"
   ]
  },
  {
   "cell_type": "code",
   "execution_count": null,
   "metadata": {
    "collapsed": true
   },
   "outputs": [],
   "source": [
    "# Let's find it out by ranking\n",
    "n = 20\n",
    "pass"
   ]
  },
  {
   "cell_type": "markdown",
   "metadata": {},
   "source": [
    "A: (insert your comments here)"
   ]
  },
  {
   "cell_type": "markdown",
   "metadata": {},
   "source": [
    "#### Q: What are the key features(words) that make the negative prediction?"
   ]
  },
  {
   "cell_type": "code",
   "execution_count": null,
   "metadata": {
    "collapsed": true
   },
   "outputs": [],
   "source": [
    "# Let's find it out by ranking\n",
    "n = 20\n",
    "pass"
   ]
  },
  {
   "cell_type": "markdown",
   "metadata": {},
   "source": [
    "A: (insert your comments here)"
   ]
  },
  {
   "cell_type": "markdown",
   "metadata": {},
   "source": [
    "#### Random Forest Classifier"
   ]
  },
  {
   "cell_type": "code",
   "execution_count": null,
   "metadata": {
    "collapsed": true
   },
   "outputs": [],
   "source": [
    "# Build a Random Forest Classifier\n",
    "\n",
    "from sklearn.ensemble import RandomForestClassifier\n",
    "\n",
    "pass"
   ]
  },
  {
   "cell_type": "code",
   "execution_count": null,
   "metadata": {
    "collapsed": true
   },
   "outputs": [],
   "source": [
    "# Get score for training set\n",
    "pass"
   ]
  },
  {
   "cell_type": "code",
   "execution_count": null,
   "metadata": {
    "collapsed": true
   },
   "outputs": [],
   "source": [
    "# Get score for test set\n",
    "pass"
   ]
  },
  {
   "cell_type": "markdown",
   "metadata": {},
   "source": [
    "#### Q: What do you see from the training score and the test score?"
   ]
  },
  {
   "cell_type": "markdown",
   "metadata": {},
   "source": [
    "A: (insert your comments here)"
   ]
  },
  {
   "cell_type": "markdown",
   "metadata": {},
   "source": [
    "#### Q: Can you tell what features (words) are important by inspecting the RFC model?"
   ]
  },
  {
   "cell_type": "code",
   "execution_count": null,
   "metadata": {
    "collapsed": true
   },
   "outputs": [],
   "source": [
    "n = 20\n",
    "pass"
   ]
  },
  {
   "cell_type": "markdown",
   "metadata": {},
   "source": [
    "## Extra Credit #1: Use cross validation to evaluate your classifiers\n",
    "\n",
    "[sklearn cross validation](http://scikit-learn.org/stable/modules/cross_validation.html)"
   ]
  },
  {
   "cell_type": "code",
   "execution_count": null,
   "metadata": {
    "collapsed": true
   },
   "outputs": [],
   "source": [
    "# To be implemented\n",
    "pass"
   ]
  },
  {
   "cell_type": "markdown",
   "metadata": {},
   "source": [
    "## Extra Credit #2: Use grid search to find best predictable classifier\n",
    "\n",
    "\n",
    "[sklearn grid search tutorial (with cross validation)](http://scikit-learn.org/stable/modules/grid_search.html#grid-search)\n",
    "\n",
    "[sklearn grid search documentation (with cross validation)](http://scikit-learn.org/stable/modules/generated/sklearn.model_selection.GridSearchCV.html#sklearn.model_selection.GridSearchCV)"
   ]
  },
  {
   "cell_type": "code",
   "execution_count": null,
   "metadata": {
    "collapsed": true
   },
   "outputs": [],
   "source": [
    "# To be implemented\n",
    "pass"
   ]
  },
  {
   "cell_type": "code",
   "execution_count": null,
   "metadata": {
    "collapsed": true
   },
   "outputs": [],
   "source": []
  }
 ],
 "metadata": {
  "anaconda-cloud": {},
  "kernelspec": {
   "display_name": "Python 2",
   "language": "python",
   "name": "python2"
  },
  "language_info": {
   "codemirror_mode": {
    "name": "ipython",
    "version": 2
   },
   "file_extension": ".py",
   "mimetype": "text/x-python",
   "name": "python",
   "nbconvert_exporter": "python",
   "pygments_lexer": "ipython2",
   "version": "2.7.13"
  }
 },
 "nbformat": 4,
 "nbformat_minor": 1
}
