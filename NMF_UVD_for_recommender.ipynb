{
 "cells": [
  {
   "cell_type": "code",
   "execution_count": 1,
   "metadata": {
    "collapsed": true
   },
   "outputs": [],
   "source": [
    "import numpy as np\n",
    "import pandas as pd\n",
    "from scipy import sparse\n",
    "from sklearn.metrics.pairwise import cosine_similarity\n",
    "from time import time"
   ]
  },
  {
   "cell_type": "code",
   "execution_count": 2,
   "metadata": {},
   "outputs": [
    {
     "data": {
      "text/html": [
       "<div>\n",
       "<style>\n",
       "    .dataframe thead tr:only-child th {\n",
       "        text-align: right;\n",
       "    }\n",
       "\n",
       "    .dataframe thead th {\n",
       "        text-align: left;\n",
       "    }\n",
       "\n",
       "    .dataframe tbody tr th {\n",
       "        vertical-align: top;\n",
       "    }\n",
       "</style>\n",
       "<table border=\"1\" class=\"dataframe\">\n",
       "  <thead>\n",
       "    <tr style=\"text-align: right;\">\n",
       "      <th>movie</th>\n",
       "      <th>1</th>\n",
       "      <th>2</th>\n",
       "      <th>3</th>\n",
       "      <th>4</th>\n",
       "      <th>5</th>\n",
       "      <th>6</th>\n",
       "      <th>7</th>\n",
       "      <th>8</th>\n",
       "      <th>9</th>\n",
       "      <th>10</th>\n",
       "      <th>...</th>\n",
       "      <th>1673</th>\n",
       "      <th>1674</th>\n",
       "      <th>1675</th>\n",
       "      <th>1676</th>\n",
       "      <th>1677</th>\n",
       "      <th>1678</th>\n",
       "      <th>1679</th>\n",
       "      <th>1680</th>\n",
       "      <th>1681</th>\n",
       "      <th>1682</th>\n",
       "    </tr>\n",
       "    <tr>\n",
       "      <th>user</th>\n",
       "      <th></th>\n",
       "      <th></th>\n",
       "      <th></th>\n",
       "      <th></th>\n",
       "      <th></th>\n",
       "      <th></th>\n",
       "      <th></th>\n",
       "      <th></th>\n",
       "      <th></th>\n",
       "      <th></th>\n",
       "      <th></th>\n",
       "      <th></th>\n",
       "      <th></th>\n",
       "      <th></th>\n",
       "      <th></th>\n",
       "      <th></th>\n",
       "      <th></th>\n",
       "      <th></th>\n",
       "      <th></th>\n",
       "      <th></th>\n",
       "      <th></th>\n",
       "    </tr>\n",
       "  </thead>\n",
       "  <tbody>\n",
       "    <tr>\n",
       "      <th>1</th>\n",
       "      <td>5</td>\n",
       "      <td>3</td>\n",
       "      <td>4</td>\n",
       "      <td>3</td>\n",
       "      <td>3</td>\n",
       "      <td>5</td>\n",
       "      <td>4</td>\n",
       "      <td>1</td>\n",
       "      <td>5</td>\n",
       "      <td>3</td>\n",
       "      <td>...</td>\n",
       "      <td>0</td>\n",
       "      <td>0</td>\n",
       "      <td>0</td>\n",
       "      <td>0</td>\n",
       "      <td>0</td>\n",
       "      <td>0</td>\n",
       "      <td>0</td>\n",
       "      <td>0</td>\n",
       "      <td>0</td>\n",
       "      <td>0</td>\n",
       "    </tr>\n",
       "    <tr>\n",
       "      <th>2</th>\n",
       "      <td>4</td>\n",
       "      <td>0</td>\n",
       "      <td>0</td>\n",
       "      <td>0</td>\n",
       "      <td>0</td>\n",
       "      <td>0</td>\n",
       "      <td>0</td>\n",
       "      <td>0</td>\n",
       "      <td>0</td>\n",
       "      <td>2</td>\n",
       "      <td>...</td>\n",
       "      <td>0</td>\n",
       "      <td>0</td>\n",
       "      <td>0</td>\n",
       "      <td>0</td>\n",
       "      <td>0</td>\n",
       "      <td>0</td>\n",
       "      <td>0</td>\n",
       "      <td>0</td>\n",
       "      <td>0</td>\n",
       "      <td>0</td>\n",
       "    </tr>\n",
       "    <tr>\n",
       "      <th>3</th>\n",
       "      <td>0</td>\n",
       "      <td>0</td>\n",
       "      <td>0</td>\n",
       "      <td>0</td>\n",
       "      <td>0</td>\n",
       "      <td>0</td>\n",
       "      <td>0</td>\n",
       "      <td>0</td>\n",
       "      <td>0</td>\n",
       "      <td>0</td>\n",
       "      <td>...</td>\n",
       "      <td>0</td>\n",
       "      <td>0</td>\n",
       "      <td>0</td>\n",
       "      <td>0</td>\n",
       "      <td>0</td>\n",
       "      <td>0</td>\n",
       "      <td>0</td>\n",
       "      <td>0</td>\n",
       "      <td>0</td>\n",
       "      <td>0</td>\n",
       "    </tr>\n",
       "    <tr>\n",
       "      <th>4</th>\n",
       "      <td>0</td>\n",
       "      <td>0</td>\n",
       "      <td>0</td>\n",
       "      <td>0</td>\n",
       "      <td>0</td>\n",
       "      <td>0</td>\n",
       "      <td>0</td>\n",
       "      <td>0</td>\n",
       "      <td>0</td>\n",
       "      <td>0</td>\n",
       "      <td>...</td>\n",
       "      <td>0</td>\n",
       "      <td>0</td>\n",
       "      <td>0</td>\n",
       "      <td>0</td>\n",
       "      <td>0</td>\n",
       "      <td>0</td>\n",
       "      <td>0</td>\n",
       "      <td>0</td>\n",
       "      <td>0</td>\n",
       "      <td>0</td>\n",
       "    </tr>\n",
       "    <tr>\n",
       "      <th>5</th>\n",
       "      <td>4</td>\n",
       "      <td>3</td>\n",
       "      <td>0</td>\n",
       "      <td>0</td>\n",
       "      <td>0</td>\n",
       "      <td>0</td>\n",
       "      <td>0</td>\n",
       "      <td>0</td>\n",
       "      <td>0</td>\n",
       "      <td>0</td>\n",
       "      <td>...</td>\n",
       "      <td>0</td>\n",
       "      <td>0</td>\n",
       "      <td>0</td>\n",
       "      <td>0</td>\n",
       "      <td>0</td>\n",
       "      <td>0</td>\n",
       "      <td>0</td>\n",
       "      <td>0</td>\n",
       "      <td>0</td>\n",
       "      <td>0</td>\n",
       "    </tr>\n",
       "  </tbody>\n",
       "</table>\n",
       "<p>5 rows × 1682 columns</p>\n",
       "</div>"
      ],
      "text/plain": [
       "movie  1     2     3     4     5     6     7     8     9     10    ...   1673  \\\n",
       "user                                                               ...          \n",
       "1         5     3     4     3     3     5     4     1     5     3  ...      0   \n",
       "2         4     0     0     0     0     0     0     0     0     2  ...      0   \n",
       "3         0     0     0     0     0     0     0     0     0     0  ...      0   \n",
       "4         0     0     0     0     0     0     0     0     0     0  ...      0   \n",
       "5         4     3     0     0     0     0     0     0     0     0  ...      0   \n",
       "\n",
       "movie  1674  1675  1676  1677  1678  1679  1680  1681  1682  \n",
       "user                                                         \n",
       "1         0     0     0     0     0     0     0     0     0  \n",
       "2         0     0     0     0     0     0     0     0     0  \n",
       "3         0     0     0     0     0     0     0     0     0  \n",
       "4         0     0     0     0     0     0     0     0     0  \n",
       "5         0     0     0     0     0     0     0     0     0  \n",
       "\n",
       "[5 rows x 1682 columns]"
      ]
     },
     "execution_count": 2,
     "metadata": {},
     "output_type": "execute_result"
    }
   ],
   "source": [
    "df_ratings_contents = pd.read_table(\"data/u.data\",\n",
    "                                    names=[\"user\", \"movie\", \"rating\", \"timestamp\"])\n",
    "\n",
    "df_utility = pd.pivot_table(data=df_ratings_contents, \n",
    "                            values='rating', \n",
    "                            index='user', \n",
    "                            columns='movie', \n",
    "                            fill_value=0)\n",
    "\n",
    "df_utility.head()"
   ]
  },
  {
   "cell_type": "code",
   "execution_count": 3,
   "metadata": {},
   "outputs": [
    {
     "data": {
      "text/html": [
       "<div>\n",
       "<style>\n",
       "    .dataframe thead tr:only-child th {\n",
       "        text-align: right;\n",
       "    }\n",
       "\n",
       "    .dataframe thead th {\n",
       "        text-align: left;\n",
       "    }\n",
       "\n",
       "    .dataframe tbody tr th {\n",
       "        vertical-align: top;\n",
       "    }\n",
       "</style>\n",
       "<table border=\"1\" class=\"dataframe\">\n",
       "  <thead>\n",
       "    <tr style=\"text-align: right;\">\n",
       "      <th>movie</th>\n",
       "      <th>1</th>\n",
       "      <th>2</th>\n",
       "      <th>3</th>\n",
       "      <th>4</th>\n",
       "      <th>5</th>\n",
       "      <th>6</th>\n",
       "      <th>7</th>\n",
       "      <th>8</th>\n",
       "      <th>9</th>\n",
       "      <th>10</th>\n",
       "      <th>...</th>\n",
       "      <th>1673</th>\n",
       "      <th>1674</th>\n",
       "      <th>1675</th>\n",
       "      <th>1676</th>\n",
       "      <th>1677</th>\n",
       "      <th>1678</th>\n",
       "      <th>1679</th>\n",
       "      <th>1680</th>\n",
       "      <th>1681</th>\n",
       "      <th>1682</th>\n",
       "    </tr>\n",
       "    <tr>\n",
       "      <th>user</th>\n",
       "      <th></th>\n",
       "      <th></th>\n",
       "      <th></th>\n",
       "      <th></th>\n",
       "      <th></th>\n",
       "      <th></th>\n",
       "      <th></th>\n",
       "      <th></th>\n",
       "      <th></th>\n",
       "      <th></th>\n",
       "      <th></th>\n",
       "      <th></th>\n",
       "      <th></th>\n",
       "      <th></th>\n",
       "      <th></th>\n",
       "      <th></th>\n",
       "      <th></th>\n",
       "      <th></th>\n",
       "      <th></th>\n",
       "      <th></th>\n",
       "      <th></th>\n",
       "    </tr>\n",
       "  </thead>\n",
       "  <tbody>\n",
       "    <tr>\n",
       "      <th>1</th>\n",
       "      <td>5</td>\n",
       "      <td>3</td>\n",
       "      <td>4</td>\n",
       "      <td>3</td>\n",
       "      <td>3</td>\n",
       "      <td>5</td>\n",
       "      <td>4</td>\n",
       "      <td>1</td>\n",
       "      <td>5</td>\n",
       "      <td>3</td>\n",
       "      <td>...</td>\n",
       "      <td>0</td>\n",
       "      <td>0</td>\n",
       "      <td>0</td>\n",
       "      <td>0</td>\n",
       "      <td>0</td>\n",
       "      <td>0</td>\n",
       "      <td>0</td>\n",
       "      <td>0</td>\n",
       "      <td>0</td>\n",
       "      <td>0</td>\n",
       "    </tr>\n",
       "    <tr>\n",
       "      <th>2</th>\n",
       "      <td>4</td>\n",
       "      <td>0</td>\n",
       "      <td>0</td>\n",
       "      <td>0</td>\n",
       "      <td>0</td>\n",
       "      <td>0</td>\n",
       "      <td>0</td>\n",
       "      <td>0</td>\n",
       "      <td>0</td>\n",
       "      <td>2</td>\n",
       "      <td>...</td>\n",
       "      <td>0</td>\n",
       "      <td>0</td>\n",
       "      <td>0</td>\n",
       "      <td>0</td>\n",
       "      <td>0</td>\n",
       "      <td>0</td>\n",
       "      <td>0</td>\n",
       "      <td>0</td>\n",
       "      <td>0</td>\n",
       "      <td>0</td>\n",
       "    </tr>\n",
       "    <tr>\n",
       "      <th>3</th>\n",
       "      <td>0</td>\n",
       "      <td>0</td>\n",
       "      <td>0</td>\n",
       "      <td>0</td>\n",
       "      <td>0</td>\n",
       "      <td>0</td>\n",
       "      <td>0</td>\n",
       "      <td>0</td>\n",
       "      <td>0</td>\n",
       "      <td>0</td>\n",
       "      <td>...</td>\n",
       "      <td>0</td>\n",
       "      <td>0</td>\n",
       "      <td>0</td>\n",
       "      <td>0</td>\n",
       "      <td>0</td>\n",
       "      <td>0</td>\n",
       "      <td>0</td>\n",
       "      <td>0</td>\n",
       "      <td>0</td>\n",
       "      <td>0</td>\n",
       "    </tr>\n",
       "    <tr>\n",
       "      <th>4</th>\n",
       "      <td>0</td>\n",
       "      <td>0</td>\n",
       "      <td>0</td>\n",
       "      <td>0</td>\n",
       "      <td>0</td>\n",
       "      <td>0</td>\n",
       "      <td>0</td>\n",
       "      <td>0</td>\n",
       "      <td>0</td>\n",
       "      <td>0</td>\n",
       "      <td>...</td>\n",
       "      <td>0</td>\n",
       "      <td>0</td>\n",
       "      <td>0</td>\n",
       "      <td>0</td>\n",
       "      <td>0</td>\n",
       "      <td>0</td>\n",
       "      <td>0</td>\n",
       "      <td>0</td>\n",
       "      <td>0</td>\n",
       "      <td>0</td>\n",
       "    </tr>\n",
       "    <tr>\n",
       "      <th>5</th>\n",
       "      <td>4</td>\n",
       "      <td>3</td>\n",
       "      <td>0</td>\n",
       "      <td>0</td>\n",
       "      <td>0</td>\n",
       "      <td>0</td>\n",
       "      <td>0</td>\n",
       "      <td>0</td>\n",
       "      <td>0</td>\n",
       "      <td>0</td>\n",
       "      <td>...</td>\n",
       "      <td>0</td>\n",
       "      <td>0</td>\n",
       "      <td>0</td>\n",
       "      <td>0</td>\n",
       "      <td>0</td>\n",
       "      <td>0</td>\n",
       "      <td>0</td>\n",
       "      <td>0</td>\n",
       "      <td>0</td>\n",
       "      <td>0</td>\n",
       "    </tr>\n",
       "  </tbody>\n",
       "</table>\n",
       "<p>5 rows × 1682 columns</p>\n",
       "</div>"
      ],
      "text/plain": [
       "movie  1     2     3     4     5     6     7     8     9     10    ...   1673  \\\n",
       "user                                                               ...          \n",
       "1         5     3     4     3     3     5     4     1     5     3  ...      0   \n",
       "2         4     0     0     0     0     0     0     0     0     2  ...      0   \n",
       "3         0     0     0     0     0     0     0     0     0     0  ...      0   \n",
       "4         0     0     0     0     0     0     0     0     0     0  ...      0   \n",
       "5         4     3     0     0     0     0     0     0     0     0  ...      0   \n",
       "\n",
       "movie  1674  1675  1676  1677  1678  1679  1680  1681  1682  \n",
       "user                                                         \n",
       "1         0     0     0     0     0     0     0     0     0  \n",
       "2         0     0     0     0     0     0     0     0     0  \n",
       "3         0     0     0     0     0     0     0     0     0  \n",
       "4         0     0     0     0     0     0     0     0     0  \n",
       "5         0     0     0     0     0     0     0     0     0  \n",
       "\n",
       "[5 rows x 1682 columns]"
      ]
     },
     "execution_count": 3,
     "metadata": {},
     "output_type": "execute_result"
    }
   ],
   "source": [
    "df_utility.head()"
   ]
  },
  {
   "cell_type": "code",
   "execution_count": 4,
   "metadata": {},
   "outputs": [
    {
     "name": "stdout",
     "output_type": "stream",
     "text": [
      "<class 'pandas.core.frame.DataFrame'>\n",
      "Int64Index: 943 entries, 1 to 943\n",
      "Columns: 1682 entries, 1 to 1682\n",
      "dtypes: int64(1682)\n",
      "memory usage: 12.1 MB\n"
     ]
    }
   ],
   "source": [
    "df_utility.info()"
   ]
  },
  {
   "cell_type": "code",
   "execution_count": 5,
   "metadata": {},
   "outputs": [
    {
     "data": {
      "text/plain": [
       "<943x1682 sparse matrix of type '<type 'numpy.float64'>'\n",
       "\twith 100000 stored elements in LInked List format>"
      ]
     },
     "execution_count": 5,
     "metadata": {},
     "output_type": "execute_result"
    }
   ],
   "source": [
    "highest_user_id = df_ratings_contents.user.max()\n",
    "highest_movie_id = df_ratings_contents.movie.max()\n",
    "ratings_mat = sparse.lil_matrix((highest_user_id, highest_movie_id))\n",
    "\n",
    "for _, row in df_ratings_contents.iterrows():\n",
    "    # subtract 1 from id's due to match 0 indexing\n",
    "    ratings_mat[row.user-1, row.movie-1] = row.rating\n",
    "\n",
    "ratings_mat"
   ]
  },
  {
   "cell_type": "markdown",
   "metadata": {},
   "source": [
    "### NMF"
   ]
  },
  {
   "cell_type": "code",
   "execution_count": 6,
   "metadata": {},
   "outputs": [
    {
     "name": "stdout",
     "output_type": "stream",
     "text": [
      "603.065970426\n",
      "(943L, 200L) (200L, 1682L)\n"
     ]
    }
   ],
   "source": [
    "from sklearn.decomposition import NMF\n",
    "\n",
    "def fit_nmf(M,k):\n",
    "    nmf = NMF(n_components=k)\n",
    "    nmf.fit(M)\n",
    "    W = nmf.transform(M);\n",
    "    H = nmf.components_;\n",
    "    err = nmf.reconstruction_err_\n",
    "    return W,H,err\n",
    "\n",
    "# decompose\n",
    "W,H,err = fit_nmf(ratings_mat,200)\n",
    "print err\n",
    "print W.shape,H.shape"
   ]
  },
  {
   "cell_type": "code",
   "execution_count": 7,
   "metadata": {},
   "outputs": [
    {
     "name": "stdout",
     "output_type": "stream",
     "text": [
      "2.52300501249\n",
      "1.09266948942\n"
     ]
    }
   ],
   "source": [
    "# reconstruct\n",
    "ratings_mat_fitted = W.dot(H)\n",
    "errs = np.array((ratings_mat-ratings_mat_fitted).flatten()).squeeze()\n",
    "mask = np.array((ratings_mat.todense()).flatten()).squeeze()>0\n",
    "\n",
    "mse = np.mean(errs[mask]**2)\n",
    "average_abs_err = abs(errs[mask]).mean()\n",
    "print mse\n",
    "print average_abs_err"
   ]
  },
  {
   "cell_type": "code",
   "execution_count": 33,
   "metadata": {},
   "outputs": [
    {
     "data": {
      "text/plain": [
       "array([[  4.99465434e+00,   3.06702900e+00,   4.03501457e+00, ...,\n",
       "          1.36039702e-05,   4.57832509e-04,   2.38915623e-01],\n",
       "       [  4.05043862e+00,   2.41608508e-02,   6.85436876e-02, ...,\n",
       "          1.57833899e-02,   1.91892693e-03,   2.25212076e-03],\n",
       "       [  1.87814404e-02,   2.32716457e-02,   1.00412197e-02, ...,\n",
       "          4.63825792e-02,   5.33899506e-03,   0.00000000e+00],\n",
       "       ..., \n",
       "       [  4.90307220e+00,   4.84641406e-02,   1.29646521e-01, ...,\n",
       "          8.04079189e-04,   3.56989291e-04,   1.85059226e-03],\n",
       "       [  7.08626009e-02,   3.93412355e-01,   1.04473693e-02, ...,\n",
       "          1.08709243e-02,   1.79619835e-02,   1.76012854e-03],\n",
       "       [  1.34614798e-01,   2.48662207e+00,   2.17392339e+00, ...,\n",
       "          0.00000000e+00,   1.36314004e-02,   1.49114505e-03]])"
      ]
     },
     "execution_count": 33,
     "metadata": {},
     "output_type": "execute_result"
    }
   ],
   "source": [
    "ratings_mat_fitted"
   ]
  },
  {
   "cell_type": "code",
   "execution_count": 38,
   "metadata": {},
   "outputs": [
    {
     "data": {
      "text/plain": [
       "[475, 273, 684, 24, 590, 454, 290, 863, 147, 249]"
      ]
     },
     "execution_count": 38,
     "metadata": {},
     "output_type": "execute_result"
    }
   ],
   "source": [
    "# get recommendations for one user\n",
    "user_id = 100\n",
    "n = 10\n",
    "\n",
    "pred_ratings = ratings_mat_fitted[user_id,:]\n",
    "item_index_sorted_by_pred_rating = list(np.argsort(pred_ratings))[::-1]\n",
    "\n",
    "items_rated_by_this_user = ratings_mat[user_id].nonzero()[1]\n",
    "\n",
    "unrated_items_by_pred_rating = [item for item in item_index_sorted_by_pred_rating\n",
    "                                if item not in items_rated_by_this_user]\n",
    "\n",
    "unrated_items_by_pred_rating[:n]"
   ]
  },
  {
   "cell_type": "code",
   "execution_count": 20,
   "metadata": {},
   "outputs": [
    {
     "name": "stdout",
     "output_type": "stream",
     "text": [
      "[(3.0, 2.9629520029509417), (3.0, 2.7449877176627329), (4.0, 2.6050796973933052), (4.0, 3.8996882914595106), (2.0, 0.73972613585803748), (2.0, 2.5737815733534721), (4.0, 3.1301414904754834), (3.0, 3.6961044249957724), (4.0, 4.9076080279180143), (1.0, 0.52709324283716885), (2.0, 1.3858658717955363), (4.0, 3.7647118617696327), (4.0, 2.9838171525786881), (3.0, 3.0559630550344581), (4.0, 3.4755788588429195), (3.0, 3.0501635650609873), (3.0, 1.2457615708521204), (5.0, 4.6984927891751109), (3.0, 2.1267204307078376), (4.0, 2.6713107918015448), (4.0, 3.8899096814434833), (2.0, 1.2853338766942393), (3.0, 1.9556590165911498), (2.0, 1.6938319814790206), (3.0, 3.573331832423237), (4.0, 2.5305592651773914), (4.0, 2.8992234260805732), (3.0, 1.9580426556514785), (2.0, 1.0185592354432385), (2.0, 0.54912226142829279), (4.0, 3.6709778100162356), (2.0, 2.0497992332729336), (2.0, 0.8726701283656948), (3.0, 3.1361308386012809), (3.0, 2.5905343811392352), (4.0, 3.0865793166576232), (2.0, 1.4319961061545685), (3.0, 1.5553544539190371), (3.0, 3.1737855436137306), (3.0, 1.2996562739220852), (4.0, 2.8683280211099502), (3.0, 1.6585260191443709), (3.0, 2.0406740298702939), (3.0, 2.0159723556745885), (1.0, 0.76904706943212786), (3.0, 1.6975629212239591), (3.0, 1.2194402614567814), (3.0, 0.91949919919793777), (3.0, 1.3862444742875966), (3.0, 0.80681685675443249), (2.0, 0.89444120275556316), (3.0, 2.7061122924221337), (3.0, 0.79297501864207753), (4.0, 2.814012919444874), (4.0, 1.7097207019782696), (3.0, 1.3870926987842229), (2.0, 1.5093562328303891), (2.0, 0.92722670917571215), (2.0, 0.60543404729739791), (2.0, 0.33095113427529432), (3.0, 2.4477662962160101), (2.0, 0.64975211104318764), (2.0, 1.4369877368044275), (2.0, 0.68323031512219479), (2.0, 0.12942096532910188), (1.0, 0.33129045544865782), (3.0, 0.50597067060283241)]\n",
      "[[ 0.037048    0.25501228  1.3949203   0.10031171  1.26027386 -0.57378157\n",
      "   0.86985851 -0.69610442 -0.90760803  0.47290676  0.61413413  0.23528814\n",
      "   1.01618285 -0.05596306  0.52442114 -0.05016357  1.75423843  0.30150721\n",
      "   0.87327957  1.32868921  0.11009032  0.71466612  1.04434098  0.30616802\n",
      "  -0.57333183  1.46944073  1.10077657  1.04195734  0.98144076  1.45087774\n",
      "   0.32902219 -0.04979923  1.12732987 -0.13613084  0.40946562  0.91342068\n",
      "   0.56800389  1.44464555 -0.17378554  1.70034373  1.13167198  1.34147398\n",
      "   0.95932597  0.98402764  0.23095293  1.30243708  1.78055974  2.0805008\n",
      "   1.61375553  2.19318314  1.1055588   0.29388771  2.20702498  1.18598708\n",
      "   2.2902793   1.6129073   0.49064377  1.07277329  1.39456595  1.66904887\n",
      "   0.5522337   1.35024789  0.56301226  1.31676968  1.87057903  0.66870954\n",
      "   2.49402933]]\n",
      "0.966013098532\n"
     ]
    }
   ],
   "source": [
    "### check errors\n",
    "# truth\n",
    "ratings_true = ratings_mat[user_id, items_rated_by_this_user].todense()\n",
    "# prediction\n",
    "ratings_pred = pred_ratings[items_rated_by_this_user]\n",
    "print zip(np.array(ratings_true).squeeze(),ratings_pred)\n",
    "err_one_user = ratings_true-ratings_pred\n",
    "print err_one_user\n",
    "print abs(err_one_user).mean()"
   ]
  },
  {
   "cell_type": "markdown",
   "metadata": {},
   "source": [
    "### UVD/SVD"
   ]
  },
  {
   "cell_type": "code",
   "execution_count": 11,
   "metadata": {
    "collapsed": true
   },
   "outputs": [],
   "source": [
    "from sklearn.decomposition import TruncatedSVD\n",
    "\n",
    "def fit_uvd(M,k):\n",
    "    # use TruncatedSVD to realize UVD\n",
    "    svd = TruncatedSVD(n_components=k, n_iter=7, random_state=0)\n",
    "    svd.fit(M)\n",
    "\n",
    "    V = svd.components_\n",
    "    U = svd.transform(M) # effectively, it's doing: U = M.dot(V.T)\n",
    "    # we can ignore svd.singular_values_ for our purpose\n",
    "    \n",
    "    # why we can do this?\n",
    "    # recall: \n",
    "    # SVD start from u*s*v=M => u*s=M*v.T, where M*v.T is our transformation above to get U in UVD\n",
    "    # so the above U is effectively u*s in SVD\n",
    "    # that's why U*V = u*s*v = M our original matrix\n",
    "    # there are many ways to understand it!\n",
    "    # here we by-passed singular values.\n",
    "    \n",
    "    return U,V\n",
    "\n",
    "# decompose\n",
    "U,V = fit_uvd(ratings_mat,200)\n"
   ]
  },
  {
   "cell_type": "code",
   "execution_count": 13,
   "metadata": {},
   "outputs": [
    {
     "name": "stdout",
     "output_type": "stream",
     "text": [
      "(943, 1682) (943L, 200L) (200L, 1682L)\n"
     ]
    }
   ],
   "source": [
    "print ratings_mat.shape, U.shape,V.shape"
   ]
  },
  {
   "cell_type": "code",
   "execution_count": 14,
   "metadata": {},
   "outputs": [
    {
     "name": "stdout",
     "output_type": "stream",
     "text": [
      "1.03552547234\n",
      "0.754982820003\n"
     ]
    }
   ],
   "source": [
    "# reconstruct\n",
    "ratings_mat_fitted = U.dot(V) # U*V\n",
    "# recall: U = M.dot(V.T), then this is M.dot(V.T).dot(V)\n",
    "# original M is transformed to new space, then transformed back\n",
    "# this is another way to understand it!\n",
    "\n",
    "# calculate errs\n",
    "errs = np.array((ratings_mat-ratings_mat_fitted).flatten()).squeeze()\n",
    "mask = np.array((ratings_mat.todense()).flatten()).squeeze()>0\n",
    "\n",
    "mse = np.mean(errs[mask]**2)\n",
    "average_abs_err = abs(errs[mask]).mean()\n",
    "print mse\n",
    "print average_abs_err"
   ]
  },
  {
   "cell_type": "code",
   "execution_count": 15,
   "metadata": {},
   "outputs": [
    {
     "name": "stdout",
     "output_type": "stream",
     "text": [
      "0.0\n"
     ]
    }
   ],
   "source": [
    "# with the above \"tranformed to the new space and back\" language\n",
    "# without the UV language, we can do:\n",
    "M = ratings_mat\n",
    "k = 200\n",
    "svd = TruncatedSVD(n_components=k, n_iter=7, random_state=0)\n",
    "svd.fit(M)\n",
    "M_prime = svd.inverse_transform(svd.transform(M))\n",
    "print sum(sum(U.dot(V) - M_prime))\n",
    "# they are just equivalent!!"
   ]
  },
  {
   "cell_type": "code",
   "execution_count": 16,
   "metadata": {},
   "outputs": [
    {
     "data": {
      "text/plain": [
       "array([[  5.10986304e+00,   3.21122582e+00,   2.79462833e+00, ...,\n",
       "         -1.53418143e-02,  -4.48169325e-02,   1.63902493e-01],\n",
       "       [  4.09627950e+00,   1.16269655e-01,   5.26546593e-01, ...,\n",
       "          2.98694011e-03,  -1.66378827e-02,  -1.29433745e-02],\n",
       "       [ -3.49348385e-01,  -5.75526384e-01,  -4.91766861e-01, ...,\n",
       "          5.89932906e-02,  -3.81695359e-02,  -1.09241961e-02],\n",
       "       ..., \n",
       "       [  4.16911033e+00,  -1.25975080e-01,   4.54718614e-01, ...,\n",
       "         -3.32419824e-03,   1.48767976e-02,  -2.78277895e-02],\n",
       "       [  2.10606916e-01,   3.16056252e-01,   5.56351259e-01, ...,\n",
       "         -2.75769057e-02,  -5.01965386e-02,  -1.01546069e-01],\n",
       "       [ -1.80260324e-02,   3.72262167e+00,   9.99008586e-01, ...,\n",
       "         -2.31869146e-02,   2.81208494e-02,  -1.37596348e-02]])"
      ]
     },
     "execution_count": 16,
     "metadata": {},
     "output_type": "execute_result"
    }
   ],
   "source": [
    "M_prime"
   ]
  },
  {
   "cell_type": "code",
   "execution_count": 18,
   "metadata": {},
   "outputs": [
    {
     "data": {
      "text/plain": [
       "[475, 684, 409, 863, 454, 147, 24, 273, 239, 933]"
      ]
     },
     "execution_count": 18,
     "metadata": {},
     "output_type": "execute_result"
    }
   ],
   "source": [
    "# get recommendations for one user\n",
    "user_id = 100\n",
    "n = 10\n",
    "\n",
    "pred_ratings = ratings_mat_fitted[user_id,:]\n",
    "item_index_sorted_by_pred_rating = list(np.argsort(pred_ratings))[::-1]\n",
    "\n",
    "items_rated_by_this_user = ratings_mat[user_id].nonzero()[1]\n",
    "\n",
    "unrated_items_by_pred_rating = [item for item in item_index_sorted_by_pred_rating\n",
    "                                if item not in items_rated_by_this_user]\n",
    "\n",
    "unrated_items_by_pred_rating[:n]"
   ]
  },
  {
   "cell_type": "code",
   "execution_count": 19,
   "metadata": {},
   "outputs": [
    {
     "name": "stdout",
     "output_type": "stream",
     "text": [
      "[(3.0, 2.9629520029509417), (3.0, 2.7449877176627329), (4.0, 2.6050796973933052), (4.0, 3.8996882914595106), (2.0, 0.73972613585803748), (2.0, 2.5737815733534721), (4.0, 3.1301414904754834), (3.0, 3.6961044249957724), (4.0, 4.9076080279180143), (1.0, 0.52709324283716885), (2.0, 1.3858658717955363), (4.0, 3.7647118617696327), (4.0, 2.9838171525786881), (3.0, 3.0559630550344581), (4.0, 3.4755788588429195), (3.0, 3.0501635650609873), (3.0, 1.2457615708521204), (5.0, 4.6984927891751109), (3.0, 2.1267204307078376), (4.0, 2.6713107918015448), (4.0, 3.8899096814434833), (2.0, 1.2853338766942393), (3.0, 1.9556590165911498), (2.0, 1.6938319814790206), (3.0, 3.573331832423237), (4.0, 2.5305592651773914), (4.0, 2.8992234260805732), (3.0, 1.9580426556514785), (2.0, 1.0185592354432385), (2.0, 0.54912226142829279), (4.0, 3.6709778100162356), (2.0, 2.0497992332729336), (2.0, 0.8726701283656948), (3.0, 3.1361308386012809), (3.0, 2.5905343811392352), (4.0, 3.0865793166576232), (2.0, 1.4319961061545685), (3.0, 1.5553544539190371), (3.0, 3.1737855436137306), (3.0, 1.2996562739220852), (4.0, 2.8683280211099502), (3.0, 1.6585260191443709), (3.0, 2.0406740298702939), (3.0, 2.0159723556745885), (1.0, 0.76904706943212786), (3.0, 1.6975629212239591), (3.0, 1.2194402614567814), (3.0, 0.91949919919793777), (3.0, 1.3862444742875966), (3.0, 0.80681685675443249), (2.0, 0.89444120275556316), (3.0, 2.7061122924221337), (3.0, 0.79297501864207753), (4.0, 2.814012919444874), (4.0, 1.7097207019782696), (3.0, 1.3870926987842229), (2.0, 1.5093562328303891), (2.0, 0.92722670917571215), (2.0, 0.60543404729739791), (2.0, 0.33095113427529432), (3.0, 2.4477662962160101), (2.0, 0.64975211104318764), (2.0, 1.4369877368044275), (2.0, 0.68323031512219479), (2.0, 0.12942096532910188), (1.0, 0.33129045544865782), (3.0, 0.50597067060283241)]\n",
      "[[ 0.037048    0.25501228  1.3949203   0.10031171  1.26027386 -0.57378157\n",
      "   0.86985851 -0.69610442 -0.90760803  0.47290676  0.61413413  0.23528814\n",
      "   1.01618285 -0.05596306  0.52442114 -0.05016357  1.75423843  0.30150721\n",
      "   0.87327957  1.32868921  0.11009032  0.71466612  1.04434098  0.30616802\n",
      "  -0.57333183  1.46944073  1.10077657  1.04195734  0.98144076  1.45087774\n",
      "   0.32902219 -0.04979923  1.12732987 -0.13613084  0.40946562  0.91342068\n",
      "   0.56800389  1.44464555 -0.17378554  1.70034373  1.13167198  1.34147398\n",
      "   0.95932597  0.98402764  0.23095293  1.30243708  1.78055974  2.0805008\n",
      "   1.61375553  2.19318314  1.1055588   0.29388771  2.20702498  1.18598708\n",
      "   2.2902793   1.6129073   0.49064377  1.07277329  1.39456595  1.66904887\n",
      "   0.5522337   1.35024789  0.56301226  1.31676968  1.87057903  0.66870954\n",
      "   2.49402933]]\n",
      "0.966013098532\n"
     ]
    }
   ],
   "source": [
    "### check errors\n",
    "# truth\n",
    "ratings_true = ratings_mat[user_id, items_rated_by_this_user].todense()\n",
    "# prediction\n",
    "ratings_pred = pred_ratings[items_rated_by_this_user]\n",
    "print zip(np.array(ratings_true).squeeze(),ratings_pred)\n",
    "err_one_user = ratings_true-ratings_pred\n",
    "print err_one_user\n",
    "print abs(err_one_user).mean()"
   ]
  }
 ],
 "metadata": {
  "kernelspec": {
   "display_name": "Python 2",
   "language": "python",
   "name": "python2"
  },
  "language_info": {
   "codemirror_mode": {
    "name": "ipython",
    "version": 2
   },
   "file_extension": ".py",
   "mimetype": "text/x-python",
   "name": "python",
   "nbconvert_exporter": "python",
   "pygments_lexer": "ipython2",
   "version": "2.7.13"
  }
 },
 "nbformat": 4,
 "nbformat_minor": 2
}
